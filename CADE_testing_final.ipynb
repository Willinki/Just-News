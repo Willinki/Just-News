{
 "cells": [
  {
   "cell_type": "code",
   "execution_count": 331,
   "metadata": {
    "ExecuteTime": {
     "end_time": "2020-09-08T10:58:38.026140Z",
     "start_time": "2020-09-08T10:58:38.018083Z"
    }
   },
   "outputs": [],
   "source": [
    "# General purpose\n",
    "import pandas as pd\n",
    "import os\n",
    "import glob\n",
    "import json\n",
    "import numpy as np\n",
    "from ast import literal_eval\n",
    "import string\n",
    "import matplotlib.pyplot as plt\n",
    "from scipy.spatial.distance import cosine\n",
    "import itertools\n",
    "from numpy.linalg import norm\n",
    "from collections import Counter\n",
    "import codecs\n",
    "import tqdm\n",
    "import scipy as sp\n",
    "# NLP\n",
    "from cade.cade import CADE\n",
    "from gensim.models.word2vec import Word2Vec\n",
    "# Machine Learning\n",
    "from sklearn.decomposition import PCA\n",
    "from sklearn.linear_model import LogisticRegression\n",
    "from sklearn.model_selection import train_test_split\n",
    "from sklearn.naive_bayes import GaussianNB\n",
    "from sklearn import svm\n",
    "from sklearn.model_selection import cross_val_score\n",
    "# currently installed theme will be used to\n",
    "# set plot style if no arguments provided\n",
    "# Theme\n",
    "from jupyterthemes import jtplot\n",
    "jtplot.style()"
   ]
  },
  {
   "cell_type": "code",
   "execution_count": 2,
   "metadata": {
    "ExecuteTime": {
     "end_time": "2020-09-08T08:32:41.319056Z",
     "start_time": "2020-09-08T08:32:41.316618Z"
    }
   },
   "outputs": [],
   "source": [
    "# Function to remove punctuation from strings.\n",
    "# Copied from Prof.\n",
    "def simple_preproc(text):\n",
    "  \"\"\"\n",
    "  see: https://stackoverflow.com/questions/265960/best-way-to-strip-punctuation-from-a-string\n",
    "  \"\"\"\n",
    "  return text.translate(str.maketrans('', '', string.punctuation))"
   ]
  },
  {
   "cell_type": "markdown",
   "metadata": {},
   "source": [
    "# Pre-processing\n",
    "\n",
    "Here we load the json arrays from Mongo and output a csv file, i.e. a pandas dataframe. \n",
    "This DF will be used for the CADE training.\n",
    "\n",
    "Provo senza Wikipedia"
   ]
  },
  {
   "cell_type": "code",
   "execution_count": 3,
   "metadata": {
    "ExecuteTime": {
     "end_time": "2020-09-04T08:05:45.159363Z",
     "start_time": "2020-09-04T08:05:42.811559Z"
    }
   },
   "outputs": [
    {
     "name": "stdout",
     "output_type": "stream",
     "text": [
      "./data_final/scraping_data_Breitbart.json\n",
      "./data_final/scraping_data_NYTimes.json\n"
     ]
    }
   ],
   "source": [
    "df_list = pd.DataFrame()\n",
    "for filename in glob.glob('../data_final/*.json'):\n",
    "    print(filename)\n",
    "    with open(filename, 'r') as f:\n",
    "        json_load = json.loads(f.read())\n",
    "        df_list = df_list.append(pd.DataFrame.from_records(json_load, index=\"_id\"), ignore_index = True)"
   ]
  },
  {
   "cell_type": "code",
   "execution_count": 4,
   "metadata": {
    "ExecuteTime": {
     "end_time": "2020-09-01T13:37:08.930297Z",
     "start_time": "2020-09-01T13:37:08.895411Z"
    }
   },
   "outputs": [],
   "source": [
    "df_list = df_list[['Title', \"Date\", \"Link\", \"Paragraphs\", \"Authors\"]]"
   ]
  },
  {
   "cell_type": "code",
   "execution_count": 5,
   "metadata": {
    "ExecuteTime": {
     "end_time": "2020-09-01T13:37:09.750994Z",
     "start_time": "2020-09-01T13:37:09.747077Z"
    }
   },
   "outputs": [],
   "source": [
    "def create_newssite(link = None):\n",
    "        if link is np.nan:\n",
    "            return(\"Wikipedia\")\n",
    "        elif \"slate.com\" in link:\n",
    "            return(\"Slate\")\n",
    "        elif \"https://www.nytimes.com\" in link:\n",
    "            return(\"New York Times\")\n",
    "        elif \"https://www.breitbart.com\" in link:\n",
    "            return(\"Breitbart\")\n",
    "        elif \"https://www.cnn.com\" in link:\n",
    "            return(\"CNN\")\n",
    "        elif \"abcnews\" in link:\n",
    "            return(\"ABC News\")\n",
    "        elif \"https://thefederalist.com\" in link:\n",
    "            return(\"The Federalist\")\n",
    "        elif \"https://www.newsmax.com\" in link:\n",
    "            return(\"News Max\")\n",
    "        else:\n",
    "            return(\"Unknown\")"
   ]
  },
  {
   "cell_type": "code",
   "execution_count": 6,
   "metadata": {
    "ExecuteTime": {
     "end_time": "2020-09-01T13:37:13.426602Z",
     "start_time": "2020-09-01T13:37:13.377277Z"
    }
   },
   "outputs": [
    {
     "name": "stdout",
     "output_type": "stream",
     "text": [
      "AVVOCATO CI SIAMO\n"
     ]
    }
   ],
   "source": [
    "df_list[\"Newssite\"] = df_list[\"Link\"].apply(create_newssite)\n",
    "\n",
    "if len(df_list[df_list[\"Newssite\"][:] == \"Unknown\"]) == 0:\n",
    "    print(\"AVVOCATO CI SIAMO\")"
   ]
  },
  {
   "cell_type": "code",
   "execution_count": 7,
   "metadata": {
    "ExecuteTime": {
     "end_time": "2020-09-01T11:00:26.464683Z",
     "start_time": "2020-09-01T11:00:20.623411Z"
    }
   },
   "outputs": [],
   "source": [
    "with open(\"./data_safe.csv\", 'w') as file:\n",
    "    df_list.to_csv(file)"
   ]
  },
  {
   "cell_type": "markdown",
   "metadata": {
    "heading_collapsed": true
   },
   "source": [
    "# CADE"
   ]
  },
  {
   "cell_type": "markdown",
   "metadata": {
    "heading_collapsed": true,
    "hidden": true
   },
   "source": [
    "## Embedding totale"
   ]
  },
  {
   "cell_type": "markdown",
   "metadata": {
    "hidden": true
   },
   "source": [
    "First, we create a big text with everything. Like, EVERYTHING."
   ]
  },
  {
   "cell_type": "code",
   "execution_count": 8,
   "metadata": {
    "ExecuteTime": {
     "end_time": "2020-09-03T09:14:58.811539Z",
     "start_time": "2020-09-03T09:14:51.736010Z"
    },
    "hidden": true
   },
   "outputs": [],
   "source": [
    "with open(\"./data_safe.csv\") as file:\n",
    "    df = pd.read_csv(file, engine='c')\n",
    "\n",
    "df[\"Paragraphs\"] = df[\"Paragraphs\"].apply(literal_eval)\n",
    "\n",
    "EVERYTHING = \"\"\n",
    "for k in df[\"Paragraphs\"]:\n",
    "    EVERYTHING += \"\\n\".join(k)"
   ]
  },
  {
   "cell_type": "code",
   "execution_count": 9,
   "metadata": {
    "ExecuteTime": {
     "end_time": "2020-09-03T09:15:15.696792Z",
     "start_time": "2020-09-03T09:14:58.813419Z"
    },
    "hidden": true
   },
   "outputs": [],
   "source": [
    "EVERYTHING = simple_preproc(EVERYTHING).lower()\n",
    "EVERYTHING = EVERYTHING.replace(\"—\", \n",
    "                                                \"\").replace(\"\\n\", \n",
    "                                                            \" \").replace(\"“\", \n",
    "                                                                         \"\").replace(\"“\", \n",
    "                                                                                          \"\").replace(\"”\", \n",
    "                                                                                                      \"\").replace(\"’s\", \n",
    "                                                                                                             \"\")"
   ]
  },
  {
   "cell_type": "code",
   "execution_count": 10,
   "metadata": {
    "ExecuteTime": {
     "end_time": "2020-09-03T09:15:16.150852Z",
     "start_time": "2020-09-03T09:15:15.699831Z"
    },
    "hidden": true
   },
   "outputs": [],
   "source": [
    "with open(\"./EVERYTHING.txt\", 'w') as file:\n",
    "    file.write(EVERYTHING)"
   ]
  },
  {
   "cell_type": "code",
   "execution_count": 3,
   "metadata": {
    "ExecuteTime": {
     "end_time": "2020-09-04T09:40:41.662023Z",
     "start_time": "2020-09-04T09:37:43.301198Z"
    },
    "hidden": true
   },
   "outputs": [
    {
     "name": "stdout",
     "output_type": "stream",
     "text": [
      "Training the compass from scratch.\n"
     ]
    }
   ],
   "source": [
    "aligner = CADE(size=100, workers=12)\n",
    "\n",
    "aligner.train_compass(\"./EVERYTHING.txt\", overwrite=False) # keep an eye on the overwrite behaviour"
   ]
  },
  {
   "cell_type": "markdown",
   "metadata": {
    "heading_collapsed": true,
    "hidden": true
   },
   "source": [
    "## Embedding singolo slice"
   ]
  },
  {
   "cell_type": "code",
   "execution_count": 4,
   "metadata": {
    "ExecuteTime": {
     "end_time": "2020-09-04T09:41:03.786670Z",
     "start_time": "2020-09-04T09:40:41.664055Z"
    },
    "hidden": true
   },
   "outputs": [
    {
     "name": "stdout",
     "output_type": "stream",
     "text": [
      "[INFO] Progress:1/2\n",
      "[INFO] Progress:2/2\n"
     ]
    }
   ],
   "source": [
    "with open(\"./data_safe.csv\") as file:\n",
    "    df = pd.read_csv(file, engine='c')\n",
    "    \n",
    "df[\"Paragraphs\"] = df[\"Paragraphs\"].apply(literal_eval)\n",
    "\n",
    "for i, Newssite in enumerate(df[\"Newssite\"].unique()):\n",
    "    print(\"[INFO] Progress:\"+str(i+1)+\"/\"+str(len(df[\"Newssite\"].unique())))\n",
    "    newssite_to_text = \"\"\n",
    "    for k in df[df[\"Newssite\"] == Newssite][\"Paragraphs\"][:]:\n",
    "        newssite_to_text += \"\\n\".join(k)\n",
    "    newssite_to_text = simple_preproc(newssite_to_text).lower()\n",
    "    newssite_to_text = newssite_to_text.replace(\"—\", \n",
    "                                                \"\").replace(\"\\n\", \n",
    "                                                            \" \").replace(\"“\", \n",
    "                                                                         \"\").replace(\"“\", \n",
    "                                                                                          \"\").replace(\"”\", \n",
    "                                                                                                      \"\").replace(\"’s\", \n",
    "                                                                                                             \"\")\n",
    "    with open(\"./text_\"+str(Newssite)+\".txt\", 'w') as file:\n",
    "        file.write(newssite_to_text)"
   ]
  },
  {
   "cell_type": "code",
   "execution_count": 5,
   "metadata": {
    "ExecuteTime": {
     "end_time": "2020-09-04T09:44:36.883108Z",
     "start_time": "2020-09-04T09:41:03.788841Z"
    },
    "hidden": true
   },
   "outputs": [
    {
     "name": "stdout",
     "output_type": "stream",
     "text": [
      "Training embeddings: slice ./text_Breitbart.txt.\n",
      "Initializing embeddings from compass.\n",
      "Training embeddings: slice ./text_New York Times.txt.\n",
      "Initializing embeddings from compass.\n"
     ]
    }
   ],
   "source": [
    "slices = {\n",
    "            Newssite: aligner.train_slice(\"./text_\"+str(Newssite)+\".txt\", save=False)\n",
    "            for Newssite in df[\"Newssite\"].unique()\n",
    "         }"
   ]
  },
  {
   "cell_type": "code",
   "execution_count": 6,
   "metadata": {
    "ExecuteTime": {
     "end_time": "2020-09-04T09:44:39.279042Z",
     "start_time": "2020-09-04T09:44:36.885057Z"
    },
    "hidden": true
   },
   "outputs": [],
   "source": [
    "# Dobbiamo andare a salvare i vari slice\n",
    "for my_slice in slices:\n",
    "    slices[my_slice].save(\"models/\"+str(my_slice)+\".model\")"
   ]
  },
  {
   "cell_type": "markdown",
   "metadata": {
    "heading_collapsed": true,
    "hidden": true
   },
   "source": [
    "## Visualizzazione medie"
   ]
  },
  {
   "cell_type": "code",
   "execution_count": 48,
   "metadata": {
    "ExecuteTime": {
     "end_time": "2020-09-05T12:20:56.068438Z",
     "start_time": "2020-09-05T12:20:56.065516Z"
    },
    "hidden": true
   },
   "outputs": [],
   "source": [
    "def sum_vectors(my_slice = None):\n",
    "    my_sum = 0\n",
    "    for i, word in enumerate(my_slice.wv.vocab):\n",
    "        my_sum += my_slice.wv[word]\n",
    "    return(my_sum/len(my_slice.wv.vocab))"
   ]
  },
  {
   "cell_type": "code",
   "execution_count": 49,
   "metadata": {
    "ExecuteTime": {
     "end_time": "2020-09-05T12:20:57.061858Z",
     "start_time": "2020-09-05T12:20:56.278997Z"
    },
    "hidden": true,
    "scrolled": true
   },
   "outputs": [],
   "source": [
    "my_sum = [sum_vectors(slices[my_slice]) \n",
    "       for i, my_slice in enumerate(slices)]"
   ]
  },
  {
   "cell_type": "code",
   "execution_count": 50,
   "metadata": {
    "ExecuteTime": {
     "end_time": "2020-09-05T12:20:57.188920Z",
     "start_time": "2020-09-05T12:20:57.063868Z"
    },
    "hidden": true
   },
   "outputs": [
    {
     "data": {
      "image/png": "[encoded data removed]",
      "text/plain": [
       "<Figure size 460.8x403.2 with 1 Axes>"
      ]
     },
     "metadata": {},
     "output_type": "display_data"
    }
   ],
   "source": [
    "X_tranf = PCA(n_components=2).fit_transform(my_sum)\n",
    "plt.scatter(X_tranf[:, 0], X_tranf[:, 1])\n",
    "for index, word in enumerate(slices):\n",
    "    plt.annotate(word, xy=(X_tranf[index, 0]+0.01, X_tranf[index, 1]+0.01))\n",
    "plt.show()"
   ]
  },
  {
   "cell_type": "code",
   "execution_count": 17,
   "metadata": {
    "ExecuteTime": {
     "end_time": "2020-09-03T09:21:37.864532Z",
     "start_time": "2020-09-03T09:21:37.857862Z"
    },
    "hidden": true
   },
   "outputs": [
    {
     "name": "stdout",
     "output_type": "stream",
     "text": [
      "[[1.   0.93]\n",
      " [0.93 1.  ]]\n"
     ]
    }
   ],
   "source": [
    "print(np.array([[int((1 - cosine(my_sum[j], my_sum[i]))*100)/100\n",
    "  for j in range(len(slices))] \n",
    " for i in range(len(slices))]))"
   ]
  },
  {
   "cell_type": "code",
   "execution_count": 18,
   "metadata": {
    "ExecuteTime": {
     "end_time": "2020-09-03T09:21:37.876932Z",
     "start_time": "2020-09-03T09:21:37.866199Z"
    },
    "hidden": true
   },
   "outputs": [
    {
     "name": "stdout",
     "output_type": "stream",
     "text": [
      "0 0\n",
      "1.0\n",
      "0 1\n",
      "0.9388323426246643\n",
      "1 0\n",
      "0.9388323426246643\n",
      "1 1\n",
      "1.0\n"
     ]
    }
   ],
   "source": [
    "for i, my_slice_1 in enumerate(slices):\n",
    "    for j, my_slice_2 in enumerate(slices):\n",
    "        print(i, j)\n",
    "        print(1 - cosine(my_sum[j], my_sum[i]))"
   ]
  },
  {
   "cell_type": "markdown",
   "metadata": {},
   "source": [
    "# Lexicon Refinement"
   ]
  },
  {
   "cell_type": "markdown",
   "metadata": {},
   "source": [
    "In questa sezione andiamo a prendere un Lexicon già [fatto](https://mpqa.cs.pitt.edu/lexicons/subj_lexicon/). Questo possiede due score: noi chiamiamo 0 quello per l'oggettività, e 1 per la soggettività. "
   ]
  },
  {
   "cell_type": "markdown",
   "metadata": {},
   "source": [
    "## Pre-processing Lexicon"
   ]
  },
  {
   "cell_type": "code",
   "execution_count": 19,
   "metadata": {
    "ExecuteTime": {
     "end_time": "2020-09-04T09:44:39.299297Z",
     "start_time": "2020-09-04T09:44:39.280975Z"
    }
   },
   "outputs": [],
   "source": [
    "with open(\"./lexicon/subjectivityLexicon.csv\", 'r') as file:\n",
    "    lexicon = pd.read_csv(file, engine='c', sep=';', header=None)\n",
    "\n",
    "lexicon.columns = [\"Word\", \"Subj_score\"]\n",
    "\n",
    "# Facciamo un po' di pulizia prima di procedere\n",
    "lexicon[\"Word\"] = lexicon[\"Word\"].apply(lambda x: x.replace(\"word1=\", \"\"))\n",
    "lexicon[\"Subj_score\"] = lexicon[\"Subj_score\"].apply(lambda x: \n",
    "                                                    x.replace(\"type=\", \"\"))"
   ]
  },
  {
   "cell_type": "code",
   "execution_count": 20,
   "metadata": {
    "ExecuteTime": {
     "end_time": "2020-09-04T09:44:39.304224Z",
     "start_time": "2020-09-04T09:44:39.301188Z"
    }
   },
   "outputs": [],
   "source": [
    "def encode_subj(string_score = None):\n",
    "    if string_score == \"weaksubj\":\n",
    "        return(0)\n",
    "    elif string_score == \"strongsubj\":\n",
    "        return(1)\n",
    "    else:\n",
    "        print('[ERROR] Some problems occurd.')\n",
    "        return(-1)"
   ]
  },
  {
   "cell_type": "code",
   "execution_count": 21,
   "metadata": {
    "ExecuteTime": {
     "end_time": "2020-09-04T09:44:39.312489Z",
     "start_time": "2020-09-04T09:44:39.305987Z"
    }
   },
   "outputs": [],
   "source": [
    "lexicon[\"Subj_score\"] = lexicon[\"Subj_score\"].apply(encode_subj)"
   ]
  },
  {
   "cell_type": "code",
   "execution_count": 22,
   "metadata": {
    "ExecuteTime": {
     "end_time": "2020-09-04T09:44:39.335733Z",
     "start_time": "2020-09-04T09:44:39.316029Z"
    }
   },
   "outputs": [],
   "source": [
    "with open(\"./lexicon/clean_lexicon.csv\", 'w') as file:\n",
    "    lexicon.to_csv(file)"
   ]
  },
  {
   "cell_type": "code",
   "execution_count": null,
   "metadata": {},
   "outputs": [],
   "source": []
  },
  {
   "cell_type": "markdown",
   "metadata": {},
   "source": [
    "## LRP"
   ]
  },
  {
   "cell_type": "code",
   "execution_count": 39,
   "metadata": {
    "ExecuteTime": {
     "end_time": "2020-09-06T09:43:07.782851Z",
     "start_time": "2020-09-06T09:43:07.776321Z"
    }
   },
   "outputs": [],
   "source": [
    "from utils import *"
   ]
  },
  {
   "cell_type": "code",
   "execution_count": 40,
   "metadata": {
    "ExecuteTime": {
     "end_time": "2020-09-06T09:43:11.312674Z",
     "start_time": "2020-09-06T09:43:08.148556Z"
    }
   },
   "outputs": [],
   "source": [
    "# Caricamento del lexicon\n",
    "with open(\"./lexicon/clean_lexicon.csv\", 'r') as file:\n",
    "    lexicon = pd.read_csv(file, index_col=1)\n",
    "\n",
    "# Caricamento dei modelli già addestrati\n",
    "slices = {filename.split('/')[-1].replace(\".model\", \"\"): \n",
    "          Word2Vec.load(filename)\n",
    "          for filename in glob.glob('./models/*.model')}"
   ]
  },
  {
   "cell_type": "code",
   "execution_count": 41,
   "metadata": {
    "ExecuteTime": {
     "end_time": "2020-09-06T09:43:11.320280Z",
     "start_time": "2020-09-06T09:43:11.314679Z"
    }
   },
   "outputs": [],
   "source": [
    "lexicon = lexicon.drop(\"Unnamed: 0\", axis=1)\n",
    "\n",
    "lexicon = lexicon.to_dict()[\"Subj_score\"]"
   ]
  },
  {
   "cell_type": "code",
   "execution_count": 44,
   "metadata": {
    "ExecuteTime": {
     "end_time": "2020-09-06T09:51:59.397588Z",
     "start_time": "2020-09-06T09:43:19.198684Z"
    }
   },
   "outputs": [
    {
     "name": "stdout",
     "output_type": "stream",
     "text": [
      "count text_Wikipedia\n",
      "min_count text_Wikipedia\n",
      "zipf text_Wikipedia\n",
      "count text_ABC News\n",
      "min_count text_ABC News\n",
      "zipf text_ABC News\n",
      "count text_Slate\n",
      "min_count text_Slate\n",
      "zipf text_Slate\n",
      "count text_Breitbart\n",
      "min_count text_Breitbart\n",
      "zipf text_Breitbart\n",
      "count text_CNN\n",
      "min_count text_CNN\n",
      "zipf text_CNN\n",
      "count text_The Federalist\n",
      "min_count text_The Federalist\n",
      "zipf text_The Federalist\n",
      "count text_New York Times\n",
      "min_count text_New York Times\n",
      "zipf text_New York Times\n",
      "count text_News Max\n",
      "min_count text_News Max\n",
      "zipf text_News Max\n",
      "dataframe done\n",
      "common filter done\n"
     ]
    }
   ],
   "source": [
    "# Lessico che si ottiene raffinando su tutti \n",
    "# gli embedding generati\n",
    "lexicon_refined = lexicon_refinement(lex = lexicon, \n",
    "                   models = [slices[sli] \n",
    "                             for sli in slices], \n",
    "                   corpora = [\"./text_\"+str(sli)+\".txt\" \n",
    "                              for sli in slices], \n",
    "                    zipf_cutoff=5)"
   ]
  },
  {
   "cell_type": "code",
   "execution_count": 45,
   "metadata": {
    "ExecuteTime": {
     "end_time": "2020-09-06T09:51:59.404056Z",
     "start_time": "2020-09-06T09:51:59.399219Z"
    }
   },
   "outputs": [],
   "source": [
    "with open(\"./lexicon/lexicon_refined.csv\", 'w') as file:\n",
    "    pd.DataFrame(lexicon_refined).to_csv(file)"
   ]
  },
  {
   "cell_type": "markdown",
   "metadata": {},
   "source": [
    "## Lexicon Enrichment"
   ]
  },
  {
   "cell_type": "markdown",
   "metadata": {},
   "source": [
    "Su consiglio di Nicoli, facciamo prima l'arricchimento della classe meno frequente (nel nostro caso quella con `1`). \n",
    "\n",
    "Per eseguirla, usiamo una funzione già costruita dal nostro assistente preferito."
   ]
  },
  {
   "cell_type": "code",
   "execution_count": 46,
   "metadata": {
    "ExecuteTime": {
     "end_time": "2020-09-06T09:51:59.410188Z",
     "start_time": "2020-09-06T09:51:59.406067Z"
    }
   },
   "outputs": [],
   "source": [
    "# Dobbiamo fare così per come è costruita la funzione di Nicoli\n",
    "lexicon_refined[lexicon_refined == 0] = -1"
   ]
  },
  {
   "cell_type": "code",
   "execution_count": 48,
   "metadata": {
    "ExecuteTime": {
     "end_time": "2020-09-06T09:59:03.279909Z",
     "start_time": "2020-09-06T09:55:02.884695Z"
    }
   },
   "outputs": [
    {
     "name": "stderr",
     "output_type": "stream",
     "text": [
      "\r",
      "  0%|          | 0/36 [00:00<?, ?it/s]"
     ]
    },
    {
     "name": "stdout",
     "output_type": "stream",
     "text": [
      "Balancing:  36\n"
     ]
    },
    {
     "name": "stderr",
     "output_type": "stream",
     "text": [
      "100%|██████████| 36/36 [00:23<00:00,  1.55it/s]\n",
      "  0%|          | 0/306 [00:00<?, ?it/s]"
     ]
    },
    {
     "name": "stdout",
     "output_type": "stream",
     "text": [
      "Growing:  306\n"
     ]
    },
    {
     "name": "stderr",
     "output_type": "stream",
     "text": [
      "100%|██████████| 306/306 [03:37<00:00,  1.41it/s]\n"
     ]
    }
   ],
   "source": [
    "vectorized_lexicon, lexicon_labels, words = enrich(lex = lexicon_refined, \n",
    "       models = [slices[sl] for sl in slices], \n",
    "       n_target = 400, \n",
    "       msteps = 200, \n",
    "       return_words = True)"
   ]
  },
  {
   "cell_type": "code",
   "execution_count": 234,
   "metadata": {
    "ExecuteTime": {
     "end_time": "2020-09-06T10:30:32.286736Z",
     "start_time": "2020-09-06T10:30:32.224165Z"
    }
   },
   "outputs": [],
   "source": [
    "with open(\"./lexicon/enriched_lexicon.csv\", 'w') as file:\n",
    "    pd.DataFrame({\"Vectorized_words\": vectorized_lexicon.tolist(), \n",
    "              \"Labels\": lexicon_labels, \"Words\": words}).to_csv(file)"
   ]
  },
  {
   "cell_type": "markdown",
   "metadata": {
    "heading_collapsed": true
   },
   "source": [
    "# Score Induction Nicoli"
   ]
  },
  {
   "cell_type": "markdown",
   "metadata": {
    "hidden": true
   },
   "source": [
    "La procedura di di Nicoli è quella di applicare una **regressione logistica** usando il lessico aumentato come *training set*. "
   ]
  },
  {
   "cell_type": "markdown",
   "metadata": {
    "hidden": true
   },
   "source": [
    "**Note**: per la score induction andiamo a usare una *Support Vector Machine*. Ci domandiamo quanto questo possa andare bene, oppure se sia qualcosa di sbagliato. È un punto da chiarire e chiedere al prof."
   ]
  },
  {
   "cell_type": "code",
   "execution_count": 3,
   "metadata": {
    "ExecuteTime": {
     "end_time": "2020-09-08T08:32:53.910776Z",
     "start_time": "2020-09-08T08:32:53.897247Z"
    },
    "hidden": true
   },
   "outputs": [],
   "source": [
    "# Open the pre-prepared lexicon\n",
    "with open(\"./lexicon/enriched_lexicon.csv\", 'r') as file:\n",
    "    enriched_lexicon = pd.read_csv(file, \n",
    "                                   engine='c', \n",
    "                                   index_col=0)"
   ]
  },
  {
   "cell_type": "code",
   "execution_count": 4,
   "metadata": {
    "ExecuteTime": {
     "end_time": "2020-09-08T08:32:55.889700Z",
     "start_time": "2020-09-08T08:32:55.799239Z"
    },
    "hidden": true
   },
   "outputs": [],
   "source": [
    "# Read the strings as lists\n",
    "enriched_lexicon[\"Vectorized_words\"] = enriched_lexicon[\"Vectorized_words\"].apply(literal_eval)"
   ]
  },
  {
   "cell_type": "markdown",
   "metadata": {
    "hidden": true
   },
   "source": [
    "## Machine Learning Optimization"
   ]
  },
  {
   "cell_type": "code",
   "execution_count": 6,
   "metadata": {
    "ExecuteTime": {
     "end_time": "2020-09-08T08:33:22.563003Z",
     "start_time": "2020-09-08T08:33:22.560640Z"
    },
    "hidden": true
   },
   "outputs": [],
   "source": [
    "# Prepare a list of 100-dimension vectors (the words)\n",
    "X = enriched_lexicon[\"Vectorized_words\"].tolist()\n",
    "# List of labels (1, -1)\n",
    "y = enriched_lexicon[\"Labels\"]"
   ]
  },
  {
   "cell_type": "code",
   "execution_count": 15,
   "metadata": {
    "ExecuteTime": {
     "end_time": "2020-09-08T08:35:49.455253Z",
     "start_time": "2020-09-08T08:35:48.565662Z"
    },
    "hidden": true
   },
   "outputs": [
    {
     "name": "stderr",
     "output_type": "stream",
     "text": [
      "No handles with labels found to put in legend.\n"
     ]
    },
    {
     "data": {
      "text/plain": [
       "[]"
      ]
     },
     "execution_count": 15,
     "metadata": {},
     "output_type": "execute_result"
    },
    {
     "data": {
      "image/png": "[encoded data removed]",
      "text/plain": [
       "<Figure size 720x720 with 1 Axes>"
      ]
     },
     "metadata": {},
     "output_type": "display_data"
    }
   ],
   "source": [
    "#tento con una cross validation e c nell'arco 0.1, 10\n",
    "score_mean = []\n",
    "score_stds = []\n",
    "Cs = Cs = np.arange(1, 20, 1)\n",
    "plt.figure(figsize=(10,10))\n",
    "for c in Cs:\n",
    "    clf = svm.SVC(C=c, kernel = \"poly\", gamma=\"auto\")\n",
    "    scores = cross_val_score(clf, X, y, cv=5)\n",
    "    score_mean.append(scores.mean())\n",
    "    score_stds.append(scores.std())\n",
    "\n",
    "plt.errorbar(Cs, score_mean, yerr = score_stds)\n",
    "plt.legend()\n",
    "plt.xlabel(\"C\")\n",
    "plt.ylabel(\"Accuracy\")\n",
    "plt.title(\"Figuring out best C - Cross validated\")\n",
    "plt.plot()"
   ]
  },
  {
   "cell_type": "markdown",
   "metadata": {
    "hidden": true
   },
   "source": [
    "**Considerazioni**: c'è un leggero overfitting del modello, ma si può comunque affermare che i risultati sono più che soddisfacienti. La SVM ottiene una accuracy praticamente del 100% sui dati ti training, ovvero riesce a dividere perfettamente l'iperspazio 100-dimensionale. A quanto pare, la divisione dello spazio è molto valida anche per i dati di test, sui quali si riscontra solamente un piccolo errore (si arriva ad ottenere una accuracu sopra il 95%).\n",
    "\n",
    "È importante notare come, possedendo questi addestramenti elementi stocastici, si dovrebbe procedere eseguendo *k-fold cross validation*.\n",
    "\n",
    "Dal grafico si può notare come un valore $C > 5$ sia più che soddisfaciente."
   ]
  },
  {
   "cell_type": "markdown",
   "metadata": {
    "hidden": true
   },
   "source": [
    "## Propagation"
   ]
  },
  {
   "cell_type": "markdown",
   "metadata": {
    "hidden": true
   },
   "source": [
    "**NOTA IMPORTANTE**: per ottenere degli intervalli di confidenza, possiamo usare il Bootstrapping proposto da Hamilton."
   ]
  },
  {
   "cell_type": "code",
   "execution_count": 185,
   "metadata": {
    "ExecuteTime": {
     "end_time": "2020-09-08T09:46:37.702171Z",
     "start_time": "2020-09-08T09:46:37.687733Z"
    },
    "hidden": true
   },
   "outputs": [],
   "source": [
    "# Addestriamo completamente il lessico\n",
    "inducer = svm.SVC(C = 7, kernel = 'poly', gamma='auto').fit(X,y)"
   ]
  },
  {
   "cell_type": "code",
   "execution_count": 28,
   "metadata": {
    "ExecuteTime": {
     "end_time": "2020-09-08T08:42:15.122214Z",
     "start_time": "2020-09-08T08:42:12.377261Z"
    },
    "hidden": true
   },
   "outputs": [],
   "source": [
    "slices = {filename.split('/')[-1].replace(\".model\", \"\"): \n",
    "          Word2Vec.load(filename)\n",
    "          for filename in glob.glob('./models/*.model')}"
   ]
  },
  {
   "cell_type": "code",
   "execution_count": 30,
   "metadata": {
    "ExecuteTime": {
     "end_time": "2020-09-08T08:43:31.288274Z",
     "start_time": "2020-09-08T08:42:59.154376Z"
    },
    "hidden": true
   },
   "outputs": [],
   "source": [
    "# We use the trained indecer to predict a label\n",
    "# for every word in the vocabolary, for all embeddings\n",
    "models_propagation = [{word: inducer.predict([model.wv[word]])[0] \n",
    "  for word in model.wv.vocab} for model in slices.values()]"
   ]
  },
  {
   "cell_type": "markdown",
   "metadata": {
    "hidden": true
   },
   "source": [
    "## Scoring"
   ]
  },
  {
   "cell_type": "markdown",
   "metadata": {
    "hidden": true
   },
   "source": [
    "Qua si vanno a provare diverse tecniche di scoring"
   ]
  },
  {
   "cell_type": "markdown",
   "metadata": {
    "heading_collapsed": true,
    "hidden": true
   },
   "source": [
    "### Tecnica 1"
   ]
  },
  {
   "cell_type": "code",
   "execution_count": 79,
   "metadata": {
    "ExecuteTime": {
     "end_time": "2020-09-05T14:36:00.033988Z",
     "start_time": "2020-09-05T14:35:59.615453Z"
    },
    "hidden": true
   },
   "outputs": [],
   "source": [
    "# Everything below is done for all embeddings, and \n",
    "# put in a list\n",
    "\n",
    "# This is the sum of the count for every word in the \n",
    "# vocabulary times its label. The total sum should be \n",
    "# an indication for where the corpus lies (subj or obj)\n",
    "vocab_counts = [{word: model.wv.vocab[word].count * model_prop[word]\n",
    "                for word in model.wv.vocab} \n",
    "                for model, model_prop in zip(slices.values(), \n",
    "                                             models_propagation)]\n",
    "# This is just the sum of all words in the corpus\n",
    "vocab_counts_abs = [{word: abs(model.wv.vocab[word].count)\n",
    "                    for word in model.wv.vocab}  \n",
    "                    for model, model_prop in zip(slices.values(), \n",
    "                                                 models_propagation)]\n",
    "# The score is given as the counts weighted over the total\n",
    "# number of words\n",
    "models_score_1 = {name: sum(count.values())/(sum(count_abs.values()))\n",
    "                for name, count, count_abs in zip(slices, vocab_counts, vocab_counts_abs)}"
   ]
  },
  {
   "cell_type": "code",
   "execution_count": 43,
   "metadata": {
    "ExecuteTime": {
     "end_time": "2020-09-05T12:14:03.955404Z",
     "start_time": "2020-09-05T12:14:03.952868Z"
    },
    "hidden": true
   },
   "outputs": [
    {
     "name": "stdout",
     "output_type": "stream",
     "text": [
      "{'Wikipedia': -0.9864408736705866, 'ABC News': -0.9540571033325396, 'Slate': -0.9919712460727667, 'Breitbart': -0.9733599047950785, 'CNN': -0.9533930889843204, 'The Federalist': -0.9555784161156244, 'New York Times': -0.9283747165558685, 'News Max': -0.9703698006769811}\n"
     ]
    }
   ],
   "source": [
    "print(models_score_1)"
   ]
  },
  {
   "cell_type": "code",
   "execution_count": 51,
   "metadata": {
    "ExecuteTime": {
     "end_time": "2020-09-05T13:17:30.490475Z",
     "start_time": "2020-09-05T13:17:30.486257Z"
    },
    "hidden": true
   },
   "outputs": [
    {
     "data": {
      "text/plain": [
       "{'Slate': -0.9919712460727667,\n",
       " 'Wikipedia': -0.9864408736705866,\n",
       " 'Breitbart': -0.9733599047950785,\n",
       " 'News Max': -0.9703698006769811,\n",
       " 'The Federalist': -0.9555784161156244,\n",
       " 'ABC News': -0.9540571033325396,\n",
       " 'CNN': -0.9533930889843204,\n",
       " 'New York Times': -0.9283747165558685}"
      ]
     },
     "execution_count": 51,
     "metadata": {},
     "output_type": "execute_result"
    }
   ],
   "source": [
    "{k: v for k, v in sorted(models_score_1.items(), key=lambda item: item[1])}"
   ]
  },
  {
   "cell_type": "markdown",
   "metadata": {
    "hidden": true
   },
   "source": [
    "### Tecnica 2"
   ]
  },
  {
   "cell_type": "code",
   "execution_count": 31,
   "metadata": {
    "ExecuteTime": {
     "end_time": "2020-09-08T08:44:06.769462Z",
     "start_time": "2020-09-08T08:43:33.824235Z"
    },
    "hidden": true
   },
   "outputs": [],
   "source": [
    "models_propagation_2 = [{word: \n",
    "                       (inducer.predict([model.wv[word]])[0] + 1)/2\n",
    "  for word in model.wv.vocab} for model in slices.values()]\n",
    "\n",
    "vocab_counts_2 = [{word: model.wv.vocab[word].count * model_prop[word]\n",
    "                for word in model.wv.vocab} \n",
    "                for model, model_prop in zip(slices.values(), models_propagation_2)]\n",
    "\n",
    "# This is just the sum of all words in the corpus\n",
    "vocab_counts_abs = [{word: abs(model.wv.vocab[word].count)\n",
    "                    for word in model.wv.vocab}  \n",
    "                    for model, model_prop in zip(slices.values(), \n",
    "                                                 models_propagation)]\n",
    "# Difatti questa misure dice quante parole soggettive ci sono\n",
    "# per singola parola scritta nei vari corpus.\n",
    "models_score_2 = {name: sum(count.values())/(sum(count_abs.values()))\n",
    "                for name, count, count_abs in zip(slices, vocab_counts_2, \n",
    "                                            vocab_counts_abs)}"
   ]
  },
  {
   "cell_type": "code",
   "execution_count": 32,
   "metadata": {
    "ExecuteTime": {
     "end_time": "2020-09-08T08:44:06.773949Z",
     "start_time": "2020-09-08T08:44:06.771328Z"
    },
    "hidden": true
   },
   "outputs": [
    {
     "name": "stdout",
     "output_type": "stream",
     "text": [
      "{'Wikipedia': 0.00681986185497322, 'ABC News': 0.015299361010535506, 'Breitbart': 0.0107757816307314, 'CNN': 0.012939346831234827, 'The Federalist': 0.017555953264501503, 'New York Times': 0.013159846813249382, 'News Max': 0.011050030926187183}\n"
     ]
    }
   ],
   "source": [
    "print(models_score_2)"
   ]
  },
  {
   "cell_type": "code",
   "execution_count": 33,
   "metadata": {
    "ExecuteTime": {
     "end_time": "2020-09-08T08:44:06.780273Z",
     "start_time": "2020-09-08T08:44:06.776240Z"
    },
    "hidden": true
   },
   "outputs": [
    {
     "data": {
      "text/plain": [
       "{'Wikipedia': 0.00681986185497322,\n",
       " 'Breitbart': 0.0107757816307314,\n",
       " 'News Max': 0.011050030926187183,\n",
       " 'CNN': 0.012939346831234827,\n",
       " 'New York Times': 0.013159846813249382,\n",
       " 'ABC News': 0.015299361010535506,\n",
       " 'The Federalist': 0.017555953264501503}"
      ]
     },
     "execution_count": 33,
     "metadata": {},
     "output_type": "execute_result"
    }
   ],
   "source": [
    "{k: v for k, v in sorted(models_score_2.items(), key=lambda item: item[1])}"
   ]
  },
  {
   "cell_type": "markdown",
   "metadata": {
    "hidden": true
   },
   "source": [
    "## Probabilistico"
   ]
  },
  {
   "cell_type": "markdown",
   "metadata": {
    "hidden": true
   },
   "source": [
    "Per poter usare quello probabilistico, si deve far rigirare tutto l'algoritmo di ML."
   ]
  },
  {
   "cell_type": "code",
   "execution_count": 187,
   "metadata": {
    "ExecuteTime": {
     "end_time": "2020-09-08T09:47:13.573274Z",
     "start_time": "2020-09-08T09:47:13.524339Z"
    },
    "hidden": true
   },
   "outputs": [],
   "source": [
    "# Addestriamo completamente il lessico\n",
    "inducer = svm.SVC(C = 7, kernel = 'poly', \n",
    "                  gamma='auto', probability=True).fit(X,y)"
   ]
  },
  {
   "cell_type": "code",
   "execution_count": 188,
   "metadata": {
    "ExecuteTime": {
     "end_time": "2020-09-08T09:47:18.118296Z",
     "start_time": "2020-09-08T09:47:15.313515Z"
    },
    "hidden": true
   },
   "outputs": [],
   "source": [
    "slices = {filename.split('/')[-1].replace(\".model\", \"\"): \n",
    "          Word2Vec.load(filename)\n",
    "          for filename in glob.glob('./models/*.model')}"
   ]
  },
  {
   "cell_type": "code",
   "execution_count": 191,
   "metadata": {
    "ExecuteTime": {
     "end_time": "2020-09-08T09:48:51.268428Z",
     "start_time": "2020-09-08T09:48:22.671410Z"
    },
    "hidden": true,
    "scrolled": true
   },
   "outputs": [],
   "source": [
    "# Usando predict_proba, si ha la probabilità\n",
    "# che una parola abbia classe \"soggettiva\"\n",
    "models_propagation_prob = [{word: \n",
    "                       (inducer.predict_proba([model.wv[word]])[0][1])\n",
    "  for word in model.wv.vocab} for model in slices.values()]\n",
    "\n",
    "vocab_counts_prob = [{word: model.wv.vocab[word].count * model_prop[word]\n",
    "                for word in model.wv.vocab} \n",
    "                for model, model_prop in zip(slices.values(), \n",
    "                                             models_propagation_prob)]\n",
    "\n",
    "# This is just the sum of all words in the corpus\n",
    "vocab_counts_abs = [{word: abs(model.wv.vocab[word].count)\n",
    "                    for word in model.wv.vocab}  \n",
    "                    for model, model_prop in zip(slices.values(), \n",
    "                                                 models_propagation)]\n",
    "# Difatti questa misure dice quante parole soggettive ci sono\n",
    "# per singola parola scritta nei vari corpus.\n",
    "models_score_proba = {name: sum(count.values())/(sum(count_abs.values()))\n",
    "                for name, count, count_abs in zip(slices, vocab_counts_prob, \n",
    "                                            vocab_counts_abs)}"
   ]
  },
  {
   "cell_type": "code",
   "execution_count": 192,
   "metadata": {
    "ExecuteTime": {
     "end_time": "2020-09-08T09:48:51.274057Z",
     "start_time": "2020-09-08T09:48:51.270172Z"
    },
    "hidden": true
   },
   "outputs": [
    {
     "data": {
      "text/plain": [
       "{'Wikipedia': 0.03234006209753735,\n",
       " 'Breitbart': 0.037542622961439634,\n",
       " 'News Max': 0.039223327940044746,\n",
       " 'CNN': 0.04168590050461103,\n",
       " 'The Federalist': 0.043694972110616626,\n",
       " 'ABC News': 0.04460527964416759,\n",
       " 'New York Times': 0.04706819033296307}"
      ]
     },
     "execution_count": 192,
     "metadata": {},
     "output_type": "execute_result"
    }
   ],
   "source": [
    "{k: v \n",
    " for k, v in sorted(models_score_proba.items(), \n",
    "                    key=lambda item: item[1])}"
   ]
  },
  {
   "cell_type": "markdown",
   "metadata": {},
   "source": [
    "# Score Induction - None"
   ]
  },
  {
   "cell_type": "markdown",
   "metadata": {},
   "source": [
    "Questa tecnica non prevede nessuna propagazione del lessico: si deve prendere quindi il lessico ottenuto dopo la fase di LPR, ovvero in maniera tale che sia condiviso \"bene\" attraverso tutti gli embedding; e si va a contare tramite questo."
   ]
  },
  {
   "cell_type": "code",
   "execution_count": 34,
   "metadata": {
    "ExecuteTime": {
     "end_time": "2020-09-08T08:44:06.787342Z",
     "start_time": "2020-09-08T08:44:06.782078Z"
    }
   },
   "outputs": [],
   "source": [
    "# Load as dictionary the refined lexicon\n",
    "with open(\"./lexicon/lexicon_refined.csv\", 'r') as file:\n",
    "    lexicon_refined = pd.read_csv(file, index_col=0).to_dict()[\"Valence\"]"
   ]
  },
  {
   "cell_type": "markdown",
   "metadata": {},
   "source": [
    "## Scoring"
   ]
  },
  {
   "cell_type": "code",
   "execution_count": 35,
   "metadata": {
    "ExecuteTime": {
     "end_time": "2020-09-08T08:44:06.928868Z",
     "start_time": "2020-09-08T08:44:06.789051Z"
    }
   },
   "outputs": [],
   "source": [
    "models_propagation_none = [{word: \n",
    "                       (lexicon_refined[word]+1)/2\n",
    "  for word in lexicon_refined} for model in slices.values()]\n",
    "\n",
    "vocab_counts_none = [{word: model.wv.vocab[word].count * model_prop[word]\n",
    "                for word in lexicon_refined} \n",
    "                for model, model_prop in zip(slices.values(), models_propagation_none)]\n",
    "\n",
    "# This is just the sum of all words in the corpus\n",
    "vocab_counts_abs = [{word: abs(model.wv.vocab[word].count)\n",
    "                    for word in model.wv.vocab}  \n",
    "                    for model, model_prop in zip(slices.values(), \n",
    "                                                 models_propagation)]\n",
    "# Difatti questa misure dice quante parole soggettive ci sono\n",
    "# per singola parola scritta nei vari corpus.\n",
    "models_score_none = {name: sum(count.values())/(sum(count_abs.values()))\n",
    "                for name, count, count_abs in zip(slices, vocab_counts_none, \n",
    "                                            vocab_counts_abs)}"
   ]
  },
  {
   "cell_type": "code",
   "execution_count": 36,
   "metadata": {
    "ExecuteTime": {
     "end_time": "2020-09-08T08:44:06.935527Z",
     "start_time": "2020-09-08T08:44:06.930745Z"
    }
   },
   "outputs": [
    {
     "data": {
      "text/plain": [
       "{'Wikipedia': 0.003270366102405424,\n",
       " 'New York Times': 0.007333904006972058,\n",
       " 'Breitbart': 0.00768967455113351,\n",
       " 'CNN': 0.008429192195132303,\n",
       " 'News Max': 0.008787206983063569,\n",
       " 'The Federalist': 0.009193104916872568,\n",
       " 'ABC News': 0.009348261215619396}"
      ]
     },
     "execution_count": 36,
     "metadata": {},
     "output_type": "execute_result"
    }
   ],
   "source": [
    "{k: v \n",
    " for k, v in sorted(models_score_none.items(), \n",
    "                    key=lambda item: item[1])}"
   ]
  },
  {
   "cell_type": "markdown",
   "metadata": {},
   "source": [
    "# Score Induction - Hamilton"
   ]
  },
  {
   "cell_type": "markdown",
   "metadata": {},
   "source": [
    "Nel file ```polarity_induction_methods.py``` ci sono tutte le funzioni di propagazione dello score usate da Hamilton. Quella introdotta da lui, e nota come ```random_walk```, utilizzare un cammino casuale su un grafo di vicinanza per creare le label su tutto il corpus a partire dal lessico raffinato."
   ]
  },
  {
   "cell_type": "markdown",
   "metadata": {},
   "source": [
    "## Probabilità"
   ]
  },
  {
   "cell_type": "code",
   "execution_count": 201,
   "metadata": {
    "ExecuteTime": {
     "end_time": "2020-09-08T10:05:08.540940Z",
     "start_time": "2020-09-08T10:05:05.653185Z"
    }
   },
   "outputs": [],
   "source": [
    "slices = {filename.split('/')[-1].replace(\".model\", \"\"): \n",
    "          Word2Vec.load(filename)\n",
    "          for filename in glob.glob('./models/*.model')}"
   ]
  },
  {
   "cell_type": "code",
   "execution_count": 202,
   "metadata": {
    "ExecuteTime": {
     "end_time": "2020-09-08T10:05:08.796861Z",
     "start_time": "2020-09-08T10:05:08.543009Z"
    }
   },
   "outputs": [],
   "source": [
    "# We have to remove some nan, because Hamilton sucks\n",
    "propagations = {filename.split(\"_\")[-1].replace(\".csv\", \"\"):\n",
    "                pd.read_csv(filename, index_col=0).dropna()\n",
    "                for filename in glob.glob('./propagations/*.csv')}"
   ]
  },
  {
   "cell_type": "code",
   "execution_count": 109,
   "metadata": {
    "ExecuteTime": {
     "end_time": "2020-09-08T09:19:01.367536Z",
     "start_time": "2020-09-08T09:18:39.140745Z"
    }
   },
   "outputs": [],
   "source": [
    "vocab_counts_Hamilton = {model_name: {row[\"Words\"]: \n",
    "                      model.wv.vocab[row[\"Words\"]].count * row[\"Labels\"]\n",
    "                for index, row in propagations[model_name].iterrows()} \n",
    "                for model, model_name in zip(slices.values(), \n",
    "                                             slices)}\n",
    "\n",
    "# This is just the sum of all words in the corpus\n",
    "vocab_counts_abs = {model_name: {word: abs(model.wv.vocab[word].count)\n",
    "                    for word in model.wv.vocab}  \n",
    "                    for model, model_name in zip(slices.values(), \n",
    "                                                 slices)}\n",
    "# Difatti questa misure dice quante parole soggettive ci sono\n",
    "# per singola parola scritta nei vari corpus.\n",
    "models_score_Hamilton = {name: \n",
    "                         (sum(vocab_counts_Hamilton[name].values())\n",
    "                          /(sum(vocab_counts_abs[name].values())))\n",
    "                         for name in slices}"
   ]
  },
  {
   "cell_type": "code",
   "execution_count": 110,
   "metadata": {
    "ExecuteTime": {
     "end_time": "2020-09-08T09:19:10.638384Z",
     "start_time": "2020-09-08T09:19:10.634128Z"
    }
   },
   "outputs": [
    {
     "data": {
      "text/plain": [
       "{'News Max': 0.27288266728822386,\n",
       " 'New York Times': 0.35008134971567084,\n",
       " 'The Federalist': 0.3892598204880916,\n",
       " 'Wikipedia': 0.4220568869485383,\n",
       " 'ABC News': 0.4261976874144494,\n",
       " 'Breitbart': 0.4517553687816639,\n",
       " 'CNN': 0.4808339932163405}"
      ]
     },
     "execution_count": 110,
     "metadata": {},
     "output_type": "execute_result"
    }
   ],
   "source": [
    "{k: v \n",
    " for k, v in sorted(models_score_Hamilton.items(), \n",
    "                    key=lambda item: item[1])}"
   ]
  },
  {
   "cell_type": "markdown",
   "metadata": {},
   "source": [
    "## Valori Certi"
   ]
  },
  {
   "cell_type": "code",
   "execution_count": 116,
   "metadata": {
    "ExecuteTime": {
     "end_time": "2020-09-08T09:24:40.244619Z",
     "start_time": "2020-09-08T09:24:37.342521Z"
    }
   },
   "outputs": [],
   "source": [
    "slices = {filename.split('/')[-1].replace(\".model\", \"\"): \n",
    "          Word2Vec.load(filename)\n",
    "          for filename in glob.glob('./models/*.model')}"
   ]
  },
  {
   "cell_type": "code",
   "execution_count": 170,
   "metadata": {
    "ExecuteTime": {
     "end_time": "2020-09-08T09:35:43.405694Z",
     "start_time": "2020-09-08T09:35:43.150523Z"
    }
   },
   "outputs": [],
   "source": [
    "# We have to remove some nan, because Hamilton sucks\n",
    "propagations = {filename.split(\"_\")[-1].replace(\".csv\", \"\"):\n",
    "                pd.read_csv(filename, index_col=0).dropna()\n",
    "                for filename in glob.glob('./propagations/*.csv')}"
   ]
  },
  {
   "cell_type": "code",
   "execution_count": 171,
   "metadata": {
    "ExecuteTime": {
     "end_time": "2020-09-08T09:35:43.420947Z",
     "start_time": "2020-09-08T09:35:43.407492Z"
    }
   },
   "outputs": [],
   "source": [
    "# Assegnameno un threshold alle probabilità\n",
    "THRESHOLD = 0.5\n",
    "for name in propagations:\n",
    "    propagations[name].loc[propagations[name][\"Labels\"] < THRESHOLD, \"Labels\"] = 0\n",
    "    propagations[name].loc[propagations[name][\"Labels\"] >= THRESHOLD, \"Labels\"] = 1"
   ]
  },
  {
   "cell_type": "code",
   "execution_count": 172,
   "metadata": {
    "ExecuteTime": {
     "end_time": "2020-09-08T09:36:05.858203Z",
     "start_time": "2020-09-08T09:35:43.619084Z"
    }
   },
   "outputs": [],
   "source": [
    "vocab_counts_Hamilton = {model_name: {row[\"Words\"]: \n",
    "                      model.wv.vocab[row[\"Words\"]].count * row[\"Labels\"]\n",
    "                for index, row in propagations[model_name].iterrows()} \n",
    "                for model, model_name in zip(slices.values(), \n",
    "                                             slices)}\n",
    "\n",
    "# This is just the sum of all words in the corpus\n",
    "vocab_counts_abs = {model_name: {word: abs(model.wv.vocab[word].count)\n",
    "                    for word in model.wv.vocab}  \n",
    "                    for model, model_name in zip(slices.values(), \n",
    "                                                 slices)}\n",
    "# Difatti questa misure dice quante parole soggettive ci sono\n",
    "# per singola parola scritta nei vari corpus.\n",
    "models_score_Hamilton = {name: \n",
    "                         (sum(vocab_counts_Hamilton[name].values())\n",
    "                          /(sum(vocab_counts_abs[name].values())))\n",
    "                         for name in slices}"
   ]
  },
  {
   "cell_type": "code",
   "execution_count": 173,
   "metadata": {
    "ExecuteTime": {
     "end_time": "2020-09-08T09:36:05.864941Z",
     "start_time": "2020-09-08T09:36:05.860924Z"
    }
   },
   "outputs": [
    {
     "data": {
      "text/plain": [
       "{'News Max': 0.17229893924336245,\n",
       " 'New York Times': 0.2097396846079913,\n",
       " 'The Federalist': 0.3208121561148533,\n",
       " 'ABC News': 0.3546656363756502,\n",
       " 'Wikipedia': 0.4217181738563238,\n",
       " 'Breitbart': 0.4377185414891586,\n",
       " 'CNN': 0.4697929498521115}"
      ]
     },
     "execution_count": 173,
     "metadata": {},
     "output_type": "execute_result"
    }
   ],
   "source": [
    "{k: v \n",
    " for k, v in sorted(models_score_Hamilton.items(), \n",
    "                    key=lambda item: item[1])}"
   ]
  },
  {
   "cell_type": "markdown",
   "metadata": {},
   "source": [
    "# Examples"
   ]
  },
  {
   "cell_type": "code",
   "execution_count": 203,
   "metadata": {
    "ExecuteTime": {
     "end_time": "2020-09-08T10:05:17.093478Z",
     "start_time": "2020-09-08T10:05:13.977248Z"
    }
   },
   "outputs": [],
   "source": [
    "slices = {filename.split('/')[-1].replace(\".model\", \"\"): \n",
    "          Word2Vec.load(filename)\n",
    "          for filename in glob.glob('./models/*.model')}\n",
    "# We have to remove some nan, because Hamilton sucks\n",
    "propagations = {filename.split(\"_\")[-1].replace(\".csv\", \"\"):\n",
    "                pd.read_csv(filename, index_col=0).dropna()\n",
    "                for filename in glob.glob('./propagations/*.csv')}"
   ]
  },
  {
   "cell_type": "code",
   "execution_count": 251,
   "metadata": {
    "ExecuteTime": {
     "end_time": "2020-09-08T10:19:57.851557Z",
     "start_time": "2020-09-08T10:19:57.847784Z"
    }
   },
   "outputs": [
    {
     "data": {
      "text/plain": [
       "11"
      ]
     },
     "execution_count": 251,
     "metadata": {},
     "output_type": "execute_result"
    }
   ],
   "source": [
    "len([el for el in list(lexicon_refined.values()) if el == 1])"
   ]
  },
  {
   "cell_type": "code",
   "execution_count": 252,
   "metadata": {
    "ExecuteTime": {
     "end_time": "2020-09-08T10:20:07.703052Z",
     "start_time": "2020-09-08T10:20:07.699386Z"
    }
   },
   "outputs": [
    {
     "data": {
      "text/plain": [
       "58"
      ]
     },
     "execution_count": 252,
     "metadata": {},
     "output_type": "execute_result"
    }
   ],
   "source": [
    "len([el for el in list(lexicon_refined.values()) if el == -1])"
   ]
  },
  {
   "cell_type": "code",
   "execution_count": 253,
   "metadata": {
    "ExecuteTime": {
     "end_time": "2020-09-08T10:21:03.056596Z",
     "start_time": "2020-09-08T10:20:31.911196Z"
    }
   },
   "outputs": [],
   "source": [
    "models_propagation = [{word: inducer.predict([model.wv[word]])[0] \n",
    "  for word in model.wv.vocab} for model in slices.values()]"
   ]
  },
  {
   "cell_type": "code",
   "execution_count": 301,
   "metadata": {
    "ExecuteTime": {
     "end_time": "2020-09-08T10:34:10.627140Z",
     "start_time": "2020-09-08T10:34:10.624687Z"
    }
   },
   "outputs": [],
   "source": [
    "initial_subj = [key for key, el in lexicon_refined.items() if el == 1]"
   ]
  },
  {
   "cell_type": "code",
   "execution_count": 302,
   "metadata": {
    "ExecuteTime": {
     "end_time": "2020-09-08T10:34:10.815495Z",
     "start_time": "2020-09-08T10:34:10.812900Z"
    }
   },
   "outputs": [],
   "source": [
    "initial_subj.extend(list(np.zeros(12)))\n",
    "initial_subj = [\"z\" if el == 0 else el for el in initial_subj ]"
   ]
  },
  {
   "cell_type": "code",
   "execution_count": 303,
   "metadata": {
    "ExecuteTime": {
     "end_time": "2020-09-08T10:34:11.230338Z",
     "start_time": "2020-09-08T10:34:11.147889Z"
    }
   },
   "outputs": [],
   "source": [
    "prop_subj = [[key for key, val in models_propagation[i].items() if val == 1]\n",
    "                for i in range(7)]\n"
   ]
  },
  {
   "cell_type": "code",
   "execution_count": 304,
   "metadata": {
    "ExecuteTime": {
     "end_time": "2020-09-08T10:34:11.468725Z",
     "start_time": "2020-09-08T10:34:11.461398Z"
    },
    "collapsed": true
   },
   "outputs": [
    {
     "name": "stdout",
     "output_type": "stream",
     "text": [
      "-----------\n",
      "\n",
      "\n",
      "best after\n",
      "court although\n",
      "despite best\n",
      "great can\n",
      "like caused\n",
      "little court\n",
      "long despite\n",
      "need due\n",
      "right great\n",
      "though like\n",
      "will little\n",
      "z long\n",
      "z must\n",
      "z right\n",
      "z though\n",
      "z will\n",
      "-----------\n",
      "\n",
      "\n",
      "best best\n",
      "court can\n",
      "despite court\n",
      "great despite\n",
      "like great\n",
      "little if\n",
      "long like\n",
      "need little\n",
      "right long\n",
      "though lot\n",
      "will must\n",
      "z need\n",
      "z right\n",
      "z though\n",
      "z want\n",
      "z will\n",
      "-----------\n",
      "\n",
      "\n",
      "best can\n",
      "court court\n",
      "despite despite\n",
      "great if\n",
      "like like\n",
      "little long\n",
      "long need\n",
      "need right\n",
      "right though\n",
      "though want\n",
      "will will\n",
      "-----------\n",
      "\n",
      "\n",
      "best amid\n",
      "court best\n",
      "despite can\n",
      "great court\n",
      "like despite\n",
      "little great\n",
      "long if\n",
      "need like\n",
      "right little\n",
      "though long\n",
      "will lot\n",
      "z need\n",
      "z right\n",
      "z though\n",
      "z want\n",
      "z will\n",
      "-----------\n",
      "\n",
      "\n",
      "best best\n",
      "court can\n",
      "despite court\n",
      "great despite\n",
      "like great\n",
      "little if\n",
      "long like\n",
      "need little\n",
      "right long\n",
      "though lot\n",
      "will must\n",
      "z need\n",
      "z no\n",
      "z right\n",
      "z though\n",
      "z want\n",
      "z will\n",
      "-----------\n",
      "\n",
      "\n",
      "best amid\n",
      "court best\n",
      "despite better\n",
      "great can\n",
      "like can’t\n",
      "little court\n",
      "long despite\n",
      "need going\n",
      "right great\n",
      "though if\n",
      "will judge\n",
      "z like\n",
      "z little\n",
      "z long\n",
      "z lot\n",
      "z must\n",
      "z need\n",
      "z right\n",
      "z though\n",
      "z want\n",
      "z will\n",
      "-----------\n",
      "\n",
      "\n",
      "best best\n",
      "court can\n",
      "despite court\n",
      "great despite\n",
      "like great\n",
      "little like\n",
      "long little\n",
      "need long\n",
      "right need\n",
      "though right\n",
      "will though\n",
      "z want\n",
      "z will\n"
     ]
    }
   ],
   "source": [
    "for sj in prop_subj:\n",
    "    print(\"-----------\\n\\n\")\n",
    "    for x,y in zip(sorted(initial_subj), sorted(sj)):\n",
    "        print(x, y)"
   ]
  },
  {
   "cell_type": "code",
   "execution_count": 228,
   "metadata": {
    "ExecuteTime": {
     "end_time": "2020-09-08T10:15:18.100273Z",
     "start_time": "2020-09-08T10:15:18.097996Z"
    }
   },
   "outputs": [],
   "source": [
    "example_words = [\"good\", \"obama\", \"dog\", \n",
    "                 \"immigrant\", \"left\", \"pleasure\", \n",
    "                \"best\", \"will\", \"like\"]"
   ]
  },
  {
   "cell_type": "code",
   "execution_count": 229,
   "metadata": {
    "ExecuteTime": {
     "end_time": "2020-09-08T10:15:18.498646Z",
     "start_time": "2020-09-08T10:15:18.281452Z"
    },
    "scrolled": true
   },
   "outputs": [
    {
     "name": "stdout",
     "output_type": "stream",
     "text": [
      "#### good ####\n",
      "\t Wikipedia\n",
      "\t\tNicoli: 0.005720136308740902\n",
      "\t\tHamilton: 0.0034194483058794553\n",
      "\t Breitbart\n",
      "\t\tNicoli: 0.029593523772480215\n",
      "\t\tHamilton: 0.0008545665134493114\n",
      "\t New York Times\n",
      "\t\tNicoli: 0.03465035254066715\n",
      "\t\tHamilton: 0.008813351064437001\n",
      "\t News Max\n",
      "\t\tNicoli: 0.008554864929359855\n",
      "\t\tHamilton: 0.0009160580707994806\n",
      "\t CNN\n",
      "\t\tNicoli: 0.015589932102866126\n",
      "\t\tHamilton: 0.0533449516863327\n",
      "\t The Federalist\n",
      "\t\tNicoli: 0.0013282211817761415\n",
      "\t\tHamilton: 0.00011735544543223877\n",
      "\t ABC News\n",
      "\t\tNicoli: 0.0026857888521870624\n",
      "\t\tHamilton: 0.0055244519406016865\n",
      "\n",
      "\n",
      "\n",
      "#### obama ####\n",
      "\t Wikipedia\n",
      "\t\tNicoli: 0.02265400360866403\n",
      "\t\tHamilton: 0.5750019210201982\n",
      "\t Breitbart\n",
      "\t\tNicoli: 0.02335130475232244\n",
      "\t\tHamilton: 0.5400325705783007\n",
      "\t New York Times\n",
      "\t\tNicoli: 0.020869245850530488\n",
      "\t\tHamilton: 0.2733529726819154\n",
      "\t News Max\n",
      "\t\tNicoli: 0.019990780355327337\n",
      "\t\tHamilton: 0.7393664261575884\n",
      "\t CNN\n",
      "\t\tNicoli: 0.020974728658858386\n",
      "\t\tHamilton: 0.21596244734023207\n",
      "\t The Federalist\n",
      "\t\tNicoli: 0.02003764605942378\n",
      "\t\tHamilton: 0.2994162430986159\n",
      "\t ABC News\n",
      "\t\tNicoli: 0.02234752077369907\n",
      "\t\tHamilton: 0.6405355428974148\n",
      "\n",
      "\n",
      "\n",
      "#### dog ####\n",
      "\t Wikipedia\n",
      "\t\tNicoli: 0.02295305289214462\n",
      "\t\tHamilton: 0.3255024043661927\n",
      "\t Breitbart\n",
      "\t\tNicoli: 0.023883148057166452\n",
      "\t\tHamilton: 0.12115454673990153\n",
      "\t New York Times\n",
      "\t\tNicoli: 0.024900990384887304\n",
      "\t\tHamilton: 0.7005919554569505\n",
      "\t News Max\n",
      "\t\tNicoli: 0.02390499054960805\n",
      "\t\tHamilton: 0.4760603305030664\n",
      "\t CNN\n",
      "\t\tNicoli: 0.023720102295096447\n",
      "\t\tHamilton: 0.55040207759886\n",
      "\t The Federalist\n",
      "\t\tNicoli: 0.024976764182405214\n",
      "\t\tHamilton: 0.6475492684744873\n",
      "\t ABC News\n",
      "\t\tNicoli: 0.024683919305916343\n",
      "\t\tHamilton: 0.692683934595708\n",
      "\n",
      "\n",
      "\n",
      "#### immigrant ####\n",
      "\t Wikipedia\n",
      "\t\tNicoli: 0.023599606027137444\n",
      "\t\tHamilton: 0.6382270677261298\n",
      "\t Breitbart\n",
      "\t\tNicoli: 0.02344656563615001\n",
      "\t\tHamilton: 0.5510593833780132\n",
      "\t New York Times\n",
      "\t\tNicoli: 0.02190647655614076\n",
      "\t\tHamilton: 0.3974006916618401\n",
      "\t News Max\n",
      "\t\tNicoli: 0.023758342987323742\n",
      "\t\tHamilton: 0.30548827616333674\n",
      "\t CNN\n",
      "\t\tNicoli: 0.02324947215454125\n",
      "\t\tHamilton: 0.2901908557293707\n",
      "\t The Federalist\n",
      "\t\tNicoli: 0.023454366231889887\n",
      "\t\tHamilton: 0.01908378945414349\n",
      "\t ABC News\n",
      "\t\tNicoli: 0.022932623360089357\n",
      "\t\tHamilton: 0.6026786216506929\n",
      "\n",
      "\n",
      "\n",
      "#### left ####\n",
      "\t Wikipedia\n",
      "\t\tNicoli: 0.04068476701062218\n",
      "\t\tHamilton: 0.9243198073766182\n",
      "\t Breitbart\n",
      "\t\tNicoli: 0.027745377754028126\n",
      "\t\tHamilton: 0.17539538811299207\n",
      "\t New York Times\n",
      "\t\tNicoli: 0.0260007505733538\n",
      "\t\tHamilton: 0.4734697604757209\n",
      "\t News Max\n",
      "\t\tNicoli: 0.02397609055456633\n",
      "\t\tHamilton: 0.2491386087678588\n",
      "\t CNN\n",
      "\t\tNicoli: 0.024399777847678796\n",
      "\t\tHamilton: 0.18588527231415647\n",
      "\t The Federalist\n",
      "\t\tNicoli: 0.02859610374337607\n",
      "\t\tHamilton: 0.8600024546837152\n",
      "\t ABC News\n",
      "\t\tNicoli: 0.023169894632735083\n",
      "\t\tHamilton: 0.4996853988732716\n",
      "\n",
      "\n",
      "\n",
      "#### pleasure ####\n",
      "\t Wikipedia\n",
      "\t\tNicoli: 0.02386946486267553\n",
      "\t\tHamilton: 0.05087406672228407\n",
      "\t Breitbart\n",
      "\t\tNicoli: 0.023903283298202526\n",
      "\t\tHamilton: 0.6941130237126248\n",
      "\t New York Times\n",
      "\t\tNicoli: 0.0239362843050049\n",
      "\t\tHamilton: 0.26911046400431393\n",
      "\t News Max\n",
      "\t\tNicoli: 0.023904886631370345\n",
      "\t\tHamilton: 0.4999999748181078\n",
      "\t CNN\n",
      "\t\tNicoli: 0.023951483660870732\n",
      "\t\tHamilton: 0.4883963894643064\n",
      "\t The Federalist\n",
      "\t\tNicoli: 0.02392394227983969\n",
      "\t\tHamilton: 0.7348325836334866\n",
      "\t ABC News\n",
      "\t\tNicoli: 0.02394591252107052\n",
      "\t\tHamilton: 0.2281991770639388\n",
      "\n",
      "\n",
      "\n",
      "#### best ####\n",
      "\t Wikipedia\n",
      "\t\tNicoli: 0.9999999999998842\n",
      "\t\tHamilton: 0.9992370576184416\n",
      "\t Breitbart\n",
      "\t\tNicoli: 0.2718587206336798\n",
      "\t\tHamilton: 0.9794610421346099\n",
      "\t New York Times\n",
      "\t\tNicoli: 0.9999999999922986\n",
      "\t\tHamilton: 0.9923751744682447\n",
      "\t News Max\n",
      "\t\tNicoli: 0.7985388159873755\n",
      "\t\tHamilton: 0.9997556389270088\n",
      "\t CNN\n",
      "\t\tNicoli: 0.980457302187235\n",
      "\t\tHamilton: 0.9988234675579944\n",
      "\t The Federalist\n",
      "\t\tNicoli: 0.9999995694718117\n",
      "\t\tHamilton: 0.988416151313837\n",
      "\t ABC News\n",
      "\t\tNicoli: 0.9999999996515563\n",
      "\t\tHamilton: 0.9845881746143514\n",
      "\n",
      "\n",
      "\n",
      "#### will ####\n",
      "\t Wikipedia\n",
      "\t\tNicoli: 0.9875947330619124\n",
      "\t\tHamilton: 0.9991698534247988\n",
      "\t Breitbart\n",
      "\t\tNicoli: 0.9916470026319496\n",
      "\t\tHamilton: 0.9987081600592929\n",
      "\t New York Times\n",
      "\t\tNicoli: 0.9999999990556596\n",
      "\t\tHamilton: 0.9825690390407468\n",
      "\t News Max\n",
      "\t\tNicoli: 0.95869860594825\n",
      "\t\tHamilton: 0.9965680281042292\n",
      "\t CNN\n",
      "\t\tNicoli: 0.9999955019772275\n",
      "\t\tHamilton: 0.9789140769192956\n",
      "\t The Federalist\n",
      "\t\tNicoli: 0.9999983506234211\n",
      "\t\tHamilton: 0.9873502695359944\n",
      "\t ABC News\n",
      "\t\tNicoli: 0.9999986869654619\n",
      "\t\tHamilton: 0.9995602032785562\n",
      "\n",
      "\n",
      "\n",
      "#### like ####\n",
      "\t Wikipedia\n",
      "\t\tNicoli: 0.9053017179342946\n",
      "\t\tHamilton: 0.9926864092686803\n",
      "\t Breitbart\n",
      "\t\tNicoli: 0.9961409843974293\n",
      "\t\tHamilton: 0.9999257743751956\n",
      "\t New York Times\n",
      "\t\tNicoli: 0.9999999996602488\n",
      "\t\tHamilton: 0.9832532648827692\n",
      "\t News Max\n",
      "\t\tNicoli: 0.981431847418288\n",
      "\t\tHamilton: 0.9901674471404136\n",
      "\t CNN\n",
      "\t\tNicoli: 0.9957556477762957\n",
      "\t\tHamilton: 0.9989983567033701\n",
      "\t The Federalist\n",
      "\t\tNicoli: 0.9999999632659995\n",
      "\t\tHamilton: 0.9981909696519092\n",
      "\t ABC News\n",
      "\t\tNicoli: 0.9999996682084209\n",
      "\t\tHamilton: 0.9988977478200716\n",
      "\n",
      "\n",
      "\n"
     ]
    }
   ],
   "source": [
    "\n",
    "for word in example_words:\n",
    "    print(\"####\", word, \"####\")\n",
    "    for name in propagations:\n",
    "        print(\"\\t\",name)\n",
    "        print(\"\\t\\tNicoli:\", inducer.predict_proba([slices[name].wv[word]])[0][1])\n",
    "        print(\"\\t\\tHamilton:\", propagations[name][\"Labels\"].loc[(propagations[name][\"Words\"] \n",
    "                                                   == word)].values[0])\n",
    "    print('\\n\\n')"
   ]
  },
  {
   "cell_type": "markdown",
   "metadata": {},
   "source": [
    "# Nicoli Logistic"
   ]
  },
  {
   "cell_type": "markdown",
   "metadata": {},
   "source": [
    "## Machine Learning Optimization"
   ]
  },
  {
   "cell_type": "code",
   "execution_count": 306,
   "metadata": {
    "ExecuteTime": {
     "end_time": "2020-09-08T10:40:13.724992Z",
     "start_time": "2020-09-08T10:40:13.715404Z"
    }
   },
   "outputs": [],
   "source": [
    "# Open the pre-prepared lexicon\n",
    "with open(\"./lexicon/enriched_lexicon.csv\", 'r') as file:\n",
    "    enriched_lexicon = pd.read_csv(file, \n",
    "                                   engine='c', \n",
    "                                   index_col=0)"
   ]
  },
  {
   "cell_type": "code",
   "execution_count": 307,
   "metadata": {
    "ExecuteTime": {
     "end_time": "2020-09-08T10:40:14.413610Z",
     "start_time": "2020-09-08T10:40:13.998195Z"
    }
   },
   "outputs": [],
   "source": [
    "# Read the strings as lists\n",
    "enriched_lexicon[\"Vectorized_words\"] = enriched_lexicon[\"Vectorized_words\"].apply(literal_eval)"
   ]
  },
  {
   "cell_type": "code",
   "execution_count": 308,
   "metadata": {
    "ExecuteTime": {
     "end_time": "2020-09-08T10:40:14.417878Z",
     "start_time": "2020-09-08T10:40:14.415547Z"
    }
   },
   "outputs": [],
   "source": [
    "# Prepare a list of 100-dimension vectors (the words)\n",
    "X = enriched_lexicon[\"Vectorized_words\"].tolist()\n",
    "# List of labels (1, -1)\n",
    "y = enriched_lexicon[\"Labels\"]"
   ]
  },
  {
   "cell_type": "code",
   "execution_count": 316,
   "metadata": {
    "ExecuteTime": {
     "end_time": "2020-09-08T10:42:03.186566Z",
     "start_time": "2020-09-08T10:42:01.624035Z"
    }
   },
   "outputs": [
    {
     "name": "stderr",
     "output_type": "stream",
     "text": [
      "No handles with labels found to put in legend.\n"
     ]
    },
    {
     "data": {
      "text/plain": [
       "[]"
      ]
     },
     "execution_count": 316,
     "metadata": {},
     "output_type": "execute_result"
    },
    {
     "data": {
      "image/png": "[encoded data removed]",
      "text/plain": [
       "<Figure size 720x720 with 1 Axes>"
      ]
     },
     "metadata": {},
     "output_type": "display_data"
    }
   ],
   "source": [
    "#tento con una cross validation e c nell'arco 0.1, 10\n",
    "score_mean = []\n",
    "score_stds = []\n",
    "Cs = Cs = np.arange(0.1, 20, 0.5)\n",
    "plt.figure(figsize=(10,10))\n",
    "for c in Cs:\n",
    "    clf = LogisticRegression(C=c, penalty='l2', solver='liblinear')\n",
    "    scores = cross_val_score(clf, X, y, cv=5)\n",
    "    score_mean.append(scores.mean())\n",
    "    score_stds.append(scores.std())\n",
    "\n",
    "plt.errorbar(Cs, score_mean, yerr = score_stds)\n",
    "plt.legend()\n",
    "plt.xlabel(\"C\")\n",
    "plt.ylabel(\"Accuracy\")\n",
    "plt.title(\"Figuring out best C - Cross validated\")\n",
    "plt.plot()"
   ]
  },
  {
   "cell_type": "markdown",
   "metadata": {},
   "source": [
    "## Propagation"
   ]
  },
  {
   "cell_type": "code",
   "execution_count": 317,
   "metadata": {
    "ExecuteTime": {
     "end_time": "2020-09-08T10:43:08.800913Z",
     "start_time": "2020-09-08T10:43:08.787084Z"
    }
   },
   "outputs": [],
   "source": [
    "# Addestriamo completamente il lessico\n",
    "inducer = LogisticRegression(C=10, penalty='l2', solver='liblinear').fit(X,y)"
   ]
  },
  {
   "cell_type": "markdown",
   "metadata": {},
   "source": [
    "## Scoring"
   ]
  },
  {
   "cell_type": "code",
   "execution_count": 318,
   "metadata": {
    "ExecuteTime": {
     "end_time": "2020-09-08T10:43:13.096855Z",
     "start_time": "2020-09-08T10:43:10.146683Z"
    }
   },
   "outputs": [],
   "source": [
    "slices = {filename.split('/')[-1].replace(\".model\", \"\"): \n",
    "          Word2Vec.load(filename)\n",
    "          for filename in glob.glob('./models/*.model')}"
   ]
  },
  {
   "cell_type": "code",
   "execution_count": 326,
   "metadata": {
    "ExecuteTime": {
     "end_time": "2020-09-08T10:47:34.645612Z",
     "start_time": "2020-09-08T10:47:13.299285Z"
    }
   },
   "outputs": [],
   "source": [
    "models_propagation_test = [{word: \n",
    "                       (inducer.predict([model.wv[word]])[0] + 1)/2\n",
    "  for word in model.wv.vocab} for model in slices.values()]\n",
    "\n",
    "vocab_counts_test = [{word: model.wv.vocab[word].count * model_prop[word]\n",
    "                for word in model.wv.vocab} \n",
    "                for model, model_prop in zip(slices.values(), models_propagation_test)]\n",
    "\n",
    "# This is just the sum of all words in the corpus\n",
    "vocab_counts_abs = [{word: abs(model.wv.vocab[word].count)\n",
    "                    for word in model.wv.vocab}  \n",
    "                    for model, model_prop in zip(slices.values(), \n",
    "                                                 models_propagation)]\n",
    "# Difatti questa misure dice quante parole soggettive ci sono\n",
    "# per singola parola scritta nei vari corpus.\n",
    "models_score_test = {name: sum(count.values())/(sum(count_abs.values()))\n",
    "                for name, count, count_abs in zip(slices, vocab_counts_test, \n",
    "                                            vocab_counts_abs)}"
   ]
  },
  {
   "cell_type": "code",
   "execution_count": 327,
   "metadata": {
    "ExecuteTime": {
     "end_time": "2020-09-08T10:47:34.651854Z",
     "start_time": "2020-09-08T10:47:34.647333Z"
    }
   },
   "outputs": [
    {
     "data": {
      "text/plain": [
       "{'Breitbart': 0.30067150021700856,\n",
       " 'The Federalist': 0.3277963323093111,\n",
       " 'Wikipedia': 0.33049939046396515,\n",
       " 'CNN': 0.33578883075856175,\n",
       " 'News Max': 0.36872493762639774,\n",
       " 'ABC News': 0.3812641862091579,\n",
       " 'New York Times': 0.4127322858990402}"
      ]
     },
     "execution_count": 327,
     "metadata": {},
     "output_type": "execute_result"
    }
   ],
   "source": [
    "{k: v for k, v in sorted(models_score_test.items(), key=lambda item: item[1])}"
   ]
  },
  {
   "cell_type": "markdown",
   "metadata": {},
   "source": [
    "## Testing"
   ]
  },
  {
   "cell_type": "code",
   "execution_count": 325,
   "metadata": {
    "ExecuteTime": {
     "end_time": "2020-09-08T10:46:40.463708Z",
     "start_time": "2020-09-08T10:46:40.368703Z"
    }
   },
   "outputs": [
    {
     "name": "stdout",
     "output_type": "stream",
     "text": [
      "[5645, 2913, 1436, 2176, 3008, 4939, 1555]\n"
     ]
    }
   ],
   "source": [
    "prop_subj = [[key for key, val in models_propagation_test[i].items() if val == 1]\n",
    "                for i in range(7)]\n",
    "print([len(model)for model in prop_subj])"
   ]
  },
  {
   "cell_type": "markdown",
   "metadata": {},
   "source": [
    "# Nicoli NB"
   ]
  },
  {
   "cell_type": "markdown",
   "metadata": {},
   "source": [
    "## Machine Learning Optimization"
   ]
  },
  {
   "cell_type": "code",
   "execution_count": 328,
   "metadata": {
    "ExecuteTime": {
     "end_time": "2020-09-08T10:57:30.060613Z",
     "start_time": "2020-09-08T10:57:30.050386Z"
    }
   },
   "outputs": [],
   "source": [
    "# Open the pre-prepared lexicon\n",
    "with open(\"./lexicon/enriched_lexicon.csv\", 'r') as file:\n",
    "    enriched_lexicon = pd.read_csv(file, \n",
    "                                   engine='c', \n",
    "                                   index_col=0)"
   ]
  },
  {
   "cell_type": "code",
   "execution_count": 329,
   "metadata": {
    "ExecuteTime": {
     "end_time": "2020-09-08T10:57:30.273420Z",
     "start_time": "2020-09-08T10:57:30.176038Z"
    }
   },
   "outputs": [],
   "source": [
    "# Read the strings as lists\n",
    "enriched_lexicon[\"Vectorized_words\"] = enriched_lexicon[\"Vectorized_words\"].apply(literal_eval)"
   ]
  },
  {
   "cell_type": "code",
   "execution_count": 333,
   "metadata": {
    "ExecuteTime": {
     "end_time": "2020-09-08T10:59:34.747415Z",
     "start_time": "2020-09-08T10:59:34.745003Z"
    }
   },
   "outputs": [],
   "source": [
    "# Prepare a list of 100-dimension vectors (the words)\n",
    "X = enriched_lexicon[\"Vectorized_words\"].tolist()\n",
    "# List of labels (1, -1)\n",
    "y = enriched_lexicon[\"Labels\"]"
   ]
  },
  {
   "cell_type": "code",
   "execution_count": 335,
   "metadata": {
    "ExecuteTime": {
     "end_time": "2020-09-08T10:59:45.471470Z",
     "start_time": "2020-09-08T10:59:45.447621Z"
    }
   },
   "outputs": [
    {
     "data": {
      "text/plain": [
       "<Figure size 720x720 with 0 Axes>"
      ]
     },
     "metadata": {},
     "output_type": "display_data"
    }
   ],
   "source": [
    "#tento con una cross validation e c nell'arco 0.1, 10\n",
    "score_mean = []\n",
    "score_stds = []\n",
    "plt.figure(figsize=(10,10))\n",
    "\n",
    "clf = GaussianNB()\n",
    "scores = cross_val_score(clf, X, y, cv=5)\n",
    "score_mean.append(scores.mean())\n",
    "score_stds.append(scores.std())\n",
    "\n",
    "# plt.errorbar(Cs, score_mean, yerr = score_stds)\n",
    "# plt.legend()\n",
    "# plt.xlabel(\"C\")\n",
    "# plt.ylabel(\"Accuracy\")\n",
    "# plt.title(\"Figuring out best C - Cross validated\")\n",
    "# plt.plot()"
   ]
  },
  {
   "cell_type": "code",
   "execution_count": 338,
   "metadata": {
    "ExecuteTime": {
     "end_time": "2020-09-08T11:00:09.061033Z",
     "start_time": "2020-09-08T11:00:09.057463Z"
    }
   },
   "outputs": [
    {
     "data": {
      "text/plain": [
       "0.02357022603955158"
      ]
     },
     "execution_count": 338,
     "metadata": {},
     "output_type": "execute_result"
    }
   ],
   "source": [
    "scores.std()"
   ]
  },
  {
   "cell_type": "markdown",
   "metadata": {},
   "source": [
    "## Propagation"
   ]
  },
  {
   "cell_type": "code",
   "execution_count": 340,
   "metadata": {
    "ExecuteTime": {
     "end_time": "2020-09-08T11:00:41.792813Z",
     "start_time": "2020-09-08T11:00:41.787273Z"
    }
   },
   "outputs": [],
   "source": [
    "# Addestriamo completamente il lessico\n",
    "inducer = GaussianNB().fit(X,y)"
   ]
  },
  {
   "cell_type": "markdown",
   "metadata": {},
   "source": [
    "## Scoring"
   ]
  },
  {
   "cell_type": "code",
   "execution_count": 341,
   "metadata": {
    "ExecuteTime": {
     "end_time": "2020-09-08T11:01:12.701314Z",
     "start_time": "2020-09-08T11:01:09.657944Z"
    }
   },
   "outputs": [],
   "source": [
    "slices = {filename.split('/')[-1].replace(\".model\", \"\"): \n",
    "          Word2Vec.load(filename)\n",
    "          for filename in glob.glob('./models/*.model')}"
   ]
  },
  {
   "cell_type": "code",
   "execution_count": 342,
   "metadata": {
    "ExecuteTime": {
     "end_time": "2020-09-08T11:01:48.903182Z",
     "start_time": "2020-09-08T11:01:12.703261Z"
    }
   },
   "outputs": [],
   "source": [
    "models_propagation_test = [{word: \n",
    "                       (inducer.predict([model.wv[word]])[0] + 1)/2\n",
    "  for word in model.wv.vocab} for model in slices.values()]\n",
    "\n",
    "vocab_counts_test = [{word: model.wv.vocab[word].count * model_prop[word]\n",
    "                for word in model.wv.vocab} \n",
    "                for model, model_prop in zip(slices.values(), models_propagation_test)]\n",
    "\n",
    "# This is just the sum of all words in the corpus\n",
    "vocab_counts_abs = [{word: abs(model.wv.vocab[word].count)\n",
    "                    for word in model.wv.vocab}  \n",
    "                    for model, model_prop in zip(slices.values(), \n",
    "                                                 models_propagation_test)]\n",
    "# Difatti questa misure dice quante parole soggettive ci sono\n",
    "# per singola parola scritta nei vari corpus.\n",
    "models_score_test = {name: sum(count.values())/(sum(count_abs.values()))\n",
    "                for name, count, count_abs in zip(slices, vocab_counts_test, \n",
    "                                            vocab_counts_abs)}"
   ]
  },
  {
   "cell_type": "code",
   "execution_count": 343,
   "metadata": {
    "ExecuteTime": {
     "end_time": "2020-09-08T11:01:48.908983Z",
     "start_time": "2020-09-08T11:01:48.905398Z"
    }
   },
   "outputs": [
    {
     "data": {
      "text/plain": [
       "{'Wikipedia': 0.047936614093317814,\n",
       " 'Breitbart': 0.0634518118349114,\n",
       " 'News Max': 0.0671925276772001,\n",
       " 'The Federalist': 0.08038985654293847,\n",
       " 'CNN': 0.08922372345707988,\n",
       " 'ABC News': 0.11014299893693666,\n",
       " 'New York Times': 0.11501674687633125}"
      ]
     },
     "execution_count": 343,
     "metadata": {},
     "output_type": "execute_result"
    }
   ],
   "source": [
    "{k: v for k, v in sorted(models_score_test.items(), key=lambda item: item[1])}"
   ]
  },
  {
   "cell_type": "markdown",
   "metadata": {},
   "source": [
    "## Testing"
   ]
  },
  {
   "cell_type": "code",
   "execution_count": 344,
   "metadata": {
    "ExecuteTime": {
     "end_time": "2020-09-08T11:02:13.050847Z",
     "start_time": "2020-09-08T11:02:12.954840Z"
    }
   },
   "outputs": [
    {
     "name": "stdout",
     "output_type": "stream",
     "text": [
      "[139, 168, 69, 114, 108, 209, 79]\n"
     ]
    }
   ],
   "source": [
    "prop_subj = [[key for key, val in models_propagation_test[i].items() if val == 1]\n",
    "                for i in range(7)]\n",
    "print([len(model)for model in prop_subj])"
   ]
  },
  {
   "cell_type": "code",
   "execution_count": null,
   "metadata": {},
   "outputs": [],
   "source": []
  }
 ],
 "metadata": {
  "kernelspec": {
   "display_name": "Python 3",
   "language": "python",
   "name": "python3"
  },
  "language_info": {
   "codemirror_mode": {
    "name": "ipython",
    "version": 3
   },
   "file_extension": ".py",
   "mimetype": "text/x-python",
   "name": "python",
   "nbconvert_exporter": "python",
   "pygments_lexer": "ipython3",
   "version": "3.7.7"
  },
  "toc": {
   "base_numbering": 1,
   "nav_menu": {},
   "number_sections": true,
   "sideBar": true,
   "skip_h1_title": false,
   "title_cell": "Table of Contents",
   "title_sidebar": "Contents",
   "toc_cell": false,
   "toc_position": {
    "height": "calc(100% - 180px)",
    "left": "10px",
    "top": "150px",
    "width": "292.1666564941406px"
   },
   "toc_section_display": true,
   "toc_window_display": true
  }
 },
 "nbformat": 4,
 "nbformat_minor": 4
}
