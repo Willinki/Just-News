{
 "cells": [
  {
   "cell_type": "code",
   "execution_count": 2,
   "metadata": {
    "ExecuteTime": {
     "end_time": "2020-09-08T23:13:14.056287Z",
     "start_time": "2020-09-08T23:13:11.488020Z"
    }
   },
   "outputs": [],
   "source": [
    "# General purpose\n",
    "import pandas as pd\n",
    "import os\n",
    "import glob\n",
    "import json\n",
    "import numpy as np\n",
    "from ast import literal_eval\n",
    "import string\n",
    "import matplotlib.pyplot as plt\n",
    "from scipy.spatial.distance import cosine\n",
    "import itertools\n",
    "from numpy.linalg import norm\n",
    "from collections import Counter\n",
    "import codecs\n",
    "import tqdm\n",
    "import scipy as sp\n",
    "# NLP\n",
    "from cade.cade import CADE\n",
    "from gensim.models.word2vec import Word2Vec\n",
    "# Machine Learning\n",
    "from sklearn.decomposition import PCA\n",
    "from sklearn.linear_model import LogisticRegression\n",
    "from sklearn.model_selection import train_test_split\n",
    "from sklearn.naive_bayes import GaussianNB\n",
    "from sklearn import svm\n",
    "from sklearn.model_selection import cross_val_score\n",
    "# currently installed theme will be used to\n",
    "# set plot style if no arguments provided\n",
    "# Theme\n",
    "from jupyterthemes import jtplot\n",
    "jtplot.style()"
   ]
  },
  {
   "cell_type": "code",
   "execution_count": 3,
   "metadata": {
    "ExecuteTime": {
     "end_time": "2020-09-08T23:13:14.060258Z",
     "start_time": "2020-09-08T23:13:14.057908Z"
    }
   },
   "outputs": [],
   "source": [
    "# Function to remove punctuation from strings.\n",
    "# Copied from Prof.\n",
    "def simple_preproc(text):\n",
    "  \"\"\"\n",
    "  see: https://stackoverflow.com/questions/265960/best-way-to-strip-punctuation-from-a-string\n",
    "  \"\"\"\n",
    "  return text.translate(str.maketrans('', '', string.punctuation))"
   ]
  },
  {
   "cell_type": "markdown",
   "metadata": {
    "heading_collapsed": true
   },
   "source": [
    "# Pre-processing"
   ]
  },
  {
   "cell_type": "markdown",
   "metadata": {
    "hidden": true
   },
   "source": [
    "Non serve fare pre-processing: viene fatto in ```CADE_testing```."
   ]
  },
  {
   "cell_type": "markdown",
   "metadata": {
    "heading_collapsed": true
   },
   "source": [
    "# CADE"
   ]
  },
  {
   "cell_type": "markdown",
   "metadata": {
    "hidden": true
   },
   "source": [
    "Analogo a sopra."
   ]
  },
  {
   "cell_type": "markdown",
   "metadata": {
    "heading_collapsed": true
   },
   "source": [
    "# Lexicon Processing"
   ]
  },
  {
   "cell_type": "markdown",
   "metadata": {
    "heading_collapsed": true,
    "hidden": true
   },
   "source": [
    "## Lexicon pre-processing"
   ]
  },
  {
   "cell_type": "code",
   "execution_count": 3,
   "metadata": {
    "ExecuteTime": {
     "end_time": "2020-09-08T12:20:37.184389Z",
     "start_time": "2020-09-08T12:20:37.181349Z"
    },
    "hidden": true
   },
   "outputs": [],
   "source": [
    "def clean_lexicon(x = None):\n",
    "    if \"#\" in x:\n",
    "        return(x.lower().split(\"#\")[0])\n",
    "    else:\n",
    "        return(x.lower())"
   ]
  },
  {
   "cell_type": "code",
   "execution_count": 4,
   "metadata": {
    "ExecuteTime": {
     "end_time": "2020-09-08T12:20:37.376643Z",
     "start_time": "2020-09-08T12:20:37.353476Z"
    },
    "hidden": true
   },
   "outputs": [],
   "source": [
    "with open(\"./lexicon_2/inquirerbasic.csv\", 'r') as file:\n",
    "    lexicon = pd.read_csv(file)\n",
    "    \n",
    "lexicon = lexicon.dropna(how=\"all\", subset=['Ovrst', 'Undrst'])\n",
    "lexicon[\"Labels\"] = lexicon[\"Undrst\"].apply(lambda x: 1 if pd.isnull(x) else 0)\n",
    "# lexicon.columns = [\"Word\", \"Subj_score\"]\n",
    "\n",
    "# # Facciamo un po' di pulizia prima di procedere\n",
    "# lexicon[\"Word\"] = lexicon[\"Word\"].apply(lambda x: x.replace(\"word1=\", \"\"))\n",
    "# lexicon[\"Subj_score\"] = lexicon[\"Subj_score\"].apply(lambda x: \n",
    "#                                                     x.replace(\"type=\", \"\"))\n",
    "\n",
    "lexicon[\"Words\"] = lexicon[\"Entry\"].apply(clean_lexicon)\n",
    "\n",
    "lexicon = lexicon.drop_duplicates(subset=['Words'])[[\"Words\", \"Labels\"]]"
   ]
  },
  {
   "cell_type": "code",
   "execution_count": 7,
   "metadata": {
    "ExecuteTime": {
     "end_time": "2020-09-08T12:20:50.212236Z",
     "start_time": "2020-09-08T12:20:50.205599Z"
    },
    "hidden": true
   },
   "outputs": [],
   "source": [
    "with open(\"./lexicon_2/clean_lexicon.csv\", 'w') as file:\n",
    "    lexicon.to_csv(file)"
   ]
  },
  {
   "cell_type": "markdown",
   "metadata": {
    "heading_collapsed": true,
    "hidden": true
   },
   "source": [
    "## LRP"
   ]
  },
  {
   "cell_type": "code",
   "execution_count": 6,
   "metadata": {
    "ExecuteTime": {
     "end_time": "2020-09-08T12:20:38.350590Z",
     "start_time": "2020-09-08T12:20:38.344713Z"
    },
    "hidden": true
   },
   "outputs": [],
   "source": [
    "from utils import *"
   ]
  },
  {
   "cell_type": "code",
   "execution_count": 15,
   "metadata": {
    "ExecuteTime": {
     "end_time": "2020-09-08T12:22:04.361863Z",
     "start_time": "2020-09-08T12:22:01.453121Z"
    },
    "hidden": true
   },
   "outputs": [],
   "source": [
    "# Caricamento del lexicon\n",
    "with open(\"./lexicon_2/clean_lexicon.csv\", 'r') as file:\n",
    "    lexicon = pd.read_csv(file, index_col=1)\n",
    "\n",
    "# Caricamento dei modelli già addestrati\n",
    "slices = {filename.split('/')[-1].replace(\".model\", \"\"): \n",
    "          Word2Vec.load(filename)\n",
    "          for filename in glob.glob('./models/*.model')}"
   ]
  },
  {
   "cell_type": "code",
   "execution_count": 16,
   "metadata": {
    "ExecuteTime": {
     "end_time": "2020-09-08T12:22:04.367961Z",
     "start_time": "2020-09-08T12:22:04.364130Z"
    },
    "hidden": true
   },
   "outputs": [],
   "source": [
    "lexicon = lexicon.drop(\"Unnamed: 0\", axis=1)\n",
    "lexicon = lexicon.to_dict()[\"Labels\"]"
   ]
  },
  {
   "cell_type": "code",
   "execution_count": 19,
   "metadata": {
    "ExecuteTime": {
     "end_time": "2020-09-08T12:35:29.583632Z",
     "start_time": "2020-09-08T12:22:24.101709Z"
    },
    "hidden": true
   },
   "outputs": [
    {
     "name": "stdout",
     "output_type": "stream",
     "text": [
      "count text_Wikipedia\n",
      "min_count text_Wikipedia\n",
      "zipf text_Wikipedia\n",
      "count text_ABC News\n",
      "min_count text_ABC News\n",
      "zipf text_ABC News\n",
      "count text_Breitbart\n",
      "min_count text_Breitbart\n",
      "zipf text_Breitbart\n",
      "count text_CNN\n",
      "min_count text_CNN\n",
      "zipf text_CNN\n",
      "count text_The Federalist\n",
      "min_count text_The Federalist\n",
      "zipf text_The Federalist\n",
      "count text_New York Times\n",
      "min_count text_New York Times\n",
      "zipf text_New York Times\n",
      "count text_News Max\n",
      "min_count text_News Max\n",
      "zipf text_News Max\n",
      "dataframe done\n",
      "common filter done\n"
     ]
    }
   ],
   "source": [
    "# Lessico che si ottiene raffinando su tutti \n",
    "# gli embedding generati\n",
    "lexicon_refined = lexicon_refinement(lex = lexicon, \n",
    "                   models = [slices[sli] \n",
    "                             for sli in slices], \n",
    "                   corpora = [\"./corpora/text_\"+str(sli)+\".txt\" \n",
    "                              for sli in slices], \n",
    "                    zipf_cutoff=5)"
   ]
  },
  {
   "cell_type": "code",
   "execution_count": 20,
   "metadata": {
    "ExecuteTime": {
     "end_time": "2020-09-08T12:35:44.428121Z",
     "start_time": "2020-09-08T12:35:44.424570Z"
    },
    "hidden": true
   },
   "outputs": [],
   "source": [
    "with open(\"./lexicon_2/lexicon_refined.csv\", 'w') as file:\n",
    "    pd.DataFrame(lexicon_refined).to_csv(file)"
   ]
  },
  {
   "cell_type": "markdown",
   "metadata": {
    "heading_collapsed": true,
    "hidden": true
   },
   "source": [
    "## Lexicon Enrichment"
   ]
  },
  {
   "cell_type": "code",
   "execution_count": 49,
   "metadata": {
    "ExecuteTime": {
     "end_time": "2020-09-08T12:41:57.678758Z",
     "start_time": "2020-09-08T12:41:57.673379Z"
    },
    "hidden": true
   },
   "outputs": [],
   "source": [
    "with open(\"./lexicon_2/lexicon_refined.csv\", 'r') as file:\n",
    "    lexicon_refined = pd.read_csv(file, index_col=0).to_dict()[\"Valence\"]\n",
    "# Dobbiamo fare così per come è costruita la funzione di Nicoli\n",
    "lexicon_refined = {key: -1 \n",
    "                   if val == 0 else 1 \n",
    "                   for key, val in lexicon_refined.items()}"
   ]
  },
  {
   "cell_type": "code",
   "execution_count": 52,
   "metadata": {
    "ExecuteTime": {
     "end_time": "2020-09-08T12:51:54.807397Z",
     "start_time": "2020-09-08T12:43:17.134884Z"
    },
    "hidden": true
   },
   "outputs": [
    {
     "name": "stderr",
     "output_type": "stream",
     "text": [
      "\r",
      "  0%|          | 0/26 [00:00<?, ?it/s]"
     ]
    },
    {
     "name": "stdout",
     "output_type": "stream",
     "text": [
      "Balancing:  26\n"
     ]
    },
    {
     "name": "stderr",
     "output_type": "stream",
     "text": [
      "100%|██████████| 26/26 [00:40<00:00,  1.56s/it]\n",
      "  0%|          | 0/312 [00:00<?, ?it/s]"
     ]
    },
    {
     "name": "stdout",
     "output_type": "stream",
     "text": [
      "Growing:  312\n"
     ]
    },
    {
     "name": "stderr",
     "output_type": "stream",
     "text": [
      "100%|██████████| 312/312 [07:57<00:00,  1.53s/it]\n"
     ]
    }
   ],
   "source": [
    "vectorized_lexicon, lexicon_labels, words = enrich(lex = lexicon_refined, \n",
    "       models = [slices[sl] for sl in slices], \n",
    "       n_target = 400, \n",
    "       msteps = 200, \n",
    "       return_words = True)"
   ]
  },
  {
   "cell_type": "code",
   "execution_count": 55,
   "metadata": {
    "ExecuteTime": {
     "end_time": "2020-09-08T12:52:11.272302Z",
     "start_time": "2020-09-08T12:52:11.209734Z"
    },
    "hidden": true
   },
   "outputs": [],
   "source": [
    "with open(\"./lexicon_2/enriched_lexicon.csv\", 'w') as file:\n",
    "    pd.DataFrame({\"Vectorized_words\": vectorized_lexicon.tolist(), \n",
    "              \"Labels\": lexicon_labels, \"Words\": words}).to_csv(file)"
   ]
  },
  {
   "cell_type": "markdown",
   "metadata": {},
   "source": [
    "# Nicoli Logistic"
   ]
  },
  {
   "cell_type": "markdown",
   "metadata": {
    "heading_collapsed": true
   },
   "source": [
    "## ML Optimization"
   ]
  },
  {
   "cell_type": "code",
   "execution_count": 56,
   "metadata": {
    "ExecuteTime": {
     "end_time": "2020-09-08T12:53:59.284769Z",
     "start_time": "2020-09-08T12:53:59.272171Z"
    },
    "hidden": true
   },
   "outputs": [],
   "source": [
    "# Open the pre-prepared lexicon\n",
    "with open(\"./lexicon_2/enriched_lexicon.csv\", 'r') as file:\n",
    "    enriched_lexicon = pd.read_csv(file, \n",
    "                                   engine='c', \n",
    "                                   index_col=0)"
   ]
  },
  {
   "cell_type": "code",
   "execution_count": 57,
   "metadata": {
    "ExecuteTime": {
     "end_time": "2020-09-08T12:54:03.113427Z",
     "start_time": "2020-09-08T12:54:02.989560Z"
    },
    "hidden": true
   },
   "outputs": [],
   "source": [
    "# Read the strings as lists\n",
    "enriched_lexicon[\"Vectorized_words\"] = enriched_lexicon[\"Vectorized_words\"].apply(literal_eval)"
   ]
  },
  {
   "cell_type": "code",
   "execution_count": 58,
   "metadata": {
    "ExecuteTime": {
     "end_time": "2020-09-08T12:54:04.799590Z",
     "start_time": "2020-09-08T12:54:04.796870Z"
    },
    "hidden": true
   },
   "outputs": [],
   "source": [
    "# Prepare a list of 100-dimension vectors (the words)\n",
    "X = enriched_lexicon[\"Vectorized_words\"].tolist()\n",
    "# List of labels (1, -1)\n",
    "y = enriched_lexicon[\"Labels\"]"
   ]
  },
  {
   "cell_type": "code",
   "execution_count": 67,
   "metadata": {
    "ExecuteTime": {
     "end_time": "2020-09-08T12:56:12.309918Z",
     "start_time": "2020-09-08T12:56:09.468382Z"
    },
    "hidden": true
   },
   "outputs": [
    {
     "name": "stderr",
     "output_type": "stream",
     "text": [
      "No handles with labels found to put in legend.\n"
     ]
    },
    {
     "data": {
      "text/plain": [
       "[]"
      ]
     },
     "execution_count": 67,
     "metadata": {},
     "output_type": "execute_result"
    },
    {
     "data": {
      "image/png": "[encoded data removed]",
      "text/plain": [
       "<Figure size 720x720 with 1 Axes>"
      ]
     },
     "metadata": {},
     "output_type": "display_data"
    }
   ],
   "source": [
    "#tento con una cross validation e c nell'arco 0.1, 10\n",
    "score_mean = []\n",
    "score_stds = []\n",
    "Cs = Cs = np.arange(1, 40, 1)\n",
    "plt.figure(figsize=(10,10))\n",
    "for c in Cs:\n",
    "    clf = LogisticRegression(C=c, penalty='l2', solver='liblinear')\n",
    "    scores = cross_val_score(clf, X, y, cv=5)\n",
    "    score_mean.append(scores.mean())\n",
    "    score_stds.append(scores.std())\n",
    "\n",
    "plt.errorbar(Cs, score_mean, yerr = score_stds)\n",
    "plt.legend()\n",
    "plt.xlabel(\"C\")\n",
    "plt.ylabel(\"Accuracy\")\n",
    "plt.title(\"Figuring out best C - Cross validated\")\n",
    "plt.plot()"
   ]
  },
  {
   "cell_type": "markdown",
   "metadata": {
    "heading_collapsed": true
   },
   "source": [
    "## Propagation"
   ]
  },
  {
   "cell_type": "code",
   "execution_count": 68,
   "metadata": {
    "ExecuteTime": {
     "end_time": "2020-09-08T12:56:48.813163Z",
     "start_time": "2020-09-08T12:56:48.790711Z"
    },
    "hidden": true
   },
   "outputs": [],
   "source": [
    "# Addestriamo completamente il lessico\n",
    "inducer = LogisticRegression(C=20, penalty='l2', solver='liblinear').fit(X,y)"
   ]
  },
  {
   "cell_type": "markdown",
   "metadata": {},
   "source": [
    "## Scoring Certain"
   ]
  },
  {
   "cell_type": "code",
   "execution_count": 92,
   "metadata": {
    "ExecuteTime": {
     "end_time": "2020-09-08T13:12:59.703170Z",
     "start_time": "2020-09-08T13:12:56.563690Z"
    }
   },
   "outputs": [],
   "source": [
    "slices = {filename.split('/')[-1].replace(\".model\", \"\"): \n",
    "          Word2Vec.load(filename)\n",
    "          for filename in glob.glob('./models/*.model')}"
   ]
  },
  {
   "cell_type": "code",
   "execution_count": 93,
   "metadata": {
    "ExecuteTime": {
     "end_time": "2020-09-08T13:13:22.005850Z",
     "start_time": "2020-09-08T13:12:59.705654Z"
    }
   },
   "outputs": [],
   "source": [
    "models_propagation_Hamilton = [{word: \n",
    "                       (inducer.predict([model.wv[word]])[0] + 1)/2\n",
    "  for word in model.wv.vocab} for model in slices.values()]\n",
    "\n",
    "vocab_counts_Hamilton = [{word: model.wv.vocab[word].count * model_prop[word]\n",
    "                for word in model.wv.vocab} \n",
    "                for model, model_prop in zip(slices.values(), \n",
    "                                             models_propagation_Hamilton)]\n",
    "\n",
    "# This is just the sum of all words in the corpus\n",
    "vocab_counts_abs = [{word: abs(model.wv.vocab[word].count)\n",
    "                    for word in model.wv.vocab}  \n",
    "                    for model in slices.values()]\n",
    "# Difatti questa misure dice quante parole soggettive ci sono\n",
    "# per singola parola scritta nei vari corpus.\n",
    "models_score_Hamilton = {name: sum(count.values())/(sum(count_abs.values()))\n",
    "                for name, count, count_abs in zip(slices, \n",
    "                                                  vocab_counts_Hamilton, \n",
    "                                                  vocab_counts_abs)}"
   ]
  },
  {
   "cell_type": "code",
   "execution_count": 95,
   "metadata": {
    "ExecuteTime": {
     "end_time": "2020-09-08T13:13:22.016493Z",
     "start_time": "2020-09-08T13:13:22.012830Z"
    }
   },
   "outputs": [
    {
     "data": {
      "text/plain": [
       "{'New York Times': 0.5560650004426893,\n",
       " 'CNN': 0.556412200232015,\n",
       " 'News Max': 0.5653872259789239,\n",
       " 'The Federalist': 0.5655937919825634,\n",
       " 'ABC News': 0.5672699785846147,\n",
       " 'Wikipedia': 0.5939066839813166,\n",
       " 'Breitbart': 0.6263741654234439}"
      ]
     },
     "execution_count": 95,
     "metadata": {},
     "output_type": "execute_result"
    }
   ],
   "source": [
    "{k: v for k, v in sorted(models_score_Hamilton.items(), key=lambda item: item[1])}"
   ]
  },
  {
   "cell_type": "markdown",
   "metadata": {
    "heading_collapsed": true
   },
   "source": [
    "## Scoring Probability"
   ]
  },
  {
   "cell_type": "code",
   "execution_count": 99,
   "metadata": {
    "ExecuteTime": {
     "end_time": "2020-09-08T13:14:43.237224Z",
     "start_time": "2020-09-08T13:14:16.302637Z"
    },
    "hidden": true
   },
   "outputs": [],
   "source": [
    "models_propagation_Hamilton = [{word: \n",
    "                       inducer.predict_proba([model.wv[word]])[0][0]\n",
    "  for word in model.wv.vocab} for model in slices.values()]\n",
    "\n",
    "vocab_counts_Hamilton = [{word: model.wv.vocab[word].count * model_prop[word]\n",
    "                for word in model.wv.vocab} \n",
    "                for model, model_prop in zip(slices.values(), \n",
    "                                             models_propagation_Hamilton)]\n",
    "\n",
    "# This is just the sum of all words in the corpus\n",
    "vocab_counts_abs = [{word: abs(model.wv.vocab[word].count)\n",
    "                    for word in model.wv.vocab}  \n",
    "                    for model in slices.values()]\n",
    "# Difatti questa misure dice quante parole soggettive ci sono\n",
    "# per singola parola scritta nei vari corpus.\n",
    "models_score_Hamilton = {name: sum(count.values())/(sum(count_abs.values()))\n",
    "                         for name, count, count_abs in zip(slices, \n",
    "                                                           vocab_counts_Hamilton, \n",
    "                                                           vocab_counts_abs)}"
   ]
  },
  {
   "cell_type": "code",
   "execution_count": 101,
   "metadata": {
    "ExecuteTime": {
     "end_time": "2020-09-08T13:14:46.467099Z",
     "start_time": "2020-09-08T13:14:46.462969Z"
    },
    "hidden": true
   },
   "outputs": [
    {
     "data": {
      "text/plain": [
       "{'Breitbart': 0.3865936679153554,\n",
       " 'Wikipedia': 0.39283746921702256,\n",
       " 'The Federalist': 0.42980322411691685,\n",
       " 'ABC News': 0.4412464769214533,\n",
       " 'CNN': 0.4438646566301673,\n",
       " 'News Max': 0.44433470097759153,\n",
       " 'New York Times': 0.4462006110783193}"
      ]
     },
     "execution_count": 101,
     "metadata": {},
     "output_type": "execute_result"
    }
   ],
   "source": [
    "{k: v \n",
    " for k, v in sorted(models_score_Hamilton.items(), \n",
    "                    key=lambda item: item[1])}"
   ]
  },
  {
   "cell_type": "markdown",
   "metadata": {
    "heading_collapsed": true
   },
   "source": [
    "## Testing"
   ]
  },
  {
   "cell_type": "code",
   "execution_count": 102,
   "metadata": {
    "ExecuteTime": {
     "end_time": "2020-09-08T13:18:39.500996Z",
     "start_time": "2020-09-08T13:18:39.405680Z"
    },
    "hidden": true
   },
   "outputs": [
    {
     "name": "stdout",
     "output_type": "stream",
     "text": [
      "[19262, 8930, 6203, 6870, 11296, 11642, 5451]\n"
     ]
    }
   ],
   "source": [
    "prop_subj = [[key for key, val in models_propagation_test[i].items() \n",
    "              if val == 0]\n",
    "                for i in range(7)]\n",
    "print([len(model)for model in prop_subj])"
   ]
  },
  {
   "cell_type": "markdown",
   "metadata": {
    "heading_collapsed": true
   },
   "source": [
    "# No Propagation"
   ]
  },
  {
   "cell_type": "markdown",
   "metadata": {
    "heading_collapsed": true,
    "hidden": true
   },
   "source": [
    "## Scoring"
   ]
  },
  {
   "cell_type": "code",
   "execution_count": 83,
   "metadata": {
    "ExecuteTime": {
     "end_time": "2020-09-08T13:01:21.957121Z",
     "start_time": "2020-09-08T13:01:21.951802Z"
    },
    "hidden": true
   },
   "outputs": [],
   "source": [
    "# Load as dictionary the refined lexicon\n",
    "with open(\"./lexicon_2/lexicon_refined.csv\", 'r') as file:\n",
    "    lexicon_refined = pd.read_csv(file, index_col=0).to_dict()[\"Valence\"]"
   ]
  },
  {
   "cell_type": "code",
   "execution_count": 84,
   "metadata": {
    "ExecuteTime": {
     "end_time": "2020-09-08T13:01:26.032361Z",
     "start_time": "2020-09-08T13:01:25.879398Z"
    },
    "hidden": true
   },
   "outputs": [],
   "source": [
    "models_propagation_none = [{word: \n",
    "                       (lexicon_refined[word])\n",
    "  for word in lexicon_refined} for model in slices.values()]\n",
    "\n",
    "vocab_counts_none = [{word: model.wv.vocab[word].count * model_prop[word]\n",
    "                for word in lexicon_refined} \n",
    "                for model, model_prop in zip(slices.values(), models_propagation_none)]\n",
    "\n",
    "# This is just the sum of all words in the corpus\n",
    "vocab_counts_abs = [{word: abs(model.wv.vocab[word].count)\n",
    "                    for word in model.wv.vocab}  \n",
    "                    for model, model_prop in zip(slices.values(), \n",
    "                                                 models_propagation_none)]\n",
    "# Difatti questa misure dice quante parole soggettive ci sono\n",
    "# per singola parola scritta nei vari corpus.\n",
    "models_score_none = {name: sum(count.values())/(sum(count_abs.values()))\n",
    "                for name, count, count_abs in zip(slices, vocab_counts_none, \n",
    "                                            vocab_counts_abs)}"
   ]
  },
  {
   "cell_type": "code",
   "execution_count": 85,
   "metadata": {
    "ExecuteTime": {
     "end_time": "2020-09-08T13:01:26.813433Z",
     "start_time": "2020-09-08T13:01:26.809057Z"
    },
    "hidden": true
   },
   "outputs": [
    {
     "data": {
      "text/plain": [
       "{'Wikipedia': 0.01615761917797048,\n",
       " 'New York Times': 0.02604497701537687,\n",
       " 'Breitbart': 0.026322552575257185,\n",
       " 'News Max': 0.026722542294746254,\n",
       " 'CNN': 0.02747633268967945,\n",
       " 'ABC News': 0.0322908368404149,\n",
       " 'The Federalist': 0.03311357565394937}"
      ]
     },
     "execution_count": 85,
     "metadata": {},
     "output_type": "execute_result"
    }
   ],
   "source": [
    "{k: v \n",
    " for k, v in sorted(models_score_none.items(), \n",
    "                    key=lambda item: item[1])}"
   ]
  },
  {
   "cell_type": "markdown",
   "metadata": {},
   "source": [
    "# Hamilton"
   ]
  },
  {
   "cell_type": "code",
   "execution_count": 4,
   "metadata": {
    "ExecuteTime": {
     "end_time": "2020-09-08T23:13:46.846386Z",
     "start_time": "2020-09-08T23:13:43.919881Z"
    }
   },
   "outputs": [],
   "source": [
    "slices = {filename.split('/')[-1].replace(\".model\", \"\"): \n",
    "          Word2Vec.load(filename)\n",
    "          for filename in glob.glob('./models/*.model')}"
   ]
  },
  {
   "cell_type": "code",
   "execution_count": 6,
   "metadata": {
    "ExecuteTime": {
     "end_time": "2020-09-08T23:13:55.230080Z",
     "start_time": "2020-09-08T23:13:54.972910Z"
    }
   },
   "outputs": [],
   "source": [
    "# We have to remove some nan, because Hamilton sucks\n",
    "propagations = {filename.split(\"_\")[-1].replace(\".csv\", \"\"):\n",
    "                pd.read_csv(filename, index_col=0).dropna()\n",
    "                for filename in glob.glob('./propagations_2/*.csv')}"
   ]
  },
  {
   "cell_type": "code",
   "execution_count": 7,
   "metadata": {
    "ExecuteTime": {
     "end_time": "2020-09-08T23:14:30.088362Z",
     "start_time": "2020-09-08T23:14:07.893155Z"
    }
   },
   "outputs": [],
   "source": [
    "vocab_counts_Hamilton = {model_name: {row[\"Words\"]: \n",
    "                      model.wv.vocab[row[\"Words\"]].count * row[\"Labels\"]\n",
    "                for index, row in propagations[model_name].iterrows()} \n",
    "                for model, model_name in zip(slices.values(), \n",
    "                                             slices)}\n",
    "\n",
    "# This is just the sum of all words in the corpus\n",
    "vocab_counts_abs = {model_name: {word: abs(model.wv.vocab[word].count)\n",
    "                    for word in model.wv.vocab}  \n",
    "                    for model, model_name in zip(slices.values(), \n",
    "                                                 slices)}\n",
    "# Difatti questa misure dice quante parole soggettive ci sono\n",
    "# per singola parola scritta nei vari corpus.\n",
    "models_score_Hamilton = {name: \n",
    "                         (sum(vocab_counts_Hamilton[name].values())\n",
    "                          /(sum(vocab_counts_abs[name].values())))\n",
    "                         for name in slices}"
   ]
  },
  {
   "cell_type": "code",
   "execution_count": 8,
   "metadata": {
    "ExecuteTime": {
     "end_time": "2020-09-08T23:14:33.132416Z",
     "start_time": "2020-09-08T23:14:33.127233Z"
    }
   },
   "outputs": [
    {
     "data": {
      "text/plain": [
       "{'The Federalist': 0.5294697689020683,\n",
       " 'CNN': 0.5432039610423294,\n",
       " 'Breitbart': 0.5532589961924428,\n",
       " 'News Max': 0.564340204865545,\n",
       " 'ABC News': 0.5940396512189026,\n",
       " 'Wikipedia': 0.6025457097622846,\n",
       " 'New York Times': 0.6745870642411773}"
      ]
     },
     "execution_count": 8,
     "metadata": {},
     "output_type": "execute_result"
    }
   ],
   "source": [
    "{k: v \n",
    " for k, v in sorted(models_score_Hamilton.items(), \n",
    "                    key=lambda item: item[1])}"
   ]
  },
  {
   "cell_type": "code",
   "execution_count": null,
   "metadata": {},
   "outputs": [],
   "source": []
  }
 ],
 "metadata": {
  "kernelspec": {
   "display_name": "Python 3",
   "language": "python",
   "name": "python3"
  },
  "language_info": {
   "codemirror_mode": {
    "name": "ipython",
    "version": 3
   },
   "file_extension": ".py",
   "mimetype": "text/x-python",
   "name": "python",
   "nbconvert_exporter": "python",
   "pygments_lexer": "ipython3",
   "version": "3.7.7"
  },
  "toc": {
   "base_numbering": 1,
   "nav_menu": {},
   "number_sections": true,
   "sideBar": true,
   "skip_h1_title": false,
   "title_cell": "Table of Contents",
   "title_sidebar": "Contents",
   "toc_cell": false,
   "toc_position": {
    "height": "calc(100% - 180px)",
    "left": "10px",
    "top": "150px",
    "width": "268.79998779296875px"
   },
   "toc_section_display": true,
   "toc_window_display": true
  }
 },
 "nbformat": 4,
 "nbformat_minor": 4
}
