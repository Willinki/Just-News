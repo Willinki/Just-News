{
 "cells": [
  {
   "cell_type": "code",
   "execution_count": 47,
   "metadata": {
    "ExecuteTime": {
     "end_time": "2020-09-01T10:48:15.306188Z",
     "start_time": "2020-09-01T10:48:15.303430Z"
    }
   },
   "outputs": [],
   "source": [
    "import pandas as pd\n",
    "from cade.cade import CADE\n",
    "from gensim.models.word2vec import Word2Vec\n",
    "import os\n",
    "import glob\n",
    "import json\n",
    "import numpy as np"
   ]
  },
  {
   "cell_type": "code",
   "execution_count": 13,
   "metadata": {
    "ExecuteTime": {
     "end_time": "2020-09-01T10:35:54.552665Z",
     "start_time": "2020-09-01T10:35:52.154871Z"
    }
   },
   "outputs": [
    {
     "name": "stdout",
     "output_type": "stream",
     "text": [
      "./data_final/scraping_data_Slate.json\n",
      "./data_final/scraping_data_NYTimes.json\n",
      "./data_final/scraping_data_Breitbart.json\n",
      "./data_final/scraping_data_CNN.json\n",
      "./data_final/scraping_data_ABC.json\n",
      "./data_final/scraping_data_Federalist.json\n",
      "./data_final/scraping_data_Wikipedia.json\n",
      "./data_final/scraping_data_NewsMax.json\n"
     ]
    }
   ],
   "source": [
    "df_list = pd.DataFrame()\n",
    "for filename in glob.glob('./data_final/*.json'):\n",
    "    print(filename)\n",
    "    with open(filename, 'r') as f:\n",
    "        json_load = json.loads(f.read())\n",
    "        df_list = df_list.append(pd.DataFrame.from_records(json_load, index=\"_id\"), ignore_index = True)"
   ]
  },
  {
   "cell_type": "code",
   "execution_count": 15,
   "metadata": {
    "ExecuteTime": {
     "end_time": "2020-09-01T10:37:36.149823Z",
     "start_time": "2020-09-01T10:37:36.122738Z"
    }
   },
   "outputs": [],
   "source": [
    "df_list = df_list[['Title', \"Date\", \"Link\", \"Paragraphs\", \"Authors\"]]"
   ]
  },
  {
   "cell_type": "code",
   "execution_count": 69,
   "metadata": {
    "ExecuteTime": {
     "end_time": "2020-09-01T10:53:14.734636Z",
     "start_time": "2020-09-01T10:53:14.730830Z"
    }
   },
   "outputs": [],
   "source": [
    "def create_newssite(link = None):\n",
    "        if link is np.nan:\n",
    "            return(\"Wikipedia\")\n",
    "        elif \"slate\" in link:\n",
    "            return(\"Slate\")\n",
    "        elif \"https://www.nytimes.com\" in link:\n",
    "            return(\"New York Times\")\n",
    "        elif \"https://www.breitbart.com\" in link:\n",
    "            return(\"Breitbart\")\n",
    "        elif \"https://www.cnn.com\" in link:\n",
    "            return(\"CNN\")\n",
    "        elif \"abcnews\" in link:\n",
    "            return(\"ABC News\")\n",
    "        elif \"https://thefederalist.com\" in link:\n",
    "            return(\"The Federalist\")\n",
    "        elif \"https://www.newsmax.com\" in link:\n",
    "            return(\"News Max\")\n",
    "        else:\n",
    "            return(\"Unknown\")"
   ]
  },
  {
   "cell_type": "code",
   "execution_count": 73,
   "metadata": {
    "ExecuteTime": {
     "end_time": "2020-09-01T10:53:38.803537Z",
     "start_time": "2020-09-01T10:53:38.764342Z"
    }
   },
   "outputs": [
    {
     "name": "stdout",
     "output_type": "stream",
     "text": [
      "AVVOCATO CI SIAMO\n"
     ]
    },
    {
     "name": "stderr",
     "output_type": "stream",
     "text": [
      "/Users/leonardoalchieri/anaconda3/envs/nlp/lib/python3.7/site-packages/ipykernel_launcher.py:1: SettingWithCopyWarning: \n",
      "A value is trying to be set on a copy of a slice from a DataFrame.\n",
      "Try using .loc[row_indexer,col_indexer] = value instead\n",
      "\n",
      "See the caveats in the documentation: https://pandas.pydata.org/pandas-docs/stable/user_guide/indexing.html#returning-a-view-versus-a-copy\n",
      "  \"\"\"Entry point for launching an IPython kernel.\n"
     ]
    }
   ],
   "source": [
    "df_list[\"Newssite\"] = df_list[\"Link\"].apply(create_newssite)\n",
    "\n",
    "if len(df_list[df_list[\"Newssite\"][:] == \"Unknown\"]) == 0:\n",
    "    print(\"AVVOCATO CI SIAMO\")"
   ]
  },
  {
   "cell_type": "code",
   "execution_count": 75,
   "metadata": {
    "ExecuteTime": {
     "end_time": "2020-09-01T11:00:26.464683Z",
     "start_time": "2020-09-01T11:00:20.623411Z"
    }
   },
   "outputs": [],
   "source": [
    "with open(\"./data_safe.csv\", 'w') as file:\n",
    "    df_list.to_csv(file)"
   ]
  },
  {
   "cell_type": "code",
   "execution_count": null,
   "metadata": {},
   "outputs": [],
   "source": []
  }
 ],
 "metadata": {
  "kernelspec": {
   "display_name": "Python 3",
   "language": "python",
   "name": "python3"
  },
  "language_info": {
   "codemirror_mode": {
    "name": "ipython",
    "version": 3
   },
   "file_extension": ".py",
   "mimetype": "text/x-python",
   "name": "python",
   "nbconvert_exporter": "python",
   "pygments_lexer": "ipython3",
   "version": "3.7.7"
  },
  "toc": {
   "base_numbering": 1,
   "nav_menu": {},
   "number_sections": true,
   "sideBar": true,
   "skip_h1_title": false,
   "title_cell": "Table of Contents",
   "title_sidebar": "Contents",
   "toc_cell": false,
   "toc_position": {},
   "toc_section_display": true,
   "toc_window_display": false
  }
 },
 "nbformat": 4,
 "nbformat_minor": 4
}
