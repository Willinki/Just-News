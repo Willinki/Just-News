{
 "cells": [
  {
   "cell_type": "code",
   "execution_count": 1,
   "metadata": {
    "ExecuteTime": {
     "end_time": "2020-09-05T11:44:06.620572Z",
     "start_time": "2020-09-05T11:44:05.457439Z"
    }
   },
   "outputs": [],
   "source": [
    "# General purpose\n",
    "import pandas as pd\n",
    "import os\n",
    "import glob\n",
    "import json\n",
    "import numpy as np\n",
    "from ast import literal_eval\n",
    "import string\n",
    "import matplotlib.pyplot as plt\n",
    "from scipy.spatial.distance import cosine\n",
    "import itertools\n",
    "from numpy.linalg import norm\n",
    "from collections import Counter\n",
    "import codecs\n",
    "import tqdm\n",
    "# NLP\n",
    "from cade.cade import CADE\n",
    "from gensim.models.word2vec import Word2Vec\n",
    "# Machine Learning\n",
    "from sklearn.decomposition import PCA\n",
    "from sklearn.linear_model import LogisticRegression\n",
    "from sklearn.model_selection import train_test_split\n",
    "from sklearn import svm\n",
    "from sklearn.model_selection import cross_val_score\n",
    "# currently installed theme will be used to\n",
    "# set plot style if no arguments provided\n",
    "# Theme\n",
    "from jupyterthemes import jtplot\n",
    "jtplot.style()"
   ]
  },
  {
   "cell_type": "code",
   "execution_count": 2,
   "metadata": {
    "ExecuteTime": {
     "end_time": "2020-09-05T11:44:06.624609Z",
     "start_time": "2020-09-05T11:44:06.622136Z"
    }
   },
   "outputs": [],
   "source": [
    "# Function to remove punctuation from strings.\n",
    "# Copied from Prof.\n",
    "def simple_preproc(text):\n",
    "  \"\"\"\n",
    "  see: https://stackoverflow.com/questions/265960/best-way-to-strip-punctuation-from-a-string\n",
    "  \"\"\"\n",
    "  return text.translate(str.maketrans('', '', string.punctuation))"
   ]
  },
  {
   "cell_type": "markdown",
   "metadata": {
    "heading_collapsed": true
   },
   "source": [
    "# Pre-processing\n",
    "\n",
    "Here we load the json arrays from Mongo and output a csv file, i.e. a pandas dataframe. \n",
    "This DF will be used for the CADE training.\n",
    "\n",
    "Provo senza Wikipedia"
   ]
  },
  {
   "cell_type": "code",
   "execution_count": 3,
   "metadata": {
    "ExecuteTime": {
     "end_time": "2020-09-04T08:05:45.159363Z",
     "start_time": "2020-09-04T08:05:42.811559Z"
    },
    "hidden": true
   },
   "outputs": [
    {
     "name": "stdout",
     "output_type": "stream",
     "text": [
      "./data_final/scraping_data_Breitbart.json\n",
      "./data_final/scraping_data_NYTimes.json\n"
     ]
    }
   ],
   "source": [
    "df_list = pd.DataFrame()\n",
    "for filename in glob.glob('../data_final/*.json'):\n",
    "    print(filename)\n",
    "    with open(filename, 'r') as f:\n",
    "        json_load = json.loads(f.read())\n",
    "        df_list = df_list.append(pd.DataFrame.from_records(json_load, index=\"_id\"), ignore_index = True)"
   ]
  },
  {
   "cell_type": "code",
   "execution_count": 4,
   "metadata": {
    "ExecuteTime": {
     "end_time": "2020-09-01T13:37:08.930297Z",
     "start_time": "2020-09-01T13:37:08.895411Z"
    },
    "hidden": true
   },
   "outputs": [],
   "source": [
    "df_list = df_list[['Title', \"Date\", \"Link\", \"Paragraphs\", \"Authors\"]]"
   ]
  },
  {
   "cell_type": "code",
   "execution_count": 5,
   "metadata": {
    "ExecuteTime": {
     "end_time": "2020-09-01T13:37:09.750994Z",
     "start_time": "2020-09-01T13:37:09.747077Z"
    },
    "hidden": true
   },
   "outputs": [],
   "source": [
    "def create_newssite(link = None):\n",
    "        if link is np.nan:\n",
    "            return(\"Wikipedia\")\n",
    "        elif \"slate.com\" in link:\n",
    "            return(\"Slate\")\n",
    "        elif \"https://www.nytimes.com\" in link:\n",
    "            return(\"New York Times\")\n",
    "        elif \"https://www.breitbart.com\" in link:\n",
    "            return(\"Breitbart\")\n",
    "        elif \"https://www.cnn.com\" in link:\n",
    "            return(\"CNN\")\n",
    "        elif \"abcnews\" in link:\n",
    "            return(\"ABC News\")\n",
    "        elif \"https://thefederalist.com\" in link:\n",
    "            return(\"The Federalist\")\n",
    "        elif \"https://www.newsmax.com\" in link:\n",
    "            return(\"News Max\")\n",
    "        else:\n",
    "            return(\"Unknown\")"
   ]
  },
  {
   "cell_type": "code",
   "execution_count": 6,
   "metadata": {
    "ExecuteTime": {
     "end_time": "2020-09-01T13:37:13.426602Z",
     "start_time": "2020-09-01T13:37:13.377277Z"
    },
    "hidden": true
   },
   "outputs": [
    {
     "name": "stdout",
     "output_type": "stream",
     "text": [
      "AVVOCATO CI SIAMO\n"
     ]
    }
   ],
   "source": [
    "df_list[\"Newssite\"] = df_list[\"Link\"].apply(create_newssite)\n",
    "\n",
    "if len(df_list[df_list[\"Newssite\"][:] == \"Unknown\"]) == 0:\n",
    "    print(\"AVVOCATO CI SIAMO\")"
   ]
  },
  {
   "cell_type": "code",
   "execution_count": 7,
   "metadata": {
    "ExecuteTime": {
     "end_time": "2020-09-01T11:00:26.464683Z",
     "start_time": "2020-09-01T11:00:20.623411Z"
    },
    "hidden": true
   },
   "outputs": [],
   "source": [
    "with open(\"./data_safe.csv\", 'w') as file:\n",
    "    df_list.to_csv(file)"
   ]
  },
  {
   "cell_type": "markdown",
   "metadata": {
    "heading_collapsed": true
   },
   "source": [
    "# CADE"
   ]
  },
  {
   "cell_type": "markdown",
   "metadata": {
    "heading_collapsed": true,
    "hidden": true
   },
   "source": [
    "## Embedding totale"
   ]
  },
  {
   "cell_type": "markdown",
   "metadata": {
    "hidden": true
   },
   "source": [
    "First, we create a big text with everything. Like, EVERYTHING."
   ]
  },
  {
   "cell_type": "code",
   "execution_count": 8,
   "metadata": {
    "ExecuteTime": {
     "end_time": "2020-09-03T09:14:58.811539Z",
     "start_time": "2020-09-03T09:14:51.736010Z"
    },
    "hidden": true
   },
   "outputs": [],
   "source": [
    "with open(\"./data_safe.csv\") as file:\n",
    "    df = pd.read_csv(file, engine='c')\n",
    "\n",
    "df[\"Paragraphs\"] = df[\"Paragraphs\"].apply(literal_eval)\n",
    "\n",
    "EVERYTHING = \"\"\n",
    "for k in df[\"Paragraphs\"]:\n",
    "    EVERYTHING += \"\\n\".join(k)"
   ]
  },
  {
   "cell_type": "code",
   "execution_count": 9,
   "metadata": {
    "ExecuteTime": {
     "end_time": "2020-09-03T09:15:15.696792Z",
     "start_time": "2020-09-03T09:14:58.813419Z"
    },
    "hidden": true
   },
   "outputs": [],
   "source": [
    "EVERYTHING = simple_preproc(EVERYTHING).lower()\n",
    "EVERYTHING = EVERYTHING.replace(\"—\", \n",
    "                                                \"\").replace(\"\\n\", \n",
    "                                                            \" \").replace(\"“\", \n",
    "                                                                         \"\").replace(\"“\", \n",
    "                                                                                          \"\").replace(\"”\", \n",
    "                                                                                                      \"\").replace(\"’s\", \n",
    "                                                                                                             \"\")"
   ]
  },
  {
   "cell_type": "code",
   "execution_count": 10,
   "metadata": {
    "ExecuteTime": {
     "end_time": "2020-09-03T09:15:16.150852Z",
     "start_time": "2020-09-03T09:15:15.699831Z"
    },
    "hidden": true
   },
   "outputs": [],
   "source": [
    "with open(\"./EVERYTHING.txt\", 'w') as file:\n",
    "    file.write(EVERYTHING)"
   ]
  },
  {
   "cell_type": "code",
   "execution_count": 3,
   "metadata": {
    "ExecuteTime": {
     "end_time": "2020-09-04T09:40:41.662023Z",
     "start_time": "2020-09-04T09:37:43.301198Z"
    },
    "hidden": true
   },
   "outputs": [
    {
     "name": "stdout",
     "output_type": "stream",
     "text": [
      "Training the compass from scratch.\n"
     ]
    }
   ],
   "source": [
    "aligner = CADE(size=100, workers=12)\n",
    "\n",
    "aligner.train_compass(\"./EVERYTHING.txt\", overwrite=False) # keep an eye on the overwrite behaviour"
   ]
  },
  {
   "cell_type": "markdown",
   "metadata": {
    "heading_collapsed": true,
    "hidden": true
   },
   "source": [
    "## Embedding singolo slice"
   ]
  },
  {
   "cell_type": "code",
   "execution_count": 4,
   "metadata": {
    "ExecuteTime": {
     "end_time": "2020-09-04T09:41:03.786670Z",
     "start_time": "2020-09-04T09:40:41.664055Z"
    },
    "hidden": true
   },
   "outputs": [
    {
     "name": "stdout",
     "output_type": "stream",
     "text": [
      "[INFO] Progress:1/2\n",
      "[INFO] Progress:2/2\n"
     ]
    }
   ],
   "source": [
    "with open(\"./data_safe.csv\") as file:\n",
    "    df = pd.read_csv(file, engine='c')\n",
    "    \n",
    "df[\"Paragraphs\"] = df[\"Paragraphs\"].apply(literal_eval)\n",
    "\n",
    "for i, Newssite in enumerate(df[\"Newssite\"].unique()):\n",
    "    print(\"[INFO] Progress:\"+str(i+1)+\"/\"+str(len(df[\"Newssite\"].unique())))\n",
    "    newssite_to_text = \"\"\n",
    "    for k in df[df[\"Newssite\"] == Newssite][\"Paragraphs\"][:]:\n",
    "        newssite_to_text += \"\\n\".join(k)\n",
    "    newssite_to_text = simple_preproc(newssite_to_text).lower()\n",
    "    newssite_to_text = newssite_to_text.replace(\"—\", \n",
    "                                                \"\").replace(\"\\n\", \n",
    "                                                            \" \").replace(\"“\", \n",
    "                                                                         \"\").replace(\"“\", \n",
    "                                                                                          \"\").replace(\"”\", \n",
    "                                                                                                      \"\").replace(\"’s\", \n",
    "                                                                                                             \"\")\n",
    "    with open(\"./text_\"+str(Newssite)+\".txt\", 'w') as file:\n",
    "        file.write(newssite_to_text)"
   ]
  },
  {
   "cell_type": "code",
   "execution_count": 5,
   "metadata": {
    "ExecuteTime": {
     "end_time": "2020-09-04T09:44:36.883108Z",
     "start_time": "2020-09-04T09:41:03.788841Z"
    },
    "hidden": true
   },
   "outputs": [
    {
     "name": "stdout",
     "output_type": "stream",
     "text": [
      "Training embeddings: slice ./text_Breitbart.txt.\n",
      "Initializing embeddings from compass.\n",
      "Training embeddings: slice ./text_New York Times.txt.\n",
      "Initializing embeddings from compass.\n"
     ]
    }
   ],
   "source": [
    "slices = {\n",
    "            Newssite: aligner.train_slice(\"./text_\"+str(Newssite)+\".txt\", save=False)\n",
    "            for Newssite in df[\"Newssite\"].unique()\n",
    "         }"
   ]
  },
  {
   "cell_type": "code",
   "execution_count": 6,
   "metadata": {
    "ExecuteTime": {
     "end_time": "2020-09-04T09:44:39.279042Z",
     "start_time": "2020-09-04T09:44:36.885057Z"
    },
    "hidden": true
   },
   "outputs": [],
   "source": [
    "# Dobbiamo andare a salvare i vari slice\n",
    "for my_slice in slices:\n",
    "    slices[my_slice].save(\"models/\"+str(my_slice)+\".model\")"
   ]
  },
  {
   "cell_type": "markdown",
   "metadata": {
    "heading_collapsed": true,
    "hidden": true
   },
   "source": [
    "## Visualizzazione medie"
   ]
  },
  {
   "cell_type": "code",
   "execution_count": 48,
   "metadata": {
    "ExecuteTime": {
     "end_time": "2020-09-05T12:20:56.068438Z",
     "start_time": "2020-09-05T12:20:56.065516Z"
    },
    "hidden": true
   },
   "outputs": [],
   "source": [
    "def sum_vectors(my_slice = None):\n",
    "    my_sum = 0\n",
    "    for i, word in enumerate(my_slice.wv.vocab):\n",
    "        my_sum += my_slice.wv[word]\n",
    "    return(my_sum/len(my_slice.wv.vocab))"
   ]
  },
  {
   "cell_type": "code",
   "execution_count": 49,
   "metadata": {
    "ExecuteTime": {
     "end_time": "2020-09-05T12:20:57.061858Z",
     "start_time": "2020-09-05T12:20:56.278997Z"
    },
    "hidden": true,
    "scrolled": true
   },
   "outputs": [],
   "source": [
    "my_sum = [sum_vectors(slices[my_slice]) \n",
    "       for i, my_slice in enumerate(slices)]"
   ]
  },
  {
   "cell_type": "code",
   "execution_count": 50,
   "metadata": {
    "ExecuteTime": {
     "end_time": "2020-09-05T12:20:57.188920Z",
     "start_time": "2020-09-05T12:20:57.063868Z"
    },
    "hidden": true
   },
   "outputs": [
    {
     "data": {
      "image/png": "[encoded data removed]",
      "text/plain": [
       "<Figure size 460.8x403.2 with 1 Axes>"
      ]
     },
     "metadata": {},
     "output_type": "display_data"
    }
   ],
   "source": [
    "X_tranf = PCA(n_components=2).fit_transform(my_sum)\n",
    "plt.scatter(X_tranf[:, 0], X_tranf[:, 1])\n",
    "for index, word in enumerate(slices):\n",
    "    plt.annotate(word, xy=(X_tranf[index, 0]+0.01, X_tranf[index, 1]+0.01))\n",
    "plt.show()"
   ]
  },
  {
   "cell_type": "code",
   "execution_count": 17,
   "metadata": {
    "ExecuteTime": {
     "end_time": "2020-09-03T09:21:37.864532Z",
     "start_time": "2020-09-03T09:21:37.857862Z"
    },
    "hidden": true
   },
   "outputs": [
    {
     "name": "stdout",
     "output_type": "stream",
     "text": [
      "[[1.   0.93]\n",
      " [0.93 1.  ]]\n"
     ]
    }
   ],
   "source": [
    "print(np.array([[int((1 - cosine(my_sum[j], my_sum[i]))*100)/100\n",
    "  for j in range(len(slices))] \n",
    " for i in range(len(slices))]))"
   ]
  },
  {
   "cell_type": "code",
   "execution_count": 18,
   "metadata": {
    "ExecuteTime": {
     "end_time": "2020-09-03T09:21:37.876932Z",
     "start_time": "2020-09-03T09:21:37.866199Z"
    },
    "hidden": true
   },
   "outputs": [
    {
     "name": "stdout",
     "output_type": "stream",
     "text": [
      "0 0\n",
      "1.0\n",
      "0 1\n",
      "0.9388323426246643\n",
      "1 0\n",
      "0.9388323426246643\n",
      "1 1\n",
      "1.0\n"
     ]
    }
   ],
   "source": [
    "for i, my_slice_1 in enumerate(slices):\n",
    "    for j, my_slice_2 in enumerate(slices):\n",
    "        print(i, j)\n",
    "        print(1 - cosine(my_sum[j], my_sum[i]))"
   ]
  },
  {
   "cell_type": "markdown",
   "metadata": {
    "heading_collapsed": true
   },
   "source": [
    "# Lexicon Refinement"
   ]
  },
  {
   "cell_type": "markdown",
   "metadata": {
    "hidden": true
   },
   "source": [
    "In questa sezione andiamo a prendere un Lexicon già [fatto](https://mpqa.cs.pitt.edu/lexicons/subj_lexicon/). Questo possiede due score: noi chiamiamo 0 quello per l'oggettività, e 1 per la soggettività. "
   ]
  },
  {
   "cell_type": "markdown",
   "metadata": {
    "heading_collapsed": true,
    "hidden": true
   },
   "source": [
    "## Pre-processing Lexicon"
   ]
  },
  {
   "cell_type": "code",
   "execution_count": 19,
   "metadata": {
    "ExecuteTime": {
     "end_time": "2020-09-04T09:44:39.299297Z",
     "start_time": "2020-09-04T09:44:39.280975Z"
    },
    "hidden": true
   },
   "outputs": [],
   "source": [
    "with open(\"./lexicon/subjectivityLexicon.csv\", 'r') as file:\n",
    "    lexicon = pd.read_csv(file, engine='c', sep=';', header=None)\n",
    "\n",
    "lexicon.columns = [\"Word\", \"Subj_score\"]\n",
    "\n",
    "# Facciamo un po' di pulizia prima di procedere\n",
    "lexicon[\"Word\"] = lexicon[\"Word\"].apply(lambda x: x.replace(\"word1=\", \"\"))\n",
    "lexicon[\"Subj_score\"] = lexicon[\"Subj_score\"].apply(lambda x: \n",
    "                                                    x.replace(\"type=\", \"\"))"
   ]
  },
  {
   "cell_type": "code",
   "execution_count": 20,
   "metadata": {
    "ExecuteTime": {
     "end_time": "2020-09-04T09:44:39.304224Z",
     "start_time": "2020-09-04T09:44:39.301188Z"
    },
    "hidden": true
   },
   "outputs": [],
   "source": [
    "def encode_subj(string_score = None):\n",
    "    if string_score == \"weaksubj\":\n",
    "        return(0)\n",
    "    elif string_score == \"strongsubj\":\n",
    "        return(1)\n",
    "    else:\n",
    "        print('[ERROR] Some problems occurd.')\n",
    "        return(-1)"
   ]
  },
  {
   "cell_type": "code",
   "execution_count": 21,
   "metadata": {
    "ExecuteTime": {
     "end_time": "2020-09-04T09:44:39.312489Z",
     "start_time": "2020-09-04T09:44:39.305987Z"
    },
    "hidden": true
   },
   "outputs": [],
   "source": [
    "lexicon[\"Subj_score\"] = lexicon[\"Subj_score\"].apply(encode_subj)"
   ]
  },
  {
   "cell_type": "code",
   "execution_count": 22,
   "metadata": {
    "ExecuteTime": {
     "end_time": "2020-09-04T09:44:39.335733Z",
     "start_time": "2020-09-04T09:44:39.316029Z"
    },
    "hidden": true
   },
   "outputs": [],
   "source": [
    "with open(\"./lexicon/clean_lexicon.csv\", 'w') as file:\n",
    "    lexicon.to_csv(file)"
   ]
  },
  {
   "cell_type": "code",
   "execution_count": null,
   "metadata": {
    "hidden": true
   },
   "outputs": [],
   "source": []
  },
  {
   "cell_type": "markdown",
   "metadata": {
    "hidden": true
   },
   "source": [
    "## LRP"
   ]
  },
  {
   "cell_type": "code",
   "execution_count": 3,
   "metadata": {
    "ExecuteTime": {
     "end_time": "2020-09-05T11:44:07.454986Z",
     "start_time": "2020-09-05T11:44:07.449034Z"
    },
    "hidden": true
   },
   "outputs": [],
   "source": [
    "from nicoli_utils import *"
   ]
  },
  {
   "cell_type": "code",
   "execution_count": 4,
   "metadata": {
    "ExecuteTime": {
     "end_time": "2020-09-05T11:44:10.737749Z",
     "start_time": "2020-09-05T11:44:07.597606Z"
    },
    "hidden": true
   },
   "outputs": [],
   "source": [
    "# Caricamento del lexicon\n",
    "with open(\"./lexicon/clean_lexicon.csv\", 'r') as file:\n",
    "    lexicon = pd.read_csv(file, index_col=1)\n",
    "\n",
    "# Caricamento dei modelli già addestrati\n",
    "slices = {filename.split('/')[-1].replace(\".model\", \"\"): \n",
    "          Word2Vec.load(filename)\n",
    "          for filename in glob.glob('./models/*.model')}"
   ]
  },
  {
   "cell_type": "code",
   "execution_count": 5,
   "metadata": {
    "ExecuteTime": {
     "end_time": "2020-09-05T11:44:10.745061Z",
     "start_time": "2020-09-05T11:44:10.739738Z"
    },
    "hidden": true
   },
   "outputs": [],
   "source": [
    "lexicon = lexicon.drop(\"Unnamed: 0\", axis=1)\n",
    "\n",
    "lexicon = lexicon.to_dict()[\"Subj_score\"]"
   ]
  },
  {
   "cell_type": "code",
   "execution_count": 14,
   "metadata": {
    "ExecuteTime": {
     "end_time": "2020-09-05T11:48:04.438167Z",
     "start_time": "2020-09-05T11:48:04.435775Z"
    },
    "hidden": true
   },
   "outputs": [],
   "source": [
    "models_test = [slices[\"New York Times\"], \n",
    "               slices[\"Breitbart\"], \n",
    "               slices[\"Slate\"], \n",
    "               slices[\"CNN\"]]"
   ]
  },
  {
   "cell_type": "code",
   "execution_count": 15,
   "metadata": {
    "ExecuteTime": {
     "end_time": "2020-09-05T11:48:04.634325Z",
     "start_time": "2020-09-05T11:48:04.631932Z"
    },
    "hidden": true
   },
   "outputs": [],
   "source": [
    "corpora_test = [\"./text_New York Times.txt\", \n",
    "                \"./text_Breitbart.txt\", \n",
    "                \"./text_Slate.txt\", \n",
    "               \"./text_CNN.txt\"]"
   ]
  },
  {
   "cell_type": "code",
   "execution_count": 20,
   "metadata": {
    "ExecuteTime": {
     "end_time": "2020-09-05T12:01:51.774138Z",
     "start_time": "2020-09-05T11:52:35.887781Z"
    },
    "hidden": true
   },
   "outputs": [
    {
     "name": "stdout",
     "output_type": "stream",
     "text": [
      "count text_Wikipedia\n",
      "min_count text_Wikipedia\n",
      "zipf text_Wikipedia\n",
      "count text_ABC News\n",
      "min_count text_ABC News\n",
      "zipf text_ABC News\n",
      "count text_Slate\n",
      "min_count text_Slate\n",
      "zipf text_Slate\n",
      "count text_Breitbart\n",
      "min_count text_Breitbart\n",
      "zipf text_Breitbart\n",
      "count text_CNN\n",
      "min_count text_CNN\n",
      "zipf text_CNN\n",
      "count text_The Federalist\n",
      "min_count text_The Federalist\n",
      "zipf text_The Federalist\n",
      "count text_New York Times\n",
      "min_count text_New York Times\n",
      "zipf text_New York Times\n",
      "count text_News Max\n",
      "min_count text_News Max\n",
      "zipf text_News Max\n",
      "dataframe done\n",
      "common filter done\n"
     ]
    }
   ],
   "source": [
    "# Lessico che si ottiene raffinando su tutti \n",
    "# gli embedding generati\n",
    "lexicon_refined = lexicon_refinement(lex = lexicon, \n",
    "                   models = [slices[sli] \n",
    "                             for sli in slices], \n",
    "                   corpora = [\"./text_\"+str(sli)+\".txt\" \n",
    "                              for sli in slices], \n",
    "                    zipf_cutoff=5)"
   ]
  },
  {
   "cell_type": "code",
   "execution_count": 63,
   "metadata": {
    "ExecuteTime": {
     "end_time": "2020-09-05T14:30:35.495186Z",
     "start_time": "2020-09-05T14:30:35.491056Z"
    },
    "hidden": true
   },
   "outputs": [],
   "source": [
    "with open(\"./lexicon/lexicon_refined.csv\", 'w') as file:\n",
    "    pd.DataFrame(lexicon_refined).to_csv(file)"
   ]
  },
  {
   "cell_type": "markdown",
   "metadata": {
    "heading_collapsed": true,
    "hidden": true
   },
   "source": [
    "## Lexicon Enrichment"
   ]
  },
  {
   "cell_type": "markdown",
   "metadata": {
    "hidden": true
   },
   "source": [
    "Su consiglio di Nicoli, facciamo prima l'arricchimento della classe meno frequente (nel nostro caso quella con `1`). \n",
    "\n",
    "Per eseguirla, usiamo una funzione già costruita dal nostro assistente preferito."
   ]
  },
  {
   "cell_type": "code",
   "execution_count": 24,
   "metadata": {
    "ExecuteTime": {
     "end_time": "2020-09-05T12:03:25.830674Z",
     "start_time": "2020-09-05T12:03:25.826993Z"
    },
    "hidden": true
   },
   "outputs": [],
   "source": [
    "# Dobbiamo fare così per come è costruita la funzione di Nicoli\n",
    "lexicon_refined[lexicon_refined == 0] = -1"
   ]
  },
  {
   "cell_type": "code",
   "execution_count": 26,
   "metadata": {
    "ExecuteTime": {
     "end_time": "2020-09-05T12:07:49.370696Z",
     "start_time": "2020-09-05T12:03:45.464388Z"
    },
    "hidden": true
   },
   "outputs": [
    {
     "name": "stderr",
     "output_type": "stream",
     "text": [
      "\r",
      "  0%|          | 0/36 [00:00<?, ?it/s]"
     ]
    },
    {
     "name": "stdout",
     "output_type": "stream",
     "text": [
      "Balancing:  36\n"
     ]
    },
    {
     "name": "stderr",
     "output_type": "stream",
     "text": [
      "100%|██████████| 36/36 [00:25<00:00,  1.42it/s]\n",
      "  0%|          | 0/306 [00:00<?, ?it/s]"
     ]
    },
    {
     "name": "stdout",
     "output_type": "stream",
     "text": [
      "Growing:  306\n"
     ]
    },
    {
     "name": "stderr",
     "output_type": "stream",
     "text": [
      "100%|██████████| 306/306 [03:38<00:00,  1.40it/s]\n"
     ]
    }
   ],
   "source": [
    "vectorized_lexicon, lexicon_labels = enrich(lex = lexicon_refined, \n",
    "       models = models_test, \n",
    "       n_target = 400, \n",
    "       msteps = 200, \n",
    "       return_words = False)"
   ]
  },
  {
   "cell_type": "code",
   "execution_count": 27,
   "metadata": {
    "ExecuteTime": {
     "end_time": "2020-09-05T12:08:46.593500Z",
     "start_time": "2020-09-05T12:08:46.531706Z"
    },
    "hidden": true
   },
   "outputs": [],
   "source": [
    "with open(\"./lexicon/enriched_lexicon.csv\", 'w') as file:\n",
    "    pd.DataFrame({\"Vectorized_words\": vectorized_lexicon.tolist(), \n",
    "              \"Labels\": lexicon_labels}).to_csv(file)"
   ]
  },
  {
   "cell_type": "markdown",
   "metadata": {
    "heading_collapsed": true
   },
   "source": [
    "# Score Induction Nicoli"
   ]
  },
  {
   "cell_type": "markdown",
   "metadata": {
    "hidden": true
   },
   "source": [
    "La procedura di di Nicoli è quella di applicare una **regressione logistica** usando il lessico aumentato come *training set*. "
   ]
  },
  {
   "cell_type": "markdown",
   "metadata": {
    "hidden": true
   },
   "source": [
    "**Note**: per la score induction andiamo a usare una *Support Vector Machine*. Ci domandiamo quanto questo possa andare bene, oppure se sia qualcosa di sbagliato. È un punto da chiarire e chiedere al prof."
   ]
  },
  {
   "cell_type": "code",
   "execution_count": 28,
   "metadata": {
    "ExecuteTime": {
     "end_time": "2020-09-05T12:08:49.080520Z",
     "start_time": "2020-09-05T12:08:49.068479Z"
    },
    "hidden": true
   },
   "outputs": [],
   "source": [
    "# Open the pre-prepared lexicon\n",
    "with open(\"./lexicon/enriched_lexicon.csv\", 'r') as file:\n",
    "    enriched_lexicon = pd.read_csv(file, \n",
    "                                   engine='c', \n",
    "                                   index_col=0)"
   ]
  },
  {
   "cell_type": "code",
   "execution_count": 29,
   "metadata": {
    "ExecuteTime": {
     "end_time": "2020-09-05T12:08:50.471542Z",
     "start_time": "2020-09-05T12:08:50.348165Z"
    },
    "hidden": true
   },
   "outputs": [],
   "source": [
    "# Read the strings as lists\n",
    "enriched_lexicon[\"Vectorized_words\"] = enriched_lexicon[\"Vectorized_words\"].apply(literal_eval)"
   ]
  },
  {
   "cell_type": "markdown",
   "metadata": {
    "heading_collapsed": true,
    "hidden": true
   },
   "source": [
    "## Machine Learning Optimization"
   ]
  },
  {
   "cell_type": "code",
   "execution_count": 30,
   "metadata": {
    "ExecuteTime": {
     "end_time": "2020-09-05T12:08:52.636673Z",
     "start_time": "2020-09-05T12:08:52.633830Z"
    },
    "hidden": true
   },
   "outputs": [],
   "source": [
    "# Prepare a list of 100-dimension vectors (the words)\n",
    "X = enriched_lexicon[\"Vectorized_words\"].tolist()\n",
    "# List of labels (1, -1)\n",
    "y = enriched_lexicon[\"Labels\"]"
   ]
  },
  {
   "cell_type": "code",
   "execution_count": 31,
   "metadata": {
    "ExecuteTime": {
     "end_time": "2020-09-05T12:08:57.041692Z",
     "start_time": "2020-09-05T12:08:55.692525Z"
    },
    "hidden": true
   },
   "outputs": [
    {
     "name": "stderr",
     "output_type": "stream",
     "text": [
      "No handles with labels found to put in legend.\n"
     ]
    },
    {
     "data": {
      "text/plain": [
       "[]"
      ]
     },
     "execution_count": 31,
     "metadata": {},
     "output_type": "execute_result"
    },
    {
     "data": {
      "image/png": "[encoded data removed]",
      "text/plain": [
       "<Figure size 460.8x403.2 with 1 Axes>"
      ]
     },
     "metadata": {},
     "output_type": "display_data"
    }
   ],
   "source": [
    "#tento con una cross validation e c nell'arco 0.1, 10\n",
    "score_mean = []\n",
    "score_stds = []\n",
    "Cs = Cs = np.arange(1, 20, 1)\n",
    "for c in Cs:\n",
    "    clf = svm.SVC(C=c, kernel = \"poly\", gamma=\"auto\")\n",
    "    scores = cross_val_score(clf, X, y, cv=5)\n",
    "    score_mean.append(scores.mean())\n",
    "    score_stds.append(scores.std())\n",
    "\n",
    "plt.errorbar(Cs, score_mean, yerr = score_stds)\n",
    "plt.legend()\n",
    "plt.title(\"Figuring out best C - Cross validated\")\n",
    "plt.plot()"
   ]
  },
  {
   "cell_type": "markdown",
   "metadata": {
    "hidden": true
   },
   "source": [
    "**Considerazioni**: c'è un leggero overfitting del modello, ma si può comunque affermare che i risultati sono più che soddisfacienti. La SVM ottiene una accuracy praticamente del 100% sui dati ti training, ovvero riesce a dividere perfettamente l'iperspazio 100-dimensionale. A quanto pare, la divisione dello spazio è molto valida anche per i dati di test, sui quali si riscontra solamente un piccolo errore (si arriva ad ottenere una accuracu sopra il 95%).\n",
    "\n",
    "È importante notare come, possedendo questi addestramenti elementi stocastici, si dovrebbe procedere eseguendo *k-fold cross validation*.\n",
    "\n",
    "Dal grafico si può notare come un valore $C > 5$ sia più che soddisfaciente."
   ]
  },
  {
   "cell_type": "markdown",
   "metadata": {
    "hidden": true
   },
   "source": [
    "## Propagation"
   ]
  },
  {
   "cell_type": "markdown",
   "metadata": {
    "hidden": true
   },
   "source": [
    "**NOTA IMPORTANTE**: per ottenere degli intervalli di confidenza, possiamo usare il Bootstrapping proposto da Hamilton."
   ]
  },
  {
   "cell_type": "code",
   "execution_count": 32,
   "metadata": {
    "ExecuteTime": {
     "end_time": "2020-09-05T12:09:49.308098Z",
     "start_time": "2020-09-05T12:09:49.285721Z"
    },
    "hidden": true
   },
   "outputs": [],
   "source": [
    "# Addestriamo completamente il lessico\n",
    "inducer = svm.SVC(C = 10, kernel = 'poly', gamma='auto').fit(X,y)"
   ]
  },
  {
   "cell_type": "code",
   "execution_count": 33,
   "metadata": {
    "ExecuteTime": {
     "end_time": "2020-09-05T12:10:03.699129Z",
     "start_time": "2020-09-05T12:10:00.668985Z"
    },
    "hidden": true
   },
   "outputs": [],
   "source": [
    "slices = {filename.split('/')[-1].replace(\".model\", \"\"): \n",
    "          Word2Vec.load(filename)\n",
    "          for filename in glob.glob('./models/*.model')}"
   ]
  },
  {
   "cell_type": "code",
   "execution_count": 38,
   "metadata": {
    "ExecuteTime": {
     "end_time": "2020-09-05T12:13:04.698831Z",
     "start_time": "2020-09-05T12:12:30.180267Z"
    },
    "hidden": true
   },
   "outputs": [],
   "source": [
    "# We use the trained indecer to predict a label\n",
    "# for every word in the vocabolary, for all embeddings\n",
    "models_propagation = [{word: inducer.predict([model.wv[word]])[0] \n",
    "  for word in model.wv.vocab} for model in slices.values()]"
   ]
  },
  {
   "cell_type": "markdown",
   "metadata": {
    "hidden": true
   },
   "source": [
    "## Scoring"
   ]
  },
  {
   "cell_type": "markdown",
   "metadata": {
    "hidden": true
   },
   "source": [
    "Qua si vanno a provare diverse tecniche di scoring"
   ]
  },
  {
   "cell_type": "markdown",
   "metadata": {
    "heading_collapsed": true,
    "hidden": true
   },
   "source": [
    "### Tecnica 1"
   ]
  },
  {
   "cell_type": "code",
   "execution_count": 79,
   "metadata": {
    "ExecuteTime": {
     "end_time": "2020-09-05T14:36:00.033988Z",
     "start_time": "2020-09-05T14:35:59.615453Z"
    },
    "hidden": true
   },
   "outputs": [],
   "source": [
    "# Everything below is done for all embeddings, and \n",
    "# put in a list\n",
    "\n",
    "# This is the sum of the count for every word in the \n",
    "# vocabulary times its label. The total sum should be \n",
    "# an indication for where the corpus lies (subj or obj)\n",
    "vocab_counts = [{word: model.wv.vocab[word].count * model_prop[word]\n",
    "                for word in model.wv.vocab} \n",
    "                for model, model_prop in zip(slices.values(), \n",
    "                                             models_propagation)]\n",
    "# This is just the sum of all words in the corpus\n",
    "vocab_counts_abs = [{word: abs(model.wv.vocab[word].count)\n",
    "                    for word in model.wv.vocab}  \n",
    "                    for model, model_prop in zip(slices.values(), \n",
    "                                                 models_propagation)]\n",
    "# The score is given as the counts weighted over the total\n",
    "# number of words\n",
    "models_score_1 = {name: sum(count.values())/(sum(count_abs.values()))\n",
    "                for name, count, count_abs in zip(slices, vocab_counts, vocab_counts_abs)}"
   ]
  },
  {
   "cell_type": "code",
   "execution_count": 43,
   "metadata": {
    "ExecuteTime": {
     "end_time": "2020-09-05T12:14:03.955404Z",
     "start_time": "2020-09-05T12:14:03.952868Z"
    },
    "hidden": true
   },
   "outputs": [
    {
     "name": "stdout",
     "output_type": "stream",
     "text": [
      "{'Wikipedia': -0.9864408736705866, 'ABC News': -0.9540571033325396, 'Slate': -0.9919712460727667, 'Breitbart': -0.9733599047950785, 'CNN': -0.9533930889843204, 'The Federalist': -0.9555784161156244, 'New York Times': -0.9283747165558685, 'News Max': -0.9703698006769811}\n"
     ]
    }
   ],
   "source": [
    "print(models_score_1)"
   ]
  },
  {
   "cell_type": "code",
   "execution_count": 51,
   "metadata": {
    "ExecuteTime": {
     "end_time": "2020-09-05T13:17:30.490475Z",
     "start_time": "2020-09-05T13:17:30.486257Z"
    },
    "hidden": true
   },
   "outputs": [
    {
     "data": {
      "text/plain": [
       "{'Slate': -0.9919712460727667,\n",
       " 'Wikipedia': -0.9864408736705866,\n",
       " 'Breitbart': -0.9733599047950785,\n",
       " 'News Max': -0.9703698006769811,\n",
       " 'The Federalist': -0.9555784161156244,\n",
       " 'ABC News': -0.9540571033325396,\n",
       " 'CNN': -0.9533930889843204,\n",
       " 'New York Times': -0.9283747165558685}"
      ]
     },
     "execution_count": 51,
     "metadata": {},
     "output_type": "execute_result"
    }
   ],
   "source": [
    "{k: v for k, v in sorted(models_score_1.items(), key=lambda item: item[1])}"
   ]
  },
  {
   "cell_type": "markdown",
   "metadata": {
    "hidden": true
   },
   "source": [
    "### Tecnica 2"
   ]
  },
  {
   "cell_type": "code",
   "execution_count": 81,
   "metadata": {
    "ExecuteTime": {
     "end_time": "2020-09-05T14:38:29.989883Z",
     "start_time": "2020-09-05T14:37:52.714556Z"
    },
    "hidden": true
   },
   "outputs": [],
   "source": [
    "models_propagation_2 = [{word: \n",
    "                       (inducer.predict([model.wv[word]])[0] + 1)/2\n",
    "  for word in model.wv.vocab} for model in slices.values()]\n",
    "\n",
    "vocab_counts_2 = [{word: model.wv.vocab[word].count * model_prop[word]\n",
    "                for word in model.wv.vocab} \n",
    "                for model, model_prop in zip(slices.values(), models_propagation_2)]\n",
    "\n",
    "\n",
    "# Difatti questa misure dice quante parole soggettive ci sono\n",
    "# per singola parola scritta nei vari corpus.\n",
    "models_score_2 = {name: sum(count.values())/(sum(count_abs.values()))\n",
    "                for name, count, count_abs in zip(slices, vocab_counts_2, \n",
    "                                            vocab_counts_abs)}"
   ]
  },
  {
   "cell_type": "code",
   "execution_count": 82,
   "metadata": {
    "ExecuteTime": {
     "end_time": "2020-09-05T14:38:29.993870Z",
     "start_time": "2020-09-05T14:38:29.991639Z"
    },
    "hidden": true
   },
   "outputs": [
    {
     "name": "stdout",
     "output_type": "stream",
     "text": [
      "{'Wikipedia': 0.00677956316470669, 'ABC News': 0.022971448333730198, 'Slate': 0.004014376963616679, 'Breitbart': 0.013320047602460776, 'CNN': 0.02330345550783981, 'The Federalist': 0.02221079194218776, 'New York Times': 0.035812641722065754, 'News Max': 0.014815099661509465}\n"
     ]
    }
   ],
   "source": [
    "print(models_score_2)"
   ]
  },
  {
   "cell_type": "code",
   "execution_count": 83,
   "metadata": {
    "ExecuteTime": {
     "end_time": "2020-09-05T14:38:29.999395Z",
     "start_time": "2020-09-05T14:38:29.995837Z"
    },
    "hidden": true
   },
   "outputs": [
    {
     "data": {
      "text/plain": [
       "{'Slate': 0.004014376963616679,\n",
       " 'Wikipedia': 0.00677956316470669,\n",
       " 'Breitbart': 0.013320047602460776,\n",
       " 'News Max': 0.014815099661509465,\n",
       " 'The Federalist': 0.02221079194218776,\n",
       " 'ABC News': 0.022971448333730198,\n",
       " 'CNN': 0.02330345550783981,\n",
       " 'New York Times': 0.035812641722065754}"
      ]
     },
     "execution_count": 83,
     "metadata": {},
     "output_type": "execute_result"
    }
   ],
   "source": [
    "{k: v for k, v in sorted(models_score_2.items(), key=lambda item: item[1])}"
   ]
  },
  {
   "cell_type": "markdown",
   "metadata": {},
   "source": [
    "# Score Induction - None"
   ]
  },
  {
   "cell_type": "markdown",
   "metadata": {},
   "source": [
    "Questa tecnica non prevede nessuna propagazione del lessico: si deve prendere quindi il lessico ottenuto dopo la fase di LPR, ovvero in maniera tale che sia condiviso \"bene\" attraverso tutti gli embedding; e si va a contare tramite questo."
   ]
  },
  {
   "cell_type": "markdown",
   "metadata": {},
   "source": []
  },
  {
   "cell_type": "code",
   "execution_count": 75,
   "metadata": {
    "ExecuteTime": {
     "end_time": "2020-09-05T14:31:47.681882Z",
     "start_time": "2020-09-05T14:31:47.676886Z"
    }
   },
   "outputs": [],
   "source": [
    "# Load as dictionary the refined lexicon\n",
    "with open(\"./lexicon/lexicon_refined.csv\", 'r') as file:\n",
    "    lexicon_refined = pd.read_csv(file, index_col=0).to_dict()[\"Valence\"]"
   ]
  },
  {
   "cell_type": "markdown",
   "metadata": {},
   "source": [
    "## Scoring"
   ]
  },
  {
   "cell_type": "code",
   "execution_count": 86,
   "metadata": {
    "ExecuteTime": {
     "end_time": "2020-09-05T14:40:41.678597Z",
     "start_time": "2020-09-05T14:40:41.669882Z"
    }
   },
   "outputs": [],
   "source": [
    "models_propagation_none = [{word: \n",
    "                       (lexicon_refined[word]+1)/2\n",
    "  for word in lexicon_refined} for model in slices.values()]\n",
    "\n",
    "vocab_counts_none = [{word: model.wv.vocab[word].count * model_prop[word]\n",
    "                for word in lexicon_refined} \n",
    "                for model, model_prop in zip(slices.values(), models_propagation_none)]\n",
    "\n",
    "\n",
    "# Difatti questa misure dice quante parole soggettive ci sono\n",
    "# per singola parola scritta nei vari corpus.\n",
    "models_score_none = {name: sum(count.values())/(sum(count_abs.values()))\n",
    "                for name, count, count_abs in zip(slices, vocab_counts_none, \n",
    "                                            vocab_counts_abs)}"
   ]
  },
  {
   "cell_type": "code",
   "execution_count": 88,
   "metadata": {
    "ExecuteTime": {
     "end_time": "2020-09-05T14:40:56.252522Z",
     "start_time": "2020-09-05T14:40:56.248509Z"
    }
   },
   "outputs": [
    {
     "data": {
      "text/plain": [
       "{'Wikipedia': 0.0032702162318864673,\n",
       " 'New York Times': 0.007333293882548946,\n",
       " 'Breitbart': 0.007688725567332891,\n",
       " 'Slate': 0.008091081804184278,\n",
       " 'CNN': 0.008429042245081394,\n",
       " 'News Max': 0.008787040065678098,\n",
       " 'The Federalist': 0.00919254274084975,\n",
       " 'ABC News': 0.009348140683289678}"
      ]
     },
     "execution_count": 88,
     "metadata": {},
     "output_type": "execute_result"
    }
   ],
   "source": [
    "{k: v \n",
    " for k, v in sorted(models_score_none.items(), \n",
    "                    key=lambda item: item[1])}"
   ]
  },
  {
   "cell_type": "code",
   "execution_count": null,
   "metadata": {},
   "outputs": [],
   "source": []
  }
 ],
 "metadata": {
  "kernelspec": {
   "display_name": "Python 3",
   "language": "python",
   "name": "python3"
  },
  "language_info": {
   "codemirror_mode": {
    "name": "ipython",
    "version": 3
   },
   "file_extension": ".py",
   "mimetype": "text/x-python",
   "name": "python",
   "nbconvert_exporter": "python",
   "pygments_lexer": "ipython3",
   "version": "3.7.6"
  },
  "toc": {
   "base_numbering": 1,
   "nav_menu": {},
   "number_sections": true,
   "sideBar": true,
   "skip_h1_title": false,
   "title_cell": "Table of Contents",
   "title_sidebar": "Contents",
   "toc_cell": false,
   "toc_position": {},
   "toc_section_display": true,
   "toc_window_display": false
  }
 },
 "nbformat": 4,
 "nbformat_minor": 4
}
