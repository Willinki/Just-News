{
 "cells": [
  {
   "cell_type": "code",
   "execution_count": 102,
   "metadata": {
    "ExecuteTime": {
     "end_time": "2020-09-03T15:47:11.683267Z",
     "start_time": "2020-09-03T15:47:11.675147Z"
    }
   },
   "outputs": [],
   "source": [
    "import pandas as pd\n",
    "from cade.cade import CADE\n",
    "from gensim.models.word2vec import Word2Vec\n",
    "import os\n",
    "import glob\n",
    "import json\n",
    "import numpy as np\n",
    "from ast import literal_eval\n",
    "import string\n",
    "from sklearn.decomposition import PCA\n",
    "import matplotlib.pyplot as plt\n",
    "from jupyterthemes import jtplot\n",
    "from scipy.spatial.distance import cosine\n",
    "import itertools\n",
    "import numpy as np\n",
    "from numpy.linalg import norm\n",
    "import pandas as pd\n",
    "import itertools\n",
    "from collections import Counter\n",
    "import codecs\n",
    "import tqdm\n",
    "from sklearn.linear_model import LogisticRegression\n",
    "from sklearn.model_selection import train_test_split\n",
    "from sklearn import svm\n",
    "from sklearn.model_selection import cross_val_score\n",
    "# currently installed theme will be used to\n",
    "# set plot style if no arguments provided\n",
    "jtplot.style()"
   ]
  },
  {
   "cell_type": "code",
   "execution_count": 24,
   "metadata": {
    "ExecuteTime": {
     "end_time": "2020-09-03T13:46:21.083112Z",
     "start_time": "2020-09-03T13:46:21.079559Z"
    }
   },
   "outputs": [],
   "source": [
    "def simple_preproc(text):\n",
    "  \"\"\"\n",
    "  see: https://stackoverflow.com/questions/265960/best-way-to-strip-punctuation-from-a-string\n",
    "  \"\"\"\n",
    "  return text.translate(str.maketrans('', '', string.punctuation))"
   ]
  },
  {
   "cell_type": "markdown",
   "metadata": {},
   "source": [
    "# Pre-processing\n",
    "\n",
    "Here we load the json arrays from Mongo and output a csv file, i.e. a pandas dataframe. \n",
    "This DF will be used for the CADE training.\n",
    "\n",
    "Provo senza Wikipedia"
   ]
  },
  {
   "cell_type": "code",
   "execution_count": 27,
   "metadata": {
    "ExecuteTime": {
     "end_time": "2020-09-01T13:37:07.383207Z",
     "start_time": "2020-09-01T13:37:04.989546Z"
    }
   },
   "outputs": [
    {
     "name": "stdout",
     "output_type": "stream",
     "text": [
      "./data_final/scraping_data_CNN.json\n",
      "./data_final/scraping_data_Federalist.json\n",
      "./data_final/scraping_data_NewsMax.json\n",
      "./data_final/scraping_data_ABC.json\n",
      "./data_final/scraping_data_Breitbart.json\n",
      "./data_final/scraping_data_NYTimes.json\n",
      "./data_final/scraping_data_Slate.json\n"
     ]
    }
   ],
   "source": [
    "df_list = pd.DataFrame()\n",
    "for filename in glob.glob('./data_final/*.json'):\n",
    "    print(filename)\n",
    "    with open(filename, 'r') as f:\n",
    "        json_load = json.loads(f.read())\n",
    "        df_list = df_list.append(pd.DataFrame.from_records(json_load, index=\"_id\"), ignore_index = True)"
   ]
  },
  {
   "cell_type": "code",
   "execution_count": 28,
   "metadata": {
    "ExecuteTime": {
     "end_time": "2020-09-01T13:37:08.930297Z",
     "start_time": "2020-09-01T13:37:08.895411Z"
    }
   },
   "outputs": [],
   "source": [
    "df_list = df_list[['Title', \"Date\", \"Link\", \"Paragraphs\", \"Authors\"]]"
   ]
  },
  {
   "cell_type": "code",
   "execution_count": 29,
   "metadata": {
    "ExecuteTime": {
     "end_time": "2020-09-01T13:37:09.750994Z",
     "start_time": "2020-09-01T13:37:09.747077Z"
    }
   },
   "outputs": [],
   "source": [
    "def create_newssite(link = None):\n",
    "        if link is np.nan:\n",
    "            return(\"Wikipedia\")\n",
    "        elif \"slate\" in link:\n",
    "            return(\"Slate\")\n",
    "        elif \"https://www.nytimes.com\" in link:\n",
    "            return(\"New York Times\")\n",
    "        elif \"https://www.breitbart.com\" in link:\n",
    "            return(\"Breitbart\")\n",
    "        elif \"https://www.cnn.com\" in link:\n",
    "            return(\"CNN\")\n",
    "        elif \"abcnews\" in link:\n",
    "            return(\"ABC News\")\n",
    "        elif \"https://thefederalist.com\" in link:\n",
    "            return(\"The Federalist\")\n",
    "        elif \"https://www.newsmax.com\" in link:\n",
    "            return(\"News Max\")\n",
    "        else:\n",
    "            return(\"Unknown\")"
   ]
  },
  {
   "cell_type": "code",
   "execution_count": 30,
   "metadata": {
    "ExecuteTime": {
     "end_time": "2020-09-01T13:37:13.426602Z",
     "start_time": "2020-09-01T13:37:13.377277Z"
    }
   },
   "outputs": [
    {
     "name": "stdout",
     "output_type": "stream",
     "text": [
      "AVVOCATO CI SIAMO\n"
     ]
    }
   ],
   "source": [
    "df_list[\"Newssite\"] = df_list[\"Link\"].apply(create_newssite)\n",
    "\n",
    "if len(df_list[df_list[\"Newssite\"][:] == \"Unknown\"]) == 0:\n",
    "    print(\"AVVOCATO CI SIAMO\")"
   ]
  },
  {
   "cell_type": "code",
   "execution_count": 31,
   "metadata": {
    "ExecuteTime": {
     "end_time": "2020-09-01T11:00:26.464683Z",
     "start_time": "2020-09-01T11:00:20.623411Z"
    }
   },
   "outputs": [],
   "source": [
    "with open(\"./data_safe.csv\", 'w') as file:\n",
    "    df_list.to_csv(file)"
   ]
  },
  {
   "cell_type": "markdown",
   "metadata": {},
   "source": [
    "# CADE"
   ]
  },
  {
   "cell_type": "markdown",
   "metadata": {},
   "source": [
    "## Embedding totale"
   ]
  },
  {
   "cell_type": "markdown",
   "metadata": {},
   "source": [
    "First, we create a big text with everything. Like, EVERYTHING."
   ]
  },
  {
   "cell_type": "code",
   "execution_count": 32,
   "metadata": {
    "ExecuteTime": {
     "end_time": "2020-09-03T09:14:58.811539Z",
     "start_time": "2020-09-03T09:14:51.736010Z"
    }
   },
   "outputs": [],
   "source": [
    "with open(\"./data_safe.csv\") as file:\n",
    "    df = pd.read_csv(file, engine='c')\n",
    "\n",
    "df[\"Paragraphs\"] = df[\"Paragraphs\"].apply(literal_eval)\n",
    "\n",
    "EVERYTHING = \"\"\n",
    "for k in df[\"Paragraphs\"]:\n",
    "    EVERYTHING += \"\\n\".join(k)"
   ]
  },
  {
   "cell_type": "code",
   "execution_count": 33,
   "metadata": {
    "ExecuteTime": {
     "end_time": "2020-09-03T09:15:15.696792Z",
     "start_time": "2020-09-03T09:14:58.813419Z"
    }
   },
   "outputs": [],
   "source": [
    "EVERYTHING = simple_preproc(EVERYTHING).lower()"
   ]
  },
  {
   "cell_type": "code",
   "execution_count": 34,
   "metadata": {
    "ExecuteTime": {
     "end_time": "2020-09-03T09:15:16.150852Z",
     "start_time": "2020-09-03T09:15:15.699831Z"
    }
   },
   "outputs": [],
   "source": [
    "with open(\"./EVERYTHING.txt\", 'w') as file:\n",
    "    file.write(EVERYTHING)"
   ]
  },
  {
   "cell_type": "code",
   "execution_count": 35,
   "metadata": {
    "ExecuteTime": {
     "end_time": "2020-09-03T09:18:26.916719Z",
     "start_time": "2020-09-03T09:15:16.153097Z"
    }
   },
   "outputs": [
    {
     "name": "stdout",
     "output_type": "stream",
     "text": [
      "Training the compass from scratch.\n"
     ]
    }
   ],
   "source": [
    "aligner = CADE(size=100, workers=8)\n",
    "\n",
    "aligner.train_compass(\"./EVERYTHING.txt\", overwrite=False) # keep an eye on the overwrite behaviour"
   ]
  },
  {
   "cell_type": "markdown",
   "metadata": {
    "heading_collapsed": true
   },
   "source": [
    "## Embedding singolo slice"
   ]
  },
  {
   "cell_type": "code",
   "execution_count": 36,
   "metadata": {
    "ExecuteTime": {
     "end_time": "2020-09-03T09:18:33.800832Z",
     "start_time": "2020-09-03T09:18:26.918704Z"
    },
    "hidden": true
   },
   "outputs": [
    {
     "name": "stdout",
     "output_type": "stream",
     "text": [
      "[INFO] Progress:1/7\n",
      "[INFO] Progress:2/7\n",
      "[INFO] Progress:3/7\n",
      "[INFO] Progress:4/7\n",
      "[INFO] Progress:5/7\n",
      "[INFO] Progress:6/7\n",
      "[INFO] Progress:7/7\n"
     ]
    }
   ],
   "source": [
    "with open(\"./data_safe.csv\") as file:\n",
    "    df = pd.read_csv(file, engine='c')\n",
    "    \n",
    "df[\"Paragraphs\"] = df[\"Paragraphs\"].apply(literal_eval)\n",
    "\n",
    "for i, Newssite in enumerate(df[\"Newssite\"].unique()):\n",
    "    print(\"[INFO] Progress:\"+str(i+1)+\"/\"+str(len(df[\"Newssite\"].unique())))\n",
    "    newssite_to_text = \"\"\n",
    "    for k in df[df[\"Newssite\"] == Newssite][\"Paragraphs\"][:]:\n",
    "        newssite_to_text += \"\\n\".join(k)\n",
    "\n",
    "    with open(\"./text_\"+str(Newssite)+\".txt\", 'w') as file:\n",
    "        file.write(newssite_to_text)"
   ]
  },
  {
   "cell_type": "code",
   "execution_count": 37,
   "metadata": {
    "ExecuteTime": {
     "end_time": "2020-09-03T09:21:35.611829Z",
     "start_time": "2020-09-03T09:18:33.802767Z"
    },
    "hidden": true
   },
   "outputs": [
    {
     "name": "stdout",
     "output_type": "stream",
     "text": [
      "Training embeddings: slice ./text_CNN.txt.\n",
      "Initializing embeddings from compass.\n",
      "Training embeddings: slice ./text_The Federalist.txt.\n",
      "Initializing embeddings from compass.\n",
      "Training embeddings: slice ./text_Slate.txt.\n",
      "Initializing embeddings from compass.\n",
      "Training embeddings: slice ./text_News Max.txt.\n",
      "Initializing embeddings from compass.\n",
      "Training embeddings: slice ./text_ABC News.txt.\n",
      "Initializing embeddings from compass.\n",
      "Training embeddings: slice ./text_Breitbart.txt.\n",
      "Initializing embeddings from compass.\n",
      "Training embeddings: slice ./text_New York Times.txt.\n",
      "Initializing embeddings from compass.\n"
     ]
    }
   ],
   "source": [
    "slices = {\n",
    "            Newssite: aligner.train_slice(\"./text_\"+str(Newssite)+\".txt\", save=False)\n",
    "            for Newssite in df[\"Newssite\"].unique()\n",
    "         }"
   ]
  },
  {
   "cell_type": "code",
   "execution_count": 38,
   "metadata": {
    "ExecuteTime": {
     "end_time": "2020-09-03T09:21:37.098093Z",
     "start_time": "2020-09-03T09:21:35.613426Z"
    },
    "hidden": true
   },
   "outputs": [],
   "source": [
    "# Dobbiamo andare a salvare i vari slice\n",
    "for my_slice in slices:\n",
    "    slices[my_slice].save(\"models/\"+str(my_slice)+\".model\")"
   ]
  },
  {
   "cell_type": "markdown",
   "metadata": {
    "heading_collapsed": true
   },
   "source": [
    "## Visualizzazione medie"
   ]
  },
  {
   "cell_type": "code",
   "execution_count": 39,
   "metadata": {
    "ExecuteTime": {
     "end_time": "2020-09-03T09:21:37.104713Z",
     "start_time": "2020-09-03T09:21:37.101565Z"
    },
    "hidden": true
   },
   "outputs": [],
   "source": [
    "def sum_vectors(my_slice = None):\n",
    "    my_sum = 0\n",
    "    for i, word in enumerate(my_slice.wv.vocab):\n",
    "        my_sum += my_slice.wv[word]\n",
    "    return(my_sum/len(my_slice.wv.vocab))"
   ]
  },
  {
   "cell_type": "code",
   "execution_count": 40,
   "metadata": {
    "ExecuteTime": {
     "end_time": "2020-09-03T09:21:37.681424Z",
     "start_time": "2020-09-03T09:21:37.107515Z"
    },
    "hidden": true,
    "scrolled": true
   },
   "outputs": [],
   "source": [
    "my_sum = [sum_vectors(slices[my_slice]) \n",
    "       for i, my_slice in enumerate(slices)]"
   ]
  },
  {
   "cell_type": "code",
   "execution_count": 43,
   "metadata": {
    "ExecuteTime": {
     "end_time": "2020-09-03T09:21:37.855931Z",
     "start_time": "2020-09-03T09:21:37.683177Z"
    },
    "hidden": true,
    "scrolled": false
   },
   "outputs": [
    {
     "data": {
      "image/png": "[encoded data removed]",
      "text/plain": [
       "<Figure size 460.8x403.2 with 1 Axes>"
      ]
     },
     "metadata": {},
     "output_type": "display_data"
    }
   ],
   "source": [
    "X_tranf = PCA(n_components=2).fit_transform(my_sum)\n",
    "plt.scatter(X_tranf[:, 0], X_tranf[:, 1])\n",
    "for index, word in enumerate(slices):\n",
    "    plt.annotate(word, xy=(X_tranf[index, 0]+0.001, X_tranf[index, 1]+0.001))\n",
    "plt.show()"
   ]
  },
  {
   "cell_type": "code",
   "execution_count": 44,
   "metadata": {
    "ExecuteTime": {
     "end_time": "2020-09-03T09:21:37.864532Z",
     "start_time": "2020-09-03T09:21:37.857862Z"
    },
    "hidden": true
   },
   "outputs": [
    {
     "name": "stdout",
     "output_type": "stream",
     "text": [
      "[[1.   0.98 0.92 0.98 0.98 0.97 0.97]\n",
      " [0.98 1.   0.93 0.98 0.98 0.97 0.97]\n",
      " [0.92 0.93 1.   0.95 0.91 0.97 0.88]\n",
      " [0.98 0.98 0.95 1.   0.98 0.99 0.96]\n",
      " [0.98 0.98 0.91 0.98 1.   0.96 0.98]\n",
      " [0.97 0.97 0.97 0.99 0.96 1.   0.94]\n",
      " [0.97 0.97 0.88 0.96 0.98 0.94 1.  ]]\n"
     ]
    }
   ],
   "source": [
    "print(np.array([[int((1 - cosine(my_sum[j], my_sum[i]))*100)/100\n",
    "  for j in range(len(slices))] \n",
    " for i in range(len(slices))]))"
   ]
  },
  {
   "cell_type": "code",
   "execution_count": 45,
   "metadata": {
    "ExecuteTime": {
     "end_time": "2020-09-03T09:21:37.876932Z",
     "start_time": "2020-09-03T09:21:37.866199Z"
    },
    "hidden": true
   },
   "outputs": [
    {
     "name": "stdout",
     "output_type": "stream",
     "text": [
      "0 0\n",
      "1.0\n",
      "0 1\n",
      "0.9801865816116333\n",
      "0 2\n",
      "0.922740638256073\n",
      "0 3\n",
      "0.9888353943824768\n",
      "0 4\n",
      "0.9895654320716858\n",
      "0 5\n",
      "0.9737983345985413\n",
      "0 6\n",
      "0.9770311713218689\n",
      "1 0\n",
      "0.9801865816116333\n",
      "1 1\n",
      "1.0\n",
      "1 2\n",
      "0.9342929124832153\n",
      "1 3\n",
      "0.9802963137626648\n",
      "1 4\n",
      "0.9849002361297607\n",
      "1 5\n",
      "0.9758275151252747\n",
      "1 6\n",
      "0.9740927815437317\n",
      "2 0\n",
      "0.922740638256073\n",
      "2 1\n",
      "0.9342929124832153\n",
      "2 2\n",
      "1.0\n",
      "2 3\n",
      "0.9576170444488525\n",
      "2 4\n",
      "0.9185029864311218\n",
      "2 5\n",
      "0.974017858505249\n",
      "2 6\n",
      "0.8862552046775818\n",
      "3 0\n",
      "0.9888353943824768\n",
      "3 1\n",
      "0.9802963137626648\n",
      "3 2\n",
      "0.9576170444488525\n",
      "3 3\n",
      "1.0\n",
      "3 4\n",
      "0.9819694757461548\n",
      "3 5\n",
      "0.9906207323074341\n",
      "3 6\n",
      "0.9627289175987244\n",
      "4 0\n",
      "0.9895654320716858\n",
      "4 1\n",
      "0.9849002361297607\n",
      "4 2\n",
      "0.9185029864311218\n",
      "4 3\n",
      "0.9819694757461548\n",
      "4 4\n",
      "1.0\n",
      "4 5\n",
      "0.9691888689994812\n",
      "4 6\n",
      "0.9831240177154541\n",
      "5 0\n",
      "0.9737983345985413\n",
      "5 1\n",
      "0.9758275151252747\n",
      "5 2\n",
      "0.974017858505249\n",
      "5 3\n",
      "0.9906207323074341\n",
      "5 4\n",
      "0.9691888689994812\n",
      "5 5\n",
      "1.0\n",
      "5 6\n",
      "0.9466882348060608\n",
      "6 0\n",
      "0.9770311713218689\n",
      "6 1\n",
      "0.9740927815437317\n",
      "6 2\n",
      "0.8862552046775818\n",
      "6 3\n",
      "0.9627289175987244\n",
      "6 4\n",
      "0.9831240177154541\n",
      "6 5\n",
      "0.9466882348060608\n",
      "6 6\n",
      "1.0\n"
     ]
    }
   ],
   "source": [
    "for i, my_slice_1 in enumerate(slices):\n",
    "    for j, my_slice_2 in enumerate(slices):\n",
    "        print(i, j)\n",
    "        print(1 - cosine(my_sum[j], my_sum[i]))"
   ]
  },
  {
   "cell_type": "markdown",
   "metadata": {},
   "source": [
    "# Lexicon Refinement"
   ]
  },
  {
   "cell_type": "markdown",
   "metadata": {},
   "source": [
    "In questa sezione andiamo a prendere un Lexicon già [fatto](https://mpqa.cs.pitt.edu/lexicons/subj_lexicon/). Questo possiede due score: noi chiamiamo 0 quello per l'oggettività, e 1 per la soggettività. "
   ]
  },
  {
   "cell_type": "markdown",
   "metadata": {
    "heading_collapsed": true
   },
   "source": [
    "## Pre-processing Lexicon"
   ]
  },
  {
   "cell_type": "code",
   "execution_count": 47,
   "metadata": {
    "ExecuteTime": {
     "end_time": "2020-09-03T09:21:37.895861Z",
     "start_time": "2020-09-03T09:21:37.879046Z"
    },
    "hidden": true
   },
   "outputs": [],
   "source": [
    "with open(\"./lexicon/subjectivityLexicon.csv\", 'r') as file:\n",
    "    lexicon = pd.read_csv(file, engine='c', sep=';', header=None)\n",
    "\n",
    "lexicon.columns = [\"Word\", \"Subj_score\"]\n",
    "\n",
    "# Facciamo un po' di pulizia prima di procedere\n",
    "lexicon[\"Word\"] = lexicon[\"Word\"].apply(lambda x: x.replace(\"word1=\", \"\"))\n",
    "lexicon[\"Subj_score\"] = lexicon[\"Subj_score\"].apply(lambda x: \n",
    "                                                    x.replace(\"type=\", \"\"))"
   ]
  },
  {
   "cell_type": "code",
   "execution_count": 48,
   "metadata": {
    "ExecuteTime": {
     "end_time": "2020-09-03T09:21:37.900204Z",
     "start_time": "2020-09-03T09:21:37.897489Z"
    },
    "hidden": true
   },
   "outputs": [],
   "source": [
    "def encode_subj(string_score = None):\n",
    "    if string_score == \"weaksubj\":\n",
    "        return(0)\n",
    "    elif string_score == \"strongsubj\":\n",
    "        return(1)\n",
    "    else:\n",
    "        print('[ERROR] Some problems occurd.')\n",
    "        return(-1)"
   ]
  },
  {
   "cell_type": "code",
   "execution_count": 49,
   "metadata": {
    "ExecuteTime": {
     "end_time": "2020-09-03T09:48:00.739380Z",
     "start_time": "2020-09-03T09:48:00.732143Z"
    },
    "hidden": true
   },
   "outputs": [],
   "source": [
    "lexicon[\"Subj_score\"] = lexicon[\"Subj_score\"].apply(encode_subj)"
   ]
  },
  {
   "cell_type": "code",
   "execution_count": 50,
   "metadata": {
    "ExecuteTime": {
     "end_time": "2020-09-03T09:48:23.630337Z",
     "start_time": "2020-09-03T09:48:23.610379Z"
    },
    "hidden": true
   },
   "outputs": [],
   "source": [
    "with open(\"./lexicon/clean_lexicon.csv\", 'w') as file:\n",
    "    lexicon.to_csv(file)"
   ]
  },
  {
   "cell_type": "code",
   "execution_count": null,
   "metadata": {
    "hidden": true
   },
   "outputs": [],
   "source": []
  },
  {
   "cell_type": "markdown",
   "metadata": {
    "heading_collapsed": true
   },
   "source": [
    "## LRP"
   ]
  },
  {
   "cell_type": "code",
   "execution_count": 51,
   "metadata": {
    "ExecuteTime": {
     "end_time": "2020-09-03T13:46:25.156348Z",
     "start_time": "2020-09-03T13:46:25.147649Z"
    },
    "hidden": true
   },
   "outputs": [],
   "source": [
    "from nicoli_utils import *"
   ]
  },
  {
   "cell_type": "code",
   "execution_count": 52,
   "metadata": {
    "ExecuteTime": {
     "end_time": "2020-09-03T13:46:37.012692Z",
     "start_time": "2020-09-03T13:46:34.096745Z"
    },
    "hidden": true
   },
   "outputs": [],
   "source": [
    "# Caricamento del lexicon\n",
    "with open(\"./lexicon/clean_lexicon.csv\", 'r') as file:\n",
    "    lexicon = pd.read_csv(file, index_col=1)\n",
    "\n",
    "# Caricamento dei modelli già addestrati\n",
    "slices = {filename.split('/')[-1].replace(\".model\", \"\"): \n",
    "          Word2Vec.load(filename)\n",
    "          for filename in glob.glob('./models/*.model')}"
   ]
  },
  {
   "cell_type": "code",
   "execution_count": 53,
   "metadata": {
    "ExecuteTime": {
     "end_time": "2020-09-03T13:46:37.023001Z",
     "start_time": "2020-09-03T13:46:37.015838Z"
    },
    "hidden": true
   },
   "outputs": [],
   "source": [
    "lexicon = lexicon.drop(\"Unnamed: 0\", axis=1)\n",
    "\n",
    "lexicon = lexicon.to_dict()[\"Subj_score\"]"
   ]
  },
  {
   "cell_type": "code",
   "execution_count": 54,
   "metadata": {
    "ExecuteTime": {
     "end_time": "2020-09-03T13:46:37.029241Z",
     "start_time": "2020-09-03T13:46:37.026301Z"
    },
    "hidden": true
   },
   "outputs": [],
   "source": [
    "models_test = [slices[\"New York Times\"], slices[\"Breitbart\"]]"
   ]
  },
  {
   "cell_type": "code",
   "execution_count": 55,
   "metadata": {
    "ExecuteTime": {
     "end_time": "2020-09-03T13:46:37.035463Z",
     "start_time": "2020-09-03T13:46:37.032483Z"
    },
    "hidden": true
   },
   "outputs": [],
   "source": [
    "corpora_test = [\"./text_New York Times.txt\", \"./text_Breitbart.txt\"]"
   ]
  },
  {
   "cell_type": "code",
   "execution_count": 56,
   "metadata": {
    "ExecuteTime": {
     "end_time": "2020-09-03T13:47:34.465450Z",
     "start_time": "2020-09-03T13:46:37.921635Z"
    },
    "hidden": true
   },
   "outputs": [
    {
     "name": "stdout",
     "output_type": "stream",
     "text": [
      "count text_New York Times\n",
      "min_count text_New York Times\n",
      "zipf text_New York Times\n",
      "count text_Breitbart\n",
      "min_count text_Breitbart\n",
      "zipf text_Breitbart\n",
      "dataframe done\n",
      "common filter done\n"
     ]
    }
   ],
   "source": [
    "lexicon_refined = lexicon_refinement(lex = lexicon, \n",
    "                   models = models_test, \n",
    "                   corpora = corpora_test, zipf_cutoff=5)"
   ]
  },
  {
   "cell_type": "code",
   "execution_count": 57,
   "metadata": {
    "ExecuteTime": {
     "end_time": "2020-09-03T13:47:34.473565Z",
     "start_time": "2020-09-03T13:47:34.468831Z"
    },
    "hidden": true
   },
   "outputs": [
    {
     "name": "stdout",
     "output_type": "stream",
     "text": [
      "131\n",
      "39\n"
     ]
    }
   ],
   "source": [
    "print(len(lexicon_refined))\n",
    "print(len(lexicon_refined[lexicon_refined == 1]))"
   ]
  },
  {
   "cell_type": "markdown",
   "metadata": {},
   "source": [
    "## Lexicon Enrichment"
   ]
  },
  {
   "cell_type": "markdown",
   "metadata": {},
   "source": [
    "Su consiglio di Nicoli, facciamo prima l'arricchimento della classe meno frequente (nel nostro caso quella con `1`). \n",
    "\n",
    "Per eseguirla, usiamo una funzione già costruita dal nostro assistente preferito."
   ]
  },
  {
   "cell_type": "code",
   "execution_count": 58,
   "metadata": {
    "ExecuteTime": {
     "end_time": "2020-09-03T13:47:34.489044Z",
     "start_time": "2020-09-03T13:47:34.477094Z"
    }
   },
   "outputs": [],
   "source": [
    "# Dobbiamo fare così per come è costruita la funzione di Nicoli\n",
    "lexicon_refined[lexicon_refined == 0] = -1"
   ]
  },
  {
   "cell_type": "code",
   "execution_count": 59,
   "metadata": {
    "ExecuteTime": {
     "end_time": "2020-09-03T13:47:34.501770Z",
     "start_time": "2020-09-03T13:47:34.491773Z"
    }
   },
   "outputs": [
    {
     "data": {
      "text/plain": [
       "ability    -1.0\n",
       "able       -1.0\n",
       "actually    1.0\n",
       "against    -1.0\n",
       "allow      -1.0\n",
       "           ... \n",
       "war        -1.0\n",
       "well       -1.0\n",
       "white      -1.0\n",
       "will        1.0\n",
       "would      -1.0\n",
       "Name: Valence, Length: 131, dtype: float64"
      ]
     },
     "execution_count": 59,
     "metadata": {},
     "output_type": "execute_result"
    }
   ],
   "source": [
    "lexicon_refined"
   ]
  },
  {
   "cell_type": "code",
   "execution_count": 61,
   "metadata": {
    "ExecuteTime": {
     "end_time": "2020-09-03T16:04:12.179117Z",
     "start_time": "2020-09-03T15:57:30.845983Z"
    }
   },
   "outputs": [
    {
     "name": "stderr",
     "output_type": "stream",
     "text": [
      "\r",
      "  0%|          | 0/53 [00:00<?, ?it/s]"
     ]
    },
    {
     "name": "stdout",
     "output_type": "stream",
     "text": [
      "Balancing:  53\n"
     ]
    },
    {
     "name": "stderr",
     "output_type": "stream",
     "text": [
      "100%|██████████| 53/53 [00:34<00:00,  1.55it/s]\n",
      "  0%|          | 0/116 [00:00<?, ?it/s]"
     ]
    },
    {
     "name": "stdout",
     "output_type": "stream",
     "text": [
      "Growing:  116\n"
     ]
    },
    {
     "name": "stderr",
     "output_type": "stream",
     "text": [
      "100%|██████████| 116/116 [01:08<00:00,  1.69it/s]\n"
     ]
    }
   ],
   "source": [
    "vectorized_lexicon, lexicon_labels = enrich(lex = lexicon_refined, \n",
    "       models = models_test, \n",
    "       n_target = 300, \n",
    "       msteps = 200, \n",
    "       return_words = False)"
   ]
  },
  {
   "cell_type": "code",
   "execution_count": 62,
   "metadata": {
    "ExecuteTime": {
     "end_time": "2020-09-03T16:04:12.349697Z",
     "start_time": "2020-09-03T16:04:12.182757Z"
    }
   },
   "outputs": [],
   "source": [
    "with open(\"./lexicon/enriched_lexicon.csv\", 'w') as file:\n",
    "    pd.DataFrame({\"Vectorized_words\": vectorized_lexicon.tolist(), \n",
    "              \"Labels\": lexicon_labels}).to_csv(file)"
   ]
  },
  {
   "cell_type": "markdown",
   "metadata": {},
   "source": [
    "# Score Induction Nicoli"
   ]
  },
  {
   "cell_type": "markdown",
   "metadata": {},
   "source": [
    "La procedura di di Nicoli è quella di applicare una **regressione logistica** usando il lessico aumentato come *training set*. "
   ]
  },
  {
   "cell_type": "code",
   "execution_count": 63,
   "metadata": {
    "ExecuteTime": {
     "end_time": "2020-09-03T16:04:12.376430Z",
     "start_time": "2020-09-03T16:04:12.352197Z"
    }
   },
   "outputs": [],
   "source": [
    "with open(\"./lexicon/enriched_lexicon.csv\", 'r') as file:\n",
    "    enriched_lexicon = pd.read_csv(file, \n",
    "                                   engine='c', \n",
    "                                   index_col=0)"
   ]
  },
  {
   "cell_type": "code",
   "execution_count": 64,
   "metadata": {
    "ExecuteTime": {
     "end_time": "2020-09-03T16:04:12.759972Z",
     "start_time": "2020-09-03T16:04:12.379967Z"
    }
   },
   "outputs": [],
   "source": [
    "enriched_lexicon[\"Vectorized_words\"] = enriched_lexicon[\"Vectorized_words\"].apply(literal_eval)"
   ]
  },
  {
   "cell_type": "code",
   "execution_count": 65,
   "metadata": {
    "ExecuteTime": {
     "end_time": "2020-09-03T16:04:12.790451Z",
     "start_time": "2020-09-03T16:04:12.762181Z"
    }
   },
   "outputs": [],
   "source": [
    "X = enriched_lexicon[\"Vectorized_words\"].tolist()\n",
    "y = enriched_lexicon[\"Labels\"]\n",
    "logistic = LogisticRegression(random_state=0).fit(X, y)"
   ]
  },
  {
   "cell_type": "code",
   "execution_count": 66,
   "metadata": {
    "ExecuteTime": {
     "end_time": "2020-09-03T16:04:12.814541Z",
     "start_time": "2020-09-03T16:04:12.792921Z"
    }
   },
   "outputs": [
    {
     "data": {
      "text/plain": [
       "0.95"
      ]
     },
     "execution_count": 66,
     "metadata": {},
     "output_type": "execute_result"
    }
   ],
   "source": [
    "logistic.score(X, y)"
   ]
  },
  {
   "cell_type": "code",
   "execution_count": 100,
   "metadata": {
    "ExecuteTime": {
     "end_time": "2020-09-03T16:08:49.554673Z",
     "start_time": "2020-09-03T16:08:28.470910Z"
    }
   },
   "outputs": [],
   "source": [
    "X_train, X_test, y_train, y_test = train_test_split(X, y, test_size = 0.25)\n",
    "score_train = []\n",
    "score_test = []\n",
    "#Cs = [10**x for x in range(-2, 5)]\n",
    "Cs = np.arange(0.01, 10, 0.01)\n",
    "best_C = 666\n",
    "best_score = 0\n",
    "for c in Cs:\n",
    "    inducer = svm.SVC(C = c, kernel = 'poly').fit(X_train, y_train)\n",
    "    score_train.append(inducer.score(X_train, y_train))\n",
    "    score_test.append(inducer.score(X_test, y_test))\n",
    "    if score_test[-1] > best_score:\n",
    "        best_C = c\n",
    "        best_score = score_test[-1]"
   ]
  },
  {
   "cell_type": "code",
   "execution_count": 101,
   "metadata": {
    "ExecuteTime": {
     "end_time": "2020-09-03T16:08:49.788498Z",
     "start_time": "2020-09-03T16:08:49.556763Z"
    }
   },
   "outputs": [
    {
     "data": {
      "text/plain": [
       "<function matplotlib.pyplot.plot(*args, scalex=True, scaley=True, data=None, **kwargs)>"
      ]
     },
     "execution_count": 101,
     "metadata": {},
     "output_type": "execute_result"
    },
    {
     "data": {
      "image/png": "[encoded data removed]",
      "text/plain": [
       "<Figure size 460.8x403.2 with 1 Axes>"
      ]
     },
     "metadata": {},
     "output_type": "display_data"
    }
   ],
   "source": [
    "plt.plot(Cs, score_train, 'o-', label=\"train\")\n",
    "plt.plot(Cs, score_test, 'o-', label=\"test\")\n",
    "plt.legend()\n",
    "plt.xscale('log')\n",
    "plt.title(\"Figuring out best C\")\n",
    "plt.plot"
   ]
  },
  {
   "cell_type": "code",
   "execution_count": 121,
   "metadata": {
    "ExecuteTime": {
     "end_time": "2020-09-03T16:08:49.796028Z",
     "start_time": "2020-09-03T16:08:49.791361Z"
    }
   },
   "outputs": [
    {
     "data": {
      "text/plain": [
       "[]"
      ]
     },
     "execution_count": 121,
     "metadata": {},
     "output_type": "execute_result"
    },
    {
     "data": {
      "image/png": "[encoded data removed]",
      "text/plain": [
       "<Figure size 460.8x403.2 with 1 Axes>"
      ]
     },
     "metadata": {},
     "output_type": "display_data"
    }
   ],
   "source": [
    "#tento con una cross validation e c nell'arco 0.1, 10\n",
    "score_mean = []\n",
    "score_stds = []\n",
    "Cs = Cs = np.arange(1, 100, 1)\n",
    "for c in Cs:\n",
    "    clf = svm.SVC(C=c, kernel = \"poly\")\n",
    "    scores = cross_val_score(clf, X, y, cv=5)\n",
    "    score_mean.append(scores.mean())\n",
    "    score_stds.append(scores.std())\n",
    "\n",
    "plt.errorbar(Cs, score_mean, yerr = score_stds)\n",
    "plt.legend()\n",
    "plt.title(\"Figuring out best C - Cross validated\")\n",
    "plt.plot()"
   ]
  },
  {
   "cell_type": "markdown",
   "metadata": {
    "ExecuteTime": {
     "end_time": "2020-09-03T16:09:25.160252Z",
     "start_time": "2020-09-03T16:09:25.156456Z"
    }
   },
   "source": [
    "# Il miglior valore è ~15"
   ]
  },
  {
   "cell_type": "code",
   "execution_count": null,
   "metadata": {},
   "outputs": [],
   "source": []
  }
 ],
 "metadata": {
  "kernelspec": {
   "display_name": "Python 3",
   "language": "python",
   "name": "python3"
  },
  "language_info": {
   "codemirror_mode": {
    "name": "ipython",
    "version": 3
   },
   "file_extension": ".py",
   "mimetype": "text/x-python",
   "name": "python",
   "nbconvert_exporter": "python",
   "pygments_lexer": "ipython3",
   "version": "3.7.6"
  },
  "toc": {
   "base_numbering": 1,
   "nav_menu": {},
   "number_sections": true,
   "sideBar": true,
   "skip_h1_title": false,
   "title_cell": "Table of Contents",
   "title_sidebar": "Contents",
   "toc_cell": false,
   "toc_position": {},
   "toc_section_display": true,
   "toc_window_display": false
  }
 },
 "nbformat": 4,
 "nbformat_minor": 4
}
