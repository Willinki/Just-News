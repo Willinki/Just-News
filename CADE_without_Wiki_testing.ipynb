{
 "cells": [
  {
   "cell_type": "markdown",
   "metadata": {},
   "source": [
    "Questo è un tentativo di escludere Wikipedia da tutta l'analisi. Infatti, come ho notato facendo degli esempi, sebbene dovrebbe essere la fonte meno \"imparziale\", il fatto che gli articoli abbiano soggetti abbastanza differenti rispetto al resto delle testate giornalistiche potrebbe inficiare sui risultati."
   ]
  },
  {
   "cell_type": "markdown",
   "metadata": {},
   "source": [
    "# Libraries"
   ]
  },
  {
   "cell_type": "code",
   "execution_count": 61,
   "metadata": {
    "ExecuteTime": {
     "end_time": "2020-09-09T15:21:27.694351Z",
     "start_time": "2020-09-09T15:21:27.687308Z"
    }
   },
   "outputs": [],
   "source": [
    "# General purpose\n",
    "import pandas as pd\n",
    "import os\n",
    "import glob\n",
    "import json\n",
    "import numpy as np\n",
    "from ast import literal_eval\n",
    "import string\n",
    "import matplotlib.pyplot as plt\n",
    "from scipy.spatial.distance import cosine\n",
    "import itertools\n",
    "from numpy.linalg import norm\n",
    "from collections import Counter\n",
    "import codecs\n",
    "import tqdm\n",
    "import scipy as sp\n",
    "from joblib import dump, load\n",
    "# NLP\n",
    "from cade.cade import CADE\n",
    "from gensim.models.word2vec import Word2Vec\n",
    "# Machine Learning\n",
    "from sklearn.decomposition import PCA\n",
    "from sklearn.linear_model import LogisticRegression\n",
    "from sklearn.model_selection import train_test_split\n",
    "from sklearn.naive_bayes import GaussianNB\n",
    "from sklearn import svm\n",
    "from sklearn.model_selection import cross_val_score\n",
    "# currently installed theme will be used to\n",
    "# set plot style if no arguments provided\n",
    "# Theme\n",
    "from jupyterthemes import jtplot\n",
    "jtplot.style()"
   ]
  },
  {
   "cell_type": "code",
   "execution_count": 2,
   "metadata": {
    "ExecuteTime": {
     "end_time": "2020-09-09T14:14:38.228644Z",
     "start_time": "2020-09-09T14:14:38.226085Z"
    }
   },
   "outputs": [],
   "source": [
    "# Function to remove punctuation from strings.\n",
    "# Copied from Prof.\n",
    "def simple_preproc(text):\n",
    "  \"\"\"\n",
    "  see: https://stackoverflow.com/questions/265960/best-way-to-strip-punctuation-from-a-string\n",
    "  \"\"\"\n",
    "  return text.translate(str.maketrans('', '', string.punctuation))"
   ]
  },
  {
   "cell_type": "markdown",
   "metadata": {},
   "source": [
    "# Pre-processing"
   ]
  },
  {
   "cell_type": "code",
   "execution_count": 3,
   "metadata": {
    "ExecuteTime": {
     "end_time": "2020-09-09T14:14:38.237295Z",
     "start_time": "2020-09-09T14:14:38.233534Z"
    }
   },
   "outputs": [],
   "source": [
    "def create_newssite(link = None):\n",
    "        if link is np.nan:\n",
    "            return(\"Wikipedia\")\n",
    "        elif \"slate.com\" in link:\n",
    "            return(\"Slate\")\n",
    "        elif \"https://www.nytimes.com\" in link:\n",
    "            return(\"New York Times\")\n",
    "        elif \"https://www.breitbart.com\" in link:\n",
    "            return(\"Breitbart\")\n",
    "        elif \"https://www.cnn.com\" in link:\n",
    "            return(\"CNN\")\n",
    "        elif \"abcnews\" in link:\n",
    "            return(\"ABC News\")\n",
    "        elif \"https://thefederalist.com\" in link:\n",
    "            return(\"The Federalist\")\n",
    "        elif \"https://www.newsmax.com\" in link:\n",
    "            return(\"News Max\")\n",
    "        else:\n",
    "            return(\"Unknown\")"
   ]
  },
  {
   "cell_type": "code",
   "execution_count": 4,
   "metadata": {
    "ExecuteTime": {
     "end_time": "2020-09-09T14:14:39.904622Z",
     "start_time": "2020-09-09T14:14:38.238860Z"
    }
   },
   "outputs": [
    {
     "name": "stdout",
     "output_type": "stream",
     "text": [
      "./data_final_3/scraping_data_NYTimes.json\n",
      "./data_final_3/scraping_data_Breitbart.json\n",
      "./data_final_3/scraping_data_CNN.json\n",
      "./data_final_3/scraping_data_ABC.json\n",
      "./data_final_3/scraping_data_Federalist.json\n",
      "./data_final_3/scraping_data_NewsMax.json\n"
     ]
    }
   ],
   "source": [
    "df_list = pd.DataFrame()\n",
    "[for filename in glob.glob('./data_final_3/*.json'):\n",
    "    print(filename)\n",
    "    with open(filename, 'r') as f:\n",
    "        json_load = json.loads(f.read())\n",
    "        df_list = df_list.append(pd.DataFrame\n",
    "                                 .from_records(json_load, \n",
    "                                               index=\"_id\"), \n",
    "                                 ignore_index = True)        ]"
   ]
  },
  {
   "cell_type": "code",
   "execution_count": 5,
   "metadata": {
    "ExecuteTime": {
     "end_time": "2020-09-09T14:14:39.939065Z",
     "start_time": "2020-09-09T14:14:39.906503Z"
    }
   },
   "outputs": [],
   "source": [
    "df_list = df_list[['Title', \"Date\", \"Link\", \"Paragraphs\", \"Authors\"]]"
   ]
  },
  {
   "cell_type": "code",
   "execution_count": 6,
   "metadata": {
    "ExecuteTime": {
     "end_time": "2020-09-09T14:14:39.987482Z",
     "start_time": "2020-09-09T14:14:39.943482Z"
    }
   },
   "outputs": [
    {
     "name": "stdout",
     "output_type": "stream",
     "text": [
      "AVVOCATO CI SIAMO\n"
     ]
    }
   ],
   "source": [
    "df_list[\"Newssite\"] = df_list[\"Link\"].apply(create_newssite)\n",
    "\n",
    "if len(df_list[df_list[\"Newssite\"][:] == \"Unknown\"]) == 0:\n",
    "    print(\"AVVOCATO CI SIAMO\")"
   ]
  },
  {
   "cell_type": "code",
   "execution_count": 7,
   "metadata": {
    "ExecuteTime": {
     "end_time": "2020-09-09T14:14:44.635661Z",
     "start_time": "2020-09-09T14:14:39.990987Z"
    }
   },
   "outputs": [],
   "source": [
    "with open(\"./data_safe_3.csv\", 'w') as file:\n",
    "    df_list.to_csv(file)"
   ]
  },
  {
   "cell_type": "markdown",
   "metadata": {},
   "source": [
    "# CADE"
   ]
  },
  {
   "cell_type": "markdown",
   "metadata": {},
   "source": [
    "## Embedding Totale"
   ]
  },
  {
   "cell_type": "markdown",
   "metadata": {},
   "source": [
    "### Pre-processing corpora"
   ]
  },
  {
   "cell_type": "code",
   "execution_count": 8,
   "metadata": {
    "ExecuteTime": {
     "end_time": "2020-09-09T14:14:49.454911Z",
     "start_time": "2020-09-09T14:14:44.637535Z"
    }
   },
   "outputs": [],
   "source": [
    "with open(\"./data_safe_3.csv\") as file:\n",
    "    df = pd.read_csv(file, engine='c')\n",
    "\n",
    "df[\"Paragraphs\"] = df[\"Paragraphs\"].apply(literal_eval)\n",
    "\n",
    "EVERYTHING = \"\"\n",
    "for k in df[\"Paragraphs\"]:\n",
    "    EVERYTHING += \"\\n\".join(k)"
   ]
  },
  {
   "cell_type": "code",
   "execution_count": 9,
   "metadata": {
    "ExecuteTime": {
     "end_time": "2020-09-09T14:15:03.782566Z",
     "start_time": "2020-09-09T14:14:49.456347Z"
    }
   },
   "outputs": [],
   "source": [
    "EVERYTHING = simple_preproc(EVERYTHING).lower()\n",
    "EVERYTHING = EVERYTHING.replace(\"—\", \n",
    "                                                \"\").replace(\"\\n\", \n",
    "                                                            \" \").replace(\"“\", \n",
    "                                                                         \"\").replace(\"“\", \n",
    "                                                                                          \"\").replace(\"”\", \n",
    "                                                                                                      \"\").replace(\"’s\", \n",
    "                                                                                                             \"\")"
   ]
  },
  {
   "cell_type": "code",
   "execution_count": 10,
   "metadata": {
    "ExecuteTime": {
     "end_time": "2020-09-09T14:15:04.083645Z",
     "start_time": "2020-09-09T14:15:03.784661Z"
    }
   },
   "outputs": [],
   "source": [
    "with open(\"./EVERYTHING_3.txt\", 'w') as file:\n",
    "    file.write(EVERYTHING)"
   ]
  },
  {
   "cell_type": "markdown",
   "metadata": {},
   "source": [
    "### Addestramento"
   ]
  },
  {
   "cell_type": "code",
   "execution_count": 11,
   "metadata": {
    "ExecuteTime": {
     "end_time": "2020-09-09T14:16:42.170371Z",
     "start_time": "2020-09-09T14:15:04.085217Z"
    }
   },
   "outputs": [
    {
     "name": "stdout",
     "output_type": "stream",
     "text": [
      "Training the compass from scratch.\n"
     ]
    }
   ],
   "source": [
    "aligner = CADE(size=100, workers=12)\n",
    "\n",
    "aligner.train_compass(\"./EVERYTHING_3.txt\", \n",
    "                      overwrite=False) # keep an eye on the overwrite behaviour"
   ]
  },
  {
   "cell_type": "markdown",
   "metadata": {},
   "source": [
    "## Embedding slices"
   ]
  },
  {
   "cell_type": "code",
   "execution_count": 12,
   "metadata": {
    "ExecuteTime": {
     "end_time": "2020-09-09T14:17:31.005103Z",
     "start_time": "2020-09-09T14:17:13.213655Z"
    }
   },
   "outputs": [
    {
     "name": "stdout",
     "output_type": "stream",
     "text": [
      "[INFO] Progress:1/6\n",
      "[INFO] Progress:2/6\n",
      "[INFO] Progress:3/6\n",
      "[INFO] Progress:4/6\n",
      "[INFO] Progress:5/6\n",
      "[INFO] Progress:6/6\n"
     ]
    }
   ],
   "source": [
    "with open(\"./data_safe_3.csv\") as file:\n",
    "    df = pd.read_csv(file, engine='c')\n",
    "    \n",
    "df[\"Paragraphs\"] = df[\"Paragraphs\"].apply(literal_eval)\n",
    "\n",
    "for i, Newssite in enumerate(df[\"Newssite\"].unique()):\n",
    "    print(\"[INFO] Progress:\"+str(i+1)+\"/\"+str(len(df[\"Newssite\"].unique())))\n",
    "    newssite_to_text = \"\"\n",
    "    for k in df[df[\"Newssite\"] == Newssite][\"Paragraphs\"][:]:\n",
    "        newssite_to_text += \"\\n\".join(k)\n",
    "    newssite_to_text = simple_preproc(newssite_to_text).lower()\n",
    "    newssite_to_text = newssite_to_text.replace(\"—\", \n",
    "                                                \"\").replace(\"\\n\", \n",
    "                                                            \" \").replace(\"“\", \n",
    "                                                                         \"\").replace(\"“\", \n",
    "                                                                                          \"\").replace(\"”\", \n",
    "                                                                                                      \"\").replace(\"’s\", \n",
    "                                                                                                             \"\")\n",
    "    with open(\"./corpora_3/text_\"+str(Newssite)+\".txt\", 'w') as file:\n",
    "        file.write(newssite_to_text)"
   ]
  },
  {
   "cell_type": "code",
   "execution_count": 13,
   "metadata": {
    "ExecuteTime": {
     "end_time": "2020-09-09T14:19:33.043479Z",
     "start_time": "2020-09-09T14:17:31.007549Z"
    }
   },
   "outputs": [
    {
     "name": "stdout",
     "output_type": "stream",
     "text": [
      "Training embeddings: slice ./corpora_3/text_New York Times.txt.\n",
      "Initializing embeddings from compass.\n",
      "Training embeddings: slice ./corpora_3/text_Breitbart.txt.\n",
      "Initializing embeddings from compass.\n",
      "Training embeddings: slice ./corpora_3/text_CNN.txt.\n",
      "Initializing embeddings from compass.\n",
      "Training embeddings: slice ./corpora_3/text_ABC News.txt.\n",
      "Initializing embeddings from compass.\n",
      "Training embeddings: slice ./corpora_3/text_The Federalist.txt.\n",
      "Initializing embeddings from compass.\n",
      "Training embeddings: slice ./corpora_3/text_News Max.txt.\n",
      "Initializing embeddings from compass.\n"
     ]
    }
   ],
   "source": [
    "slices = {\n",
    "            Newssite: aligner.train_slice(\n",
    "                \"./corpora_3/text_\"+str(Newssite)+\".txt\", \n",
    "                save=False\n",
    "                                        )\n",
    "            for Newssite in df[\"Newssite\"].unique()\n",
    "         }"
   ]
  },
  {
   "cell_type": "code",
   "execution_count": 14,
   "metadata": {
    "ExecuteTime": {
     "end_time": "2020-09-09T14:19:34.398277Z",
     "start_time": "2020-09-09T14:19:33.045736Z"
    }
   },
   "outputs": [],
   "source": [
    "# Dobbiamo andare a salvare i vari slice\n",
    "for my_slice in slices:\n",
    "    slices[my_slice].save(\"models_3/\"+str(my_slice)+\".model\")"
   ]
  },
  {
   "cell_type": "markdown",
   "metadata": {
    "heading_collapsed": true
   },
   "source": [
    "## Visualizzazioni Medie"
   ]
  },
  {
   "cell_type": "code",
   "execution_count": 15,
   "metadata": {
    "ExecuteTime": {
     "end_time": "2020-09-09T14:19:34.403223Z",
     "start_time": "2020-09-09T14:19:34.400183Z"
    },
    "hidden": true
   },
   "outputs": [],
   "source": [
    "def sum_vectors(my_slice = None):\n",
    "    my_sum = 0\n",
    "    for i, word in enumerate(my_slice.wv.vocab):\n",
    "        my_sum += my_slice.wv[word]\n",
    "    return(my_sum/len(my_slice.wv.vocab))"
   ]
  },
  {
   "cell_type": "code",
   "execution_count": 16,
   "metadata": {
    "ExecuteTime": {
     "end_time": "2020-09-09T14:19:34.908934Z",
     "start_time": "2020-09-09T14:19:34.404870Z"
    },
    "hidden": true
   },
   "outputs": [],
   "source": [
    "my_sum = [sum_vectors(slices[my_slice]) \n",
    "       for i, my_slice in enumerate(slices)]"
   ]
  },
  {
   "cell_type": "code",
   "execution_count": 17,
   "metadata": {
    "ExecuteTime": {
     "end_time": "2020-09-09T14:19:35.047325Z",
     "start_time": "2020-09-09T14:19:34.910260Z"
    },
    "hidden": true
   },
   "outputs": [
    {
     "data": {
      "image/png": "[encoded data removed]",
      "text/plain": [
       "<Figure size 460.8x403.2 with 1 Axes>"
      ]
     },
     "metadata": {},
     "output_type": "display_data"
    }
   ],
   "source": [
    "X_tranf = PCA(n_components=2).fit_transform(my_sum)\n",
    "plt.scatter(X_tranf[:, 0], X_tranf[:, 1])\n",
    "for index, word in enumerate(slices):\n",
    "    plt.annotate(word, xy=(X_tranf[index, 0]+0.01, X_tranf[index, 1]+0.01))\n",
    "plt.show()"
   ]
  },
  {
   "cell_type": "markdown",
   "metadata": {},
   "source": [
    "# Lexicon Refinement"
   ]
  },
  {
   "cell_type": "markdown",
   "metadata": {},
   "source": [
    "## Pre-processing Lexicon"
   ]
  },
  {
   "cell_type": "markdown",
   "metadata": {},
   "source": [
    "Questa operazione è già stata eseguita da altre parti."
   ]
  },
  {
   "cell_type": "markdown",
   "metadata": {},
   "source": [
    "## Lexicon Refinement Pipeline"
   ]
  },
  {
   "cell_type": "code",
   "execution_count": 18,
   "metadata": {
    "ExecuteTime": {
     "end_time": "2020-09-09T14:19:35.051359Z",
     "start_time": "2020-09-09T14:19:35.048666Z"
    }
   },
   "outputs": [],
   "source": [
    "from utils import *"
   ]
  },
  {
   "cell_type": "code",
   "execution_count": 19,
   "metadata": {
    "ExecuteTime": {
     "end_time": "2020-09-09T14:19:51.308998Z",
     "start_time": "2020-09-09T14:19:49.209665Z"
    }
   },
   "outputs": [],
   "source": [
    "# Caricamento del lexicon\n",
    "with open(\"./lexicon/clean_lexicon.csv\", 'r') as file:\n",
    "    lexicon = pd.read_csv(file, index_col=1)\n",
    "\n",
    "# Caricamento dei modelli già addestrati\n",
    "slices = {filename.split('/')[-1].replace(\".model\", \"\"): \n",
    "          Word2Vec.load(filename)\n",
    "          for filename in glob.glob('./models_3/*.model')}"
   ]
  },
  {
   "cell_type": "code",
   "execution_count": 20,
   "metadata": {
    "ExecuteTime": {
     "end_time": "2020-09-09T14:19:53.392544Z",
     "start_time": "2020-09-09T14:19:53.386986Z"
    }
   },
   "outputs": [],
   "source": [
    "lexicon = lexicon.drop(\"Unnamed: 0\", axis=1)\n",
    "\n",
    "lexicon = lexicon.to_dict()[\"Subj_score\"]"
   ]
  },
  {
   "cell_type": "code",
   "execution_count": 22,
   "metadata": {
    "ExecuteTime": {
     "end_time": "2020-09-09T14:27:03.865657Z",
     "start_time": "2020-09-09T14:20:12.671643Z"
    }
   },
   "outputs": [
    {
     "name": "stdout",
     "output_type": "stream",
     "text": [
      "count text_ABC News\n",
      "min_count text_ABC News\n",
      "zipf text_ABC News\n",
      "count text_Breitbart\n",
      "min_count text_Breitbart\n",
      "zipf text_Breitbart\n",
      "count text_CNN\n",
      "min_count text_CNN\n",
      "zipf text_CNN\n",
      "count text_The Federalist\n",
      "min_count text_The Federalist\n",
      "zipf text_The Federalist\n",
      "count text_New York Times\n",
      "min_count text_New York Times\n",
      "zipf text_New York Times\n",
      "count text_News Max\n",
      "min_count text_News Max\n",
      "zipf text_News Max\n",
      "dataframe done\n",
      "common filter done\n"
     ]
    }
   ],
   "source": [
    "# Lessico che si ottiene raffinando su tutti \n",
    "# gli embedding generati\n",
    "lexicon_refined = lexicon_refinement(lex = lexicon, \n",
    "                   models = [slices[sli] \n",
    "                             for sli in slices], \n",
    "                   corpora = [\"./corpora_3/text_\"+str(sli)+\".txt\" \n",
    "                              for sli in slices], \n",
    "                    zipf_cutoff=5)"
   ]
  },
  {
   "cell_type": "code",
   "execution_count": 23,
   "metadata": {
    "ExecuteTime": {
     "end_time": "2020-09-09T14:27:03.871408Z",
     "start_time": "2020-09-09T14:27:03.867658Z"
    }
   },
   "outputs": [],
   "source": [
    "with open(\"./lexicon_3/lexicon_refined.csv\", 'w') as file:\n",
    "    pd.DataFrame(lexicon_refined).to_csv(file)"
   ]
  },
  {
   "cell_type": "markdown",
   "metadata": {},
   "source": [
    "## Lexicon Enrichement"
   ]
  },
  {
   "cell_type": "code",
   "execution_count": 24,
   "metadata": {
    "ExecuteTime": {
     "end_time": "2020-09-09T14:27:03.877215Z",
     "start_time": "2020-09-09T14:27:03.873402Z"
    }
   },
   "outputs": [],
   "source": [
    "# Dobbiamo fare così per come è costruita la funzione di Nicoli\n",
    "lexicon_refined[lexicon_refined == 0] = -1"
   ]
  },
  {
   "cell_type": "code",
   "execution_count": 25,
   "metadata": {
    "ExecuteTime": {
     "end_time": "2020-09-09T14:31:16.928136Z",
     "start_time": "2020-09-09T14:27:03.879342Z"
    }
   },
   "outputs": [
    {
     "name": "stderr",
     "output_type": "stream",
     "text": [
      "\r",
      "  0%|          | 0/62 [00:00<?, ?it/s]"
     ]
    },
    {
     "name": "stdout",
     "output_type": "stream",
     "text": [
      "Balancing:  62\n"
     ]
    },
    {
     "name": "stderr",
     "output_type": "stream",
     "text": [
      "100%|██████████| 62/62 [00:59<00:00,  1.04it/s]\n",
      "  1%|          | 1/192 [00:00<00:19,  9.56it/s]"
     ]
    },
    {
     "name": "stdout",
     "output_type": "stream",
     "text": [
      "Growing:  192\n"
     ]
    },
    {
     "name": "stderr",
     "output_type": "stream",
     "text": [
      "100%|██████████| 192/192 [03:13<00:00,  1.01s/it]\n"
     ]
    }
   ],
   "source": [
    "vectorized_lexicon, lexicon_labels, words = enrich(lex = lexicon_refined, \n",
    "       models = [slices[sl] for sl in slices], \n",
    "       n_target = 400, \n",
    "       msteps = 200, \n",
    "       return_words = True)"
   ]
  },
  {
   "cell_type": "code",
   "execution_count": 26,
   "metadata": {
    "ExecuteTime": {
     "end_time": "2020-09-09T14:31:17.011318Z",
     "start_time": "2020-09-09T14:31:16.931067Z"
    }
   },
   "outputs": [],
   "source": [
    "with open(\"./lexicon_3/enriched_lexicon.csv\", 'w') as file:\n",
    "    pd.DataFrame({\"Vectorized_words\": vectorized_lexicon.tolist(), \n",
    "              \"Labels\": lexicon_labels, \"Words\": words}).to_csv(file)"
   ]
  },
  {
   "cell_type": "markdown",
   "metadata": {},
   "source": [
    "# Nicoli Logistic"
   ]
  },
  {
   "cell_type": "markdown",
   "metadata": {},
   "source": [
    "## ML Optimization"
   ]
  },
  {
   "cell_type": "code",
   "execution_count": 27,
   "metadata": {
    "ExecuteTime": {
     "end_time": "2020-09-09T14:31:17.023319Z",
     "start_time": "2020-09-09T14:31:17.012923Z"
    }
   },
   "outputs": [],
   "source": [
    "# Open the pre-prepared lexicon\n",
    "with open(\"./lexicon_3/enriched_lexicon.csv\", 'r') as file:\n",
    "    enriched_lexicon = pd.read_csv(file, \n",
    "                                   engine='c', \n",
    "                                   index_col=0)"
   ]
  },
  {
   "cell_type": "code",
   "execution_count": 28,
   "metadata": {
    "ExecuteTime": {
     "end_time": "2020-09-09T14:31:17.144287Z",
     "start_time": "2020-09-09T14:31:17.024974Z"
    }
   },
   "outputs": [],
   "source": [
    "# Read the strings as lists\n",
    "enriched_lexicon[\"Vectorized_words\"] = (enriched_lexicon[\"Vectorized_words\"]\n",
    "                                        .apply(literal_eval))"
   ]
  },
  {
   "cell_type": "code",
   "execution_count": 29,
   "metadata": {
    "ExecuteTime": {
     "end_time": "2020-09-09T14:31:17.151537Z",
     "start_time": "2020-09-09T14:31:17.148121Z"
    }
   },
   "outputs": [],
   "source": [
    "# Prepare a list of 100-dimension vectors (the words)\n",
    "X = enriched_lexicon[\"Vectorized_words\"].tolist()\n",
    "# List of labels (1, -1)\n",
    "y = enriched_lexicon[\"Labels\"]"
   ]
  },
  {
   "cell_type": "code",
   "execution_count": 43,
   "metadata": {
    "ExecuteTime": {
     "end_time": "2020-09-09T14:38:28.748174Z",
     "start_time": "2020-09-09T14:38:25.728257Z"
    },
    "scrolled": true
   },
   "outputs": [
    {
     "data": {
      "text/plain": [
       "[]"
      ]
     },
     "execution_count": 43,
     "metadata": {},
     "output_type": "execute_result"
    },
    {
     "data": {
      "image/png": "[encoded data removed]",
      "text/plain": [
       "<Figure size 720x720 with 1 Axes>"
      ]
     },
     "metadata": {},
     "output_type": "display_data"
    }
   ],
   "source": [
    "#tento con una cross validation e c nell'arco 0.1, 10\n",
    "score_mean = []\n",
    "score_stds = []\n",
    "Cs = Cs = np.arange(0.1, 5, 0.1)\n",
    "plt.figure(figsize=(10,10))\n",
    "for c in Cs:\n",
    "    clf = LogisticRegression(C=c, penalty='l2', solver='liblinear')\n",
    "    scores = cross_val_score(clf, X, y, cv=5)\n",
    "    score_mean.append(scores.mean())\n",
    "    score_stds.append(scores.std())\n",
    "\n",
    "plt.errorbar(Cs, score_mean, yerr = score_stds)\n",
    "plt.legend()\n",
    "plt.xlabel(\"C\")\n",
    "plt.ylabel(\"Accuracy\")\n",
    "plt.title(\"Figuring out best C - Cross validated\")\n",
    "plt.plot()"
   ]
  },
  {
   "cell_type": "markdown",
   "metadata": {},
   "source": [
    "## Propagation"
   ]
  },
  {
   "cell_type": "code",
   "execution_count": 45,
   "metadata": {
    "ExecuteTime": {
     "end_time": "2020-09-09T14:39:01.847520Z",
     "start_time": "2020-09-09T14:39:01.835443Z"
    }
   },
   "outputs": [],
   "source": [
    "# Addestriamo completamente il lessico\n",
    "inducer = (LogisticRegression(C=0.1, penalty='l2', solver='liblinear')\n",
    "           .fit(X,y))"
   ]
  },
  {
   "cell_type": "code",
   "execution_count": 66,
   "metadata": {
    "ExecuteTime": {
     "end_time": "2020-09-09T17:56:02.424337Z",
     "start_time": "2020-09-09T17:56:02.419831Z"
    }
   },
   "outputs": [
    {
     "data": {
      "text/plain": [
       "['./ML_models/Nicoli_logistic_without_Wiki.joblib']"
      ]
     },
     "execution_count": 66,
     "metadata": {},
     "output_type": "execute_result"
    }
   ],
   "source": [
    "dump(inducer, \"./ML_models/Nicoli_logistic_without_Wiki.joblib\") "
   ]
  },
  {
   "cell_type": "markdown",
   "metadata": {},
   "source": [
    "## Scoring Probabilistic"
   ]
  },
  {
   "cell_type": "code",
   "execution_count": 46,
   "metadata": {
    "ExecuteTime": {
     "end_time": "2020-09-09T14:39:21.557793Z",
     "start_time": "2020-09-09T14:39:03.493958Z"
    }
   },
   "outputs": [],
   "source": [
    "models_propagation_Hamilton = [{word: \n",
    "                       inducer.predict_proba([model.wv[word]])[0][0]\n",
    "  for word in model.wv.vocab} for model in slices.values()]\n",
    "\n",
    "vocab_counts_Hamilton = [{word: model.wv.vocab[word].count * model_prop[word]\n",
    "                for word in model.wv.vocab} \n",
    "                for model, model_prop in zip(slices.values(), \n",
    "                                             models_propagation_Hamilton)]\n",
    "\n",
    "# This is just the sum of all words in the corpus\n",
    "vocab_counts_abs = [{word: abs(model.wv.vocab[word].count)\n",
    "                    for word in model.wv.vocab}  \n",
    "                    for model in slices.values()]\n",
    "# Difatti questa misure dice quante parole soggettive ci sono\n",
    "# per singola parola scritta nei vari corpus.\n",
    "models_score_Hamilton = {name: sum(count.values())/(sum(count_abs.values()))\n",
    "                         for name, count, count_abs in zip(slices, \n",
    "                                                           vocab_counts_Hamilton, \n",
    "                                                           vocab_counts_abs)}"
   ]
  },
  {
   "cell_type": "code",
   "execution_count": 59,
   "metadata": {
    "ExecuteTime": {
     "end_time": "2020-09-09T15:06:27.056250Z",
     "start_time": "2020-09-09T15:06:27.051479Z"
    }
   },
   "outputs": [
    {
     "data": {
      "text/plain": [
       "{'New York Times': 0.0,\n",
       " 'Breitbart': 0.5612788839875347,\n",
       " 'CNN': 0.6506592249084002,\n",
       " 'News Max': 0.651698953913649,\n",
       " 'ABC News': 0.703204240991167,\n",
       " 'The Federalist': 1.0}"
      ]
     },
     "execution_count": 59,
     "metadata": {},
     "output_type": "execute_result"
    }
   ],
   "source": [
    "{k: ((v - min(models_score_Hamilton.values())) \n",
    "     / (max(models_score_Hamilton.values()) - min(models_score_Hamilton.values())))\n",
    " for k, v in sorted(models_score_Hamilton.items(), \n",
    "                    key=lambda item: item[1])} \n",
    "  \n",
    "\n"
   ]
  },
  {
   "cell_type": "markdown",
   "metadata": {},
   "source": [
    "# No propagation"
   ]
  },
  {
   "cell_type": "markdown",
   "metadata": {},
   "source": [
    "## Scoring"
   ]
  },
  {
   "cell_type": "code",
   "execution_count": 47,
   "metadata": {
    "ExecuteTime": {
     "end_time": "2020-09-09T14:39:21.565379Z",
     "start_time": "2020-09-09T14:39:21.559952Z"
    }
   },
   "outputs": [],
   "source": [
    "# Load as dictionary the refined lexicon\n",
    "with open(\"./lexicon_3/lexicon_refined.csv\", 'r') as file:\n",
    "    lexicon_refined = pd.read_csv(file, index_col=0).to_dict()[\"Valence\"]"
   ]
  },
  {
   "cell_type": "code",
   "execution_count": 51,
   "metadata": {
    "ExecuteTime": {
     "end_time": "2020-09-09T14:40:56.191108Z",
     "start_time": "2020-09-09T14:40:56.099096Z"
    }
   },
   "outputs": [],
   "source": [
    "models_propagation_none = [{word: \n",
    "                       (lexicon_refined[word]+1)/2\n",
    "  for word in lexicon_refined} for model in slices.values()]\n",
    "\n",
    "vocab_counts_none = [{word: model.wv.vocab[word].count * model_prop[word]\n",
    "                for word in lexicon_refined} \n",
    "                for model, model_prop in zip(slices.values(), models_propagation_none)]\n",
    "\n",
    "# This is just the sum of all words in the corpus\n",
    "vocab_counts_abs = [{word: abs(model.wv.vocab[word].count)\n",
    "                    for word in model.wv.vocab}  \n",
    "                    for model, model_prop in zip(slices.values(), \n",
    "                                                 models_propagation_none)]\n",
    "# Difatti questa misure dice quante parole soggettive ci sono\n",
    "# per singola parola scritta nei vari corpus.\n",
    "models_score_none = {name: sum(count.values())/(sum(count_abs.values()))\n",
    "                for name, count, count_abs in zip(slices, vocab_counts_none, \n",
    "                                            vocab_counts_abs)}"
   ]
  },
  {
   "cell_type": "code",
   "execution_count": 58,
   "metadata": {
    "ExecuteTime": {
     "end_time": "2020-09-09T15:06:08.375433Z",
     "start_time": "2020-09-09T15:06:08.370632Z"
    }
   },
   "outputs": [
    {
     "data": {
      "text/plain": [
       "{'Breitbart': 0.0,\n",
       " 'New York Times': 0.030847987360217648,\n",
       " 'CNN': 0.4855827384612681,\n",
       " 'The Federalist': 0.7530735958285493,\n",
       " 'News Max': 0.8018595673409725,\n",
       " 'ABC News': 1.0}"
      ]
     },
     "execution_count": 58,
     "metadata": {},
     "output_type": "execute_result"
    }
   ],
   "source": [
    "{k: ((v - min(models_score_none.values())) \n",
    "     / (max(models_score_none.values()) - min(models_score_none.values())))\n",
    " for k, v in sorted(models_score_none.items(), \n",
    "                    key=lambda item: item[1])} \n",
    "  \n"
   ]
  },
  {
   "cell_type": "code",
   "execution_count": null,
   "metadata": {},
   "outputs": [],
   "source": []
  }
 ],
 "metadata": {
  "kernelspec": {
   "display_name": "Python 3",
   "language": "python",
   "name": "python3"
  },
  "language_info": {
   "codemirror_mode": {
    "name": "ipython",
    "version": 3
   },
   "file_extension": ".py",
   "mimetype": "text/x-python",
   "name": "python",
   "nbconvert_exporter": "python",
   "pygments_lexer": "ipython3",
   "version": "3.7.7"
  },
  "toc": {
   "base_numbering": 1,
   "nav_menu": {},
   "number_sections": true,
   "sideBar": true,
   "skip_h1_title": false,
   "title_cell": "Table of Contents",
   "title_sidebar": "Contents",
   "toc_cell": false,
   "toc_position": {
    "height": "calc(100% - 180px)",
    "left": "10px",
    "top": "150px",
    "width": "335.9926452636719px"
   },
   "toc_section_display": true,
   "toc_window_display": true
  }
 },
 "nbformat": 4,
 "nbformat_minor": 4
}
