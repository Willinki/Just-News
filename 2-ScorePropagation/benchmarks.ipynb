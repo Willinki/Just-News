{
 "cells": [
  {
   "cell_type": "code",
   "execution_count": 14,
   "metadata": {
    "ExecuteTime": {
     "end_time": "2020-09-09T15:24:48.527725Z",
     "start_time": "2020-09-09T15:24:48.086284Z"
    }
   },
   "outputs": [],
   "source": [
    "# General purpose\n",
    "import pandas as pd\n",
    "import os\n",
    "import glob\n",
    "import json\n",
    "import numpy as np\n",
    "from ast import literal_eval\n",
    "import string\n",
    "import matplotlib.pyplot as plt\n",
    "from scipy.spatial.distance import cosine\n",
    "import itertools\n",
    "from numpy.linalg import norm\n",
    "from collections import Counter\n",
    "import codecs\n",
    "import tqdm\n",
    "import scipy as sp\n",
    "from joblib import dump, load\n",
    "import seaborn as sns\n",
    "# NLP\n",
    "from cade.cade import CADE\n",
    "from gensim.models.word2vec import Word2Vec\n",
    "# Machine Learning\n",
    "from sklearn.decomposition import PCA\n",
    "from sklearn.linear_model import LogisticRegression\n",
    "from sklearn.model_selection import train_test_split\n",
    "from sklearn.naive_bayes import GaussianNB\n",
    "from sklearn import svm\n",
    "from sklearn.model_selection import cross_val_score\n",
    "# currently installed theme will be used to\n",
    "# set plot style if no arguments provided\n",
    "# Theme\n",
    "from jupyterthemes import jtplot\n",
    "jtplot.style()"
   ]
  },
  {
   "cell_type": "code",
   "execution_count": 84,
   "metadata": {
    "ExecuteTime": {
     "end_time": "2020-09-09T15:51:04.422236Z",
     "start_time": "2020-09-09T15:51:04.418554Z"
    }
   },
   "outputs": [],
   "source": [
    "# Function to remove punctuation from strings.\n",
    "# Copied from Prof.\n",
    "def simple_preproc(text):\n",
    "  \"\"\"\n",
    "  see: https://stackoverflow.com/questions/265960/best-way-to-strip-punctuation-from-a-string\n",
    "  \"\"\"\n",
    "  return text.translate(str.maketrans('', '', string.punctuation)).lower()\n",
    "\n",
    "def remove_bad_items(text):\n",
    "    return(text.replace(\"—\", \"\")\n",
    "                  .replace(\"\\n\",\" \")\n",
    "                  .replace(\"“\", \"\")\n",
    "                  .replace(\"“\", \"\")\n",
    "                  .replace(\"”\", \"\")\n",
    "                  .replace(\"’s\",\"\"))"
   ]
  },
  {
   "cell_type": "markdown",
   "metadata": {},
   "source": [
    "L'obiettivo del benchmarking è quello di vedere se, su alcuni particolari articoli usati come benchmarks, vi sia concordanza tra le classificazione eseguita a mano, e quella eseguita invece usando i 3 differenti metodi, ovvero Nicoli, Hamilton e \"Niente\"."
   ]
  },
  {
   "cell_type": "markdown",
   "metadata": {},
   "source": [
    "# Vocabulary Annotation"
   ]
  },
  {
   "cell_type": "markdown",
   "metadata": {},
   "source": [
    "## Annotation with Nicoli"
   ]
  },
  {
   "cell_type": "markdown",
   "metadata": {},
   "source": [
    "Per semplicità, non vado a salvare questa propagazione, ma viene eseguita ogni volta ex-novo."
   ]
  },
  {
   "cell_type": "code",
   "execution_count": null,
   "metadata": {
    "ExecuteTime": {
     "end_time": "2020-09-09T15:24:51.139436Z",
     "start_time": "2020-09-09T15:24:51.136203Z"
    }
   },
   "outputs": [],
   "source": [
    "inducer = load(\"../ML_models/Nicoli_logistic.joblib\")"
   ]
  },
  {
   "cell_type": "code",
   "execution_count": 16,
   "metadata": {
    "ExecuteTime": {
     "end_time": "2020-09-09T15:24:53.510135Z",
     "start_time": "2020-09-09T15:24:51.315783Z"
    }
   },
   "outputs": [],
   "source": [
    "# Caricamento dei modelli già addestrati\n",
    "slices = {filename.split('/')[-1].replace(\".model\", \"\"): \n",
    "          Word2Vec.load(filename)\n",
    "          for filename in glob.glob('../models_3/*.model')}"
   ]
  },
  {
   "cell_type": "code",
   "execution_count": 20,
   "metadata": {
    "ExecuteTime": {
     "end_time": "2020-09-09T15:26:19.691786Z",
     "start_time": "2020-09-09T15:26:02.518456Z"
    }
   },
   "outputs": [],
   "source": [
    "# Propagazione con Nicoli\n",
    "models_propagation_Nicoli = {name: {word: \n",
    "                                inducer.predict_proba([model.wv[word]])[0][0]\n",
    "                              for word in model.wv.vocab} \n",
    "                            for name, model in slices.items()}\n"
   ]
  },
  {
   "cell_type": "markdown",
   "metadata": {},
   "source": [
    "Ho ottenuto un dizionario per ogni testata giornalistica. Ogni dizionario contiene un dizionario, con {*parola del vocabolario*: *score di soggettività*}.\n",
    "\n",
    "Si può quindi usare questa informazione per andare a eseguire benchmarks sugli articoli pre-classificati."
   ]
  },
  {
   "cell_type": "markdown",
   "metadata": {},
   "source": [
    "# Do the Benchmarks"
   ]
  },
  {
   "cell_type": "markdown",
   "metadata": {},
   "source": [
    "In teoria qua si dovrebbero mettere le cose per eseguire benchmark. Difatti, vado semplicemente ad aprire la selezione eseguita da Davide."
   ]
  },
  {
   "cell_type": "markdown",
   "metadata": {},
   "source": [
    "# Benchmarking"
   ]
  },
  {
   "cell_type": "markdown",
   "metadata": {},
   "source": [
    "## Pre-processing Paragraphs"
   ]
  },
  {
   "cell_type": "code",
   "execution_count": 146,
   "metadata": {
    "ExecuteTime": {
     "end_time": "2020-09-09T16:12:30.413566Z",
     "start_time": "2020-09-09T16:12:30.399161Z"
    }
   },
   "outputs": [],
   "source": [
    "DFs_bench = {filename.split(\"/\")[1][:-4]: \n",
    "            pd.read_csv(filename, index_col=0) \n",
    "             for filename in glob.glob('benchmarks_data/*.csv')}"
   ]
  },
  {
   "cell_type": "code",
   "execution_count": 147,
   "metadata": {
    "ExecuteTime": {
     "end_time": "2020-09-09T16:12:33.259785Z",
     "start_time": "2020-09-09T16:12:30.524791Z"
    },
    "scrolled": false
   },
   "outputs": [],
   "source": [
    "# Clean and prepare for benchmarking the articles\n",
    "for name, df in DFs_bench.items():\n",
    "    df[\"Paragraphs\"] = df[\"Paragraphs\"].apply(literal_eval)\n",
    "    df[\"Paragraphs_joined\"] = df[\"Paragraphs\"].apply(lambda x: \" \".join(x))\n",
    "    df[\"Paragraphs_joined\"] = df[\"Paragraphs_joined\"].apply(simple_preproc)\n",
    "    df[\"Paragraphs_joined\"] = df[\"Paragraphs_joined\"].apply(remove_bad_items)\n",
    "    df[\"Tokenized\"] = df[\"Paragraphs_joined\"].apply(lambda x: x.split(\" \"))\n",
    "    df[\"Words_labelled_Nicoli\"] = df[\"Tokenized\"].apply(lambda x: \n",
    "                                        {word: (inducer\n",
    "                                         .predict_proba([slices[name]\n",
    "                                                        .wv[word]])[0][0]) \n",
    "                                         for word in x \n",
    "                                         if word in slices[name].wv.vocab})\n",
    "#     Vado a contare quante parole \"soggettive\" ci sono sul totale \n",
    "#     delle parole di ogni articolo\n",
    "    df[\"Score_Nicoli\"] = df[\"Words_labelled_Nicoli\"].apply(lambda x: \n",
    "                                            (sum(list(x.values()))\n",
    "                                             /len(list(x.values())))\n",
    "                                            )"
   ]
  },
  {
   "cell_type": "markdown",
   "metadata": {},
   "source": [
    "## Benchmark Nicoli"
   ]
  },
  {
   "cell_type": "code",
   "execution_count": 149,
   "metadata": {
    "ExecuteTime": {
     "end_time": "2020-09-09T16:13:16.474263Z",
     "start_time": "2020-09-09T16:13:16.231546Z"
    }
   },
   "outputs": [
    {
     "data": {
      "image/png": "[encoded data removed]",
      "text/plain": [
       "<Figure size 460.8x403.2 with 1 Axes>"
      ]
     },
     "metadata": {},
     "output_type": "display_data"
    },
    {
     "data": {
      "image/png": "[encoded data removed]",
      "text/plain": [
       "<Figure size 460.8x403.2 with 1 Axes>"
      ]
     },
     "metadata": {},
     "output_type": "display_data"
    }
   ],
   "source": [
    "for name, df in DFs_bench.items():\n",
    "    sns.scatterplot(x = \"benchmarks\", \n",
    "                    y = \"Score_Nicoli\", \n",
    "                    data = df)\n",
    "    plt.title(\"Nicoli Logistic \"+str(name))\n",
    "    plt.show()"
   ]
  },
  {
   "cell_type": "code",
   "execution_count": null,
   "metadata": {},
   "outputs": [],
   "source": [
    "models_propagation_test = "
   ]
  }
 ],
 "metadata": {
  "kernelspec": {
   "display_name": "Python 3",
   "language": "python",
   "name": "python3"
  },
  "language_info": {
   "codemirror_mode": {
    "name": "ipython",
    "version": 3
   },
   "file_extension": ".py",
   "mimetype": "text/x-python",
   "name": "python",
   "nbconvert_exporter": "python",
   "pygments_lexer": "ipython3",
   "version": "3.7.7"
  },
  "toc": {
   "base_numbering": 1,
   "nav_menu": {},
   "number_sections": true,
   "sideBar": true,
   "skip_h1_title": false,
   "title_cell": "Table of Contents",
   "title_sidebar": "Contents",
   "toc_cell": false,
   "toc_position": {},
   "toc_section_display": true,
   "toc_window_display": false
  }
 },
 "nbformat": 4,
 "nbformat_minor": 4
}
