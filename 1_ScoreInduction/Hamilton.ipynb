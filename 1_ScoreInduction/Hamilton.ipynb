{
 "cells": [
  {
   "cell_type": "code",
   "execution_count": 1,
   "metadata": {},
   "outputs": [],
   "source": [
    "# General purpose\n",
    "import pandas as pd\n",
    "import os\n",
    "import glob\n",
    "import json\n",
    "import numpy as np\n",
    "import string\n",
    "import matplotlib.pyplot as plt\n",
    "from datetime import datetime\n",
    "from ast import literal_eval\n",
    "#word2vec\n",
    "from gensim.models.word2vec import Word2Vec\n",
    "#sklearn related\n",
    "from sklearn.linear_model import LogisticRegression\n",
    "from sklearn.model_selection import train_test_split\n",
    "from sklearn import svm\n",
    "from sklearn.model_selection import cross_val_score\n",
    "\n",
    "\n",
    "#setting the correct working directory\n",
    "os.chdir(\"/home/willinki/DATA-SCIENCE-1/data-semantics/Just-News/1_ScoreInduction\")\n",
    "\n",
    "# Open the pre-prepared lexicon\n",
    "with open(\"../lexicon/enriched_lexicon.csv\", 'r') as file:\n",
    "    enriched_lexicon = pd.read_csv(file, \n",
    "                                   engine='c', \n",
    "                                   index_col=0)\n",
    "enriched_lexicon[\"Vectorized_words\"] = enriched_lexicon[\"Vectorized_words\"].apply(literal_eval)\n",
    "\n",
    "#loading models and selecting\n",
    "slices = {\n",
    "          filename.split('/')[-1].replace(\".model\", \"\") : \n",
    "          Word2Vec.load(filename)\n",
    "          for filename in glob.glob('../models/*.model')\n",
    "         }\n",
    "\n",
    "##########################################################\n",
    "# SELECT WHICH MODELS YOU WANT TO USE                    #\n",
    "##########################################################\n",
    "model_names = [\"New York Times\", \"Breitbart\"]\n",
    "##########################################################\n",
    "\n",
    "models = [slices[name] for name in model_names]"
   ]
  },
  {
   "cell_type": "markdown",
   "metadata": {},
   "source": [
    "# Score induction: Hamilton method\n",
    "\n",
    "We have to define an embedding first"
   ]
  },
  {
   "cell_type": "code",
   "execution_count": 2,
   "metadata": {},
   "outputs": [],
   "source": [
    "import embedding\n",
    "import polarity_induction_methods as pi\n",
    "#vecs is a list of vectors of the embeddings\n",
    "vecs = models[0].wv.vectors\n",
    "#vocab is a list of the words\n",
    "vocab = list(models[0].wv.vocab.keys())\n",
    "\n",
    "###########################################\n",
    "# DEFINING EMBEDDING                      #\n",
    "###########################################\n",
    "NY_Embed = embedding.Embedding(vecs, vocab)\n",
    "\n",
    "###########################################\n",
    "# DEFINING POSITIVE-NEGATIVE SEEDS        #\n",
    "###########################################\n",
    "positive_seed = list(enriched_lexicon[enriched_lexicon[\"Labels\"] == 1][\"Words\"])[:50]\n",
    "negative_seed = list(enriched_lexicon[enriched_lexicon[\"Labels\"] == -1][\"Words\"])"
   ]
  },
  {
   "cell_type": "code",
   "execution_count": null,
   "metadata": {},
   "outputs": [],
   "source": [
    "pi.random_walk(NY_Embed, positive_seed, negative_seed)"
   ]
  },
  {
   "cell_type": "code",
   "execution_count": null,
   "metadata": {},
   "outputs": [],
   "source": []
  }
 ],
 "metadata": {
  "kernelspec": {
   "display_name": "Python 3",
   "language": "python",
   "name": "python3"
  },
  "language_info": {
   "codemirror_mode": {
    "name": "ipython",
    "version": 3
   },
   "file_extension": ".py",
   "mimetype": "text/x-python",
   "name": "python",
   "nbconvert_exporter": "python",
   "pygments_lexer": "ipython3",
   "version": "3.7.6"
  }
 },
 "nbformat": 4,
 "nbformat_minor": 4
}
