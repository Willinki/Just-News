{
 "cells": [
  {
   "cell_type": "code",
   "execution_count": 6,
   "metadata": {
    "ExecuteTime": {
     "end_time": "2020-09-08T17:27:21.210292Z",
     "start_time": "2020-09-08T17:27:21.202561Z"
    }
   },
   "outputs": [],
   "source": [
    "# General purpose\n",
    "import pandas as pd\n",
    "import os\n",
    "import glob\n",
    "import json\n",
    "import numpy as np\n",
    "import string\n",
    "import matplotlib.pyplot as plt\n",
    "from datetime import datetime\n",
    "from ast import literal_eval\n",
    "#word2vec\n",
    "from gensim.models.word2vec import Word2Vec\n",
    "#sklearn related\n",
    "from sklearn.linear_model import LogisticRegression\n",
    "from sklearn.model_selection import train_test_split\n",
    "from sklearn import svm\n",
    "from sklearn.model_selection import cross_val_score\n",
    "\n",
    "import embedding\n",
    "import polarity_induction_methods as pi"
   ]
  },
  {
   "cell_type": "code",
   "execution_count": null,
   "metadata": {},
   "outputs": [],
   "source": []
  },
  {
   "cell_type": "markdown",
   "metadata": {
    "heading_collapsed": true
   },
   "source": [
    "# Hamilton - Lexicon 1\n",
    "\n",
    "We have to define an embedding first"
   ]
  },
  {
   "cell_type": "code",
   "execution_count": null,
   "metadata": {
    "hidden": true
   },
   "outputs": [],
   "source": [
    "#setting the correct working directory\n",
    "# os.chdir(\"./1_ScoreInduction\")\n",
    "\n",
    "# Open the pre-prepared lexicon\n",
    "with open(\"../lexicon/lexicon_refined.csv\", 'r') as file:\n",
    "        lexicon_refined = pd.read_csv(file, engine='c')\n",
    "\n",
    "    # change column name\n",
    "lexicon_refined = lexicon_refined.rename(columns={\"Unnamed: 0\": \"Words\"})\n",
    "\n",
    "#loading models and selecting\n",
    "slices = {\n",
    "          filename.split('/')[-1].replace(\".model\", \"\") : \n",
    "          Word2Vec.load(filename)\n",
    "          for filename in glob.glob('../models/*.model')\n",
    "         }"
   ]
  },
  {
   "cell_type": "markdown",
   "metadata": {
    "heading_collapsed": true,
    "hidden": true
   },
   "source": [
    "## Testing"
   ]
  },
  {
   "cell_type": "code",
   "execution_count": 50,
   "metadata": {
    "ExecuteTime": {
     "end_time": "2020-09-06T12:07:17.861894Z",
     "start_time": "2020-09-06T12:07:17.859609Z"
    },
    "hidden": true
   },
   "outputs": [],
   "source": [
    "import embedding\n",
    "import polarity_induction_methods as pi"
   ]
  },
  {
   "cell_type": "code",
   "execution_count": 51,
   "metadata": {
    "ExecuteTime": {
     "end_time": "2020-09-06T12:07:18.457143Z",
     "start_time": "2020-09-06T12:07:18.452772Z"
    },
    "hidden": true
   },
   "outputs": [],
   "source": [
    "###########################################\n",
    "# DEFINING POSITIVE-NEGATIVE SEEDS        #\n",
    "###########################################\n",
    "positive_seed = list(enriched_lexicon[enriched_lexicon[\"Labels\"] == 1][\"Words\"])[:50]\n",
    "negative_seed = list(enriched_lexicon[enriched_lexicon[\"Labels\"] == -1][\"Words\"])"
   ]
  },
  {
   "cell_type": "code",
   "execution_count": 19,
   "metadata": {
    "ExecuteTime": {
     "end_time": "2020-09-06T10:30:58.215406Z",
     "start_time": "2020-09-06T10:30:58.188841Z"
    },
    "hidden": true
   },
   "outputs": [],
   "source": [
    "\n",
    "#vecs is a list of vectors of the embeddings\n",
    "vecs = models.wv.vectors\n",
    "#vocab is a list of the words\n",
    "vocab = list(models.wv.vocab.keys())\n",
    "\n",
    "###########################################\n",
    "# DEFINING EMBEDDING                      #\n",
    "###########################################\n",
    "NY_Embed = embedding.Embedding(vecs, vocab)"
   ]
  },
  {
   "cell_type": "code",
   "execution_count": 22,
   "metadata": {
    "ExecuteTime": {
     "end_time": "2020-09-06T11:35:03.076535Z",
     "start_time": "2020-09-06T11:01:48.716186Z"
    },
    "hidden": true
   },
   "outputs": [],
   "source": [
    "propagation = pi.random_walk(NY_Embed, positive_seed, negative_seed)"
   ]
  },
  {
   "cell_type": "code",
   "execution_count": 43,
   "metadata": {
    "ExecuteTime": {
     "end_time": "2020-09-06T12:05:56.315037Z",
     "start_time": "2020-09-06T12:05:56.292079Z"
    },
    "hidden": true
   },
   "outputs": [],
   "source": [
    "propagation_df = pd.DataFrame({\"Words\": [word \n",
    "                                         for word in propagation], \n",
    "                               \"Label\": [propagation[word] \n",
    "                                          for word in propagation]})"
   ]
  },
  {
   "cell_type": "code",
   "execution_count": 53,
   "metadata": {
    "ExecuteTime": {
     "end_time": "2020-09-06T12:10:40.127039Z",
     "start_time": "2020-09-06T12:10:39.948806Z"
    },
    "hidden": true
   },
   "outputs": [],
   "source": [
    "with open(\"../propagations/propagation_NYTimes_test.csv\", 'w') as file:\n",
    "    propagation_df.to_csv(file)"
   ]
  },
  {
   "cell_type": "code",
   "execution_count": 60,
   "metadata": {
    "ExecuteTime": {
     "end_time": "2020-09-06T12:13:36.216504Z",
     "start_time": "2020-09-06T12:13:36.164417Z"
    },
    "hidden": true
   },
   "outputs": [],
   "source": [
    "with open(\"../propagations/propagation_NYTimes_test.csv\", 'r') as file:\n",
    "    df = pd.read_csv(file, index_col=0)"
   ]
  },
  {
   "cell_type": "markdown",
   "metadata": {
    "hidden": true
   },
   "source": [
    "## Propagare ALL"
   ]
  },
  {
   "cell_type": "code",
   "execution_count": 7,
   "metadata": {
    "ExecuteTime": {
     "end_time": "2020-09-07T11:05:11.600994Z",
     "start_time": "2020-09-07T11:05:11.594075Z"
    },
    "hidden": true
   },
   "outputs": [],
   "source": [
    "###########################################\n",
    "# DEFINING POSITIVE-NEGATIVE SEEDS        #\n",
    "###########################################\n",
    "positive_seed = list(lexicon_refined[lexicon_refined[\"Valence\"] == 1][\"Words\"])\n",
    "negative_seed = list(lexicon_refined[lexicon_refined[\"Valence\"] == -1][\"Words\"])"
   ]
  },
  {
   "cell_type": "code",
   "execution_count": 13,
   "metadata": {
    "ExecuteTime": {
     "end_time": "2020-09-07T15:03:23.119276Z",
     "start_time": "2020-09-07T11:06:04.832626Z"
    },
    "hidden": true
   },
   "outputs": [],
   "source": [
    "propagations = {sl: pi.random_walk(embedding.Embedding(slices[sl].wv.vectors, \n",
    "                                                       list(slices[sl].wv.vocab.keys())), \n",
    "                              positive_seed, \n",
    "                              negative_seed) \n",
    "                for sl in slices}"
   ]
  },
  {
   "cell_type": "code",
   "execution_count": 14,
   "metadata": {
    "ExecuteTime": {
     "end_time": "2020-09-07T15:03:24.507507Z",
     "start_time": "2020-09-07T15:03:23.154363Z"
    },
    "hidden": true
   },
   "outputs": [],
   "source": [
    "for name in slices:\n",
    "    with open(\"../propagations/propagation_\"+str(name)+\".csv\", 'w') as file:\n",
    "        pd.DataFrame({\n",
    "                     \"Words\": [word \n",
    "                                for word in propagations[name]],\n",
    "                     \"Labels\": [propagations[name][word] \n",
    "                                for word in propagations[name]]\n",
    "                     }).to_csv(file)"
   ]
  },
  {
   "cell_type": "markdown",
   "metadata": {},
   "source": [
    "# Hamilton - Lexicon 2"
   ]
  },
  {
   "cell_type": "code",
   "execution_count": 2,
   "metadata": {
    "ExecuteTime": {
     "end_time": "2020-09-08T13:25:27.137997Z",
     "start_time": "2020-09-08T13:25:23.899197Z"
    }
   },
   "outputs": [],
   "source": [
    "#setting the correct working directory\n",
    "# os.chdir(\"./1_ScoreInduction\")\n",
    "\n",
    "# Open the pre-prepared lexicon\n",
    "with open(\"../lexicon_2/lexicon_refined.csv\", 'r') as file:\n",
    "        lexicon_refined = pd.read_csv(file, engine='c')\n",
    "\n",
    "    # change column name\n",
    "lexicon_refined = lexicon_refined.rename(columns={\"Unnamed: 0\": \"Words\"})\n",
    "\n",
    "#loading models and selecting\n",
    "slices = {\n",
    "          filename.split('/')[-1].replace(\".model\", \"\") : \n",
    "          Word2Vec.load(filename)\n",
    "          for filename in glob.glob('../models/*.model')\n",
    "         }"
   ]
  },
  {
   "cell_type": "code",
   "execution_count": 3,
   "metadata": {
    "ExecuteTime": {
     "end_time": "2020-09-08T13:25:27.331381Z",
     "start_time": "2020-09-08T13:25:27.175785Z"
    }
   },
   "outputs": [],
   "source": [
    "###########################################\n",
    "# DEFINING POSITIVE-NEGATIVE SEEDS        #\n",
    "###########################################\n",
    "positive_seed = list(lexicon_refined[lexicon_refined[\"Valence\"] == 1][\"Words\"])\n",
    "negative_seed = list(lexicon_refined[lexicon_refined[\"Valence\"] == 0][\"Words\"])"
   ]
  },
  {
   "cell_type": "code",
   "execution_count": 4,
   "metadata": {
    "ExecuteTime": {
     "end_time": "2020-09-08T17:27:19.823432Z",
     "start_time": "2020-09-08T13:26:35.222323Z"
    }
   },
   "outputs": [],
   "source": [
    "propagations = {sl: pi.random_walk(embedding.Embedding(slices[sl].wv.vectors, \n",
    "                                                       list(slices[sl].wv.vocab.keys())), \n",
    "                              positive_seed, \n",
    "                              negative_seed) \n",
    "                for sl in slices}"
   ]
  },
  {
   "cell_type": "code",
   "execution_count": 5,
   "metadata": {
    "ExecuteTime": {
     "end_time": "2020-09-08T17:27:21.195926Z",
     "start_time": "2020-09-08T17:27:19.846372Z"
    }
   },
   "outputs": [],
   "source": [
    "for name in slices:\n",
    "    with open(\"../propagations_2/propagation_\"+str(name)+\".csv\", 'w') as file:\n",
    "        pd.DataFrame({\n",
    "                     \"Words\": [word \n",
    "                                for word in propagations[name]],\n",
    "                     \"Labels\": [propagations[name][word] \n",
    "                                for word in propagations[name]]\n",
    "                     }).to_csv(file)"
   ]
  }
 ],
 "metadata": {
  "kernelspec": {
   "display_name": "Python 3",
   "language": "python",
   "name": "python3"
  },
  "language_info": {
   "codemirror_mode": {
    "name": "ipython",
    "version": 3
   },
   "file_extension": ".py",
   "mimetype": "text/x-python",
   "name": "python",
   "nbconvert_exporter": "python",
   "pygments_lexer": "ipython3",
   "version": "3.7.7"
  },
  "toc": {
   "base_numbering": 1,
   "nav_menu": {},
   "number_sections": true,
   "sideBar": true,
   "skip_h1_title": false,
   "title_cell": "Table of Contents",
   "title_sidebar": "Contents",
   "toc_cell": false,
   "toc_position": {},
   "toc_section_display": true,
   "toc_window_display": true
  }
 },
 "nbformat": 4,
 "nbformat_minor": 4
}
